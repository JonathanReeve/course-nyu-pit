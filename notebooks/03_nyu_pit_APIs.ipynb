{
  "nbformat": 4,
  "nbformat_minor": 0,
  "metadata": {
    "colab": {
      "name": "03-nyu-pit-APIs.ipynb",
      "provenance": []
    },
    "kernelspec": {
      "name": "python3",
      "display_name": "Python 3"
    },
    "language_info": {
      "name": "python"
    }
  },
  "cells": [
    {
      "cell_type": "code",
      "metadata": {
        "id": "EReqIU4AQ_-Y"
      },
      "source": [
        "import requests\n",
        "import json\n",
        "import pandas as pd\n",
        "import time\n",
        "import altair as alt"
      ],
      "execution_count": null,
      "outputs": []
    },
    {
      "cell_type": "code",
      "metadata": {
        "id": "pPsw275ri9BD"
      },
      "source": [
        "time.sleep(10)"
      ],
      "execution_count": null,
      "outputs": []
    },
    {
      "cell_type": "markdown",
      "metadata": {
        "id": "Jbdd18yHK2TY"
      },
      "source": [
        "# Dictionaries\n",
        "\n",
        "```\n",
        "{\"apples\": 3}\n",
        "  key      value\n",
        "```"
      ]
    },
    {
      "cell_type": "code",
      "metadata": {
        "id": "gkRY4gc7K3T3"
      },
      "source": [
        "myList = [\"apples\", \"oranges\", \"bananas\"]"
      ],
      "execution_count": null,
      "outputs": []
    },
    {
      "cell_type": "code",
      "metadata": {
        "id": "qT6i8WwqMsq7"
      },
      "source": [
        "fruitInventory = {\"apples\": 3, \"oranges\": 5, \"bananas\": 100}"
      ],
      "execution_count": null,
      "outputs": []
    },
    {
      "cell_type": "code",
      "metadata": {
        "colab": {
          "base_uri": "https://localhost:8080/"
        },
        "id": "1s9IPNRpNBbs",
        "outputId": "8f90ef6a-e496-4b18-f3a8-b77c13e4cb21"
      },
      "source": [
        "type(fruitInventory)"
      ],
      "execution_count": null,
      "outputs": [
        {
          "output_type": "execute_result",
          "data": {
            "text/plain": [
              "dict"
            ]
          },
          "metadata": {
            "tags": []
          },
          "execution_count": 3
        }
      ]
    },
    {
      "cell_type": "code",
      "metadata": {
        "colab": {
          "base_uri": "https://localhost:8080/"
        },
        "id": "-qvjdj2jNVFC",
        "outputId": "da1c3cec-a311-4643-c9d7-cee0f3d387fa"
      },
      "source": [
        "fruitInventory.keys()"
      ],
      "execution_count": null,
      "outputs": [
        {
          "output_type": "execute_result",
          "data": {
            "text/plain": [
              "dict_keys(['apples', 'oranges', 'bananas'])"
            ]
          },
          "metadata": {
            "tags": []
          },
          "execution_count": 4
        }
      ]
    },
    {
      "cell_type": "markdown",
      "metadata": {
        "id": "bC6M4SIkN2KC"
      },
      "source": [
        "Getting data out of a dictionary:"
      ]
    },
    {
      "cell_type": "code",
      "metadata": {
        "colab": {
          "base_uri": "https://localhost:8080/"
        },
        "id": "PXePTavqNfor",
        "outputId": "22913b4a-e242-4352-f63c-02b3e612fd49"
      },
      "source": [
        "fruitInventory['apples']"
      ],
      "execution_count": null,
      "outputs": [
        {
          "output_type": "execute_result",
          "data": {
            "text/plain": [
              "3"
            ]
          },
          "metadata": {
            "tags": []
          },
          "execution_count": 5
        }
      ]
    },
    {
      "cell_type": "code",
      "metadata": {
        "colab": {
          "base_uri": "https://localhost:8080/",
          "height": 165
        },
        "id": "moOV6pz-NmMh",
        "outputId": "bd2dea80-617a-42cc-e201-098d5988491b"
      },
      "source": [
        "fruitInventory['kiwis']"
      ],
      "execution_count": null,
      "outputs": [
        {
          "output_type": "error",
          "ename": "KeyError",
          "evalue": "ignored",
          "traceback": [
            "\u001b[0;31m---------------------------------------------------------------------------\u001b[0m",
            "\u001b[0;31mKeyError\u001b[0m                                  Traceback (most recent call last)",
            "\u001b[0;32m<ipython-input-6-98f92fab9a71>\u001b[0m in \u001b[0;36m<module>\u001b[0;34m()\u001b[0m\n\u001b[0;32m----> 1\u001b[0;31m \u001b[0mfruitInventory\u001b[0m\u001b[0;34m[\u001b[0m\u001b[0;34m'kiwis'\u001b[0m\u001b[0;34m]\u001b[0m\u001b[0;34m\u001b[0m\u001b[0;34m\u001b[0m\u001b[0m\n\u001b[0m",
            "\u001b[0;31mKeyError\u001b[0m: 'kiwis'"
          ]
        }
      ]
    },
    {
      "cell_type": "markdown",
      "metadata": {
        "id": "Qn33hEdVN5he"
      },
      "source": [
        "Put data in a dictionary:"
      ]
    },
    {
      "cell_type": "code",
      "metadata": {
        "id": "FSvkPxV7NtZV"
      },
      "source": [
        "fruitInventory['kiwis'] = 10"
      ],
      "execution_count": null,
      "outputs": []
    },
    {
      "cell_type": "code",
      "metadata": {
        "colab": {
          "base_uri": "https://localhost:8080/"
        },
        "id": "-09PSOMKN-nE",
        "outputId": "cdced253-2f52-4bf7-94df-d023faff8985"
      },
      "source": [
        "fruitInventory"
      ],
      "execution_count": null,
      "outputs": [
        {
          "output_type": "execute_result",
          "data": {
            "text/plain": [
              "{'apples': 3, 'bananas': 100, 'kiwis': 10, 'oranges': 5}"
            ]
          },
          "metadata": {
            "tags": []
          },
          "execution_count": 8
        }
      ]
    },
    {
      "cell_type": "code",
      "metadata": {
        "colab": {
          "base_uri": "https://localhost:8080/"
        },
        "id": "-3kEaTe-N_id",
        "outputId": "77bba72f-6f77-4bb0-bb68-79abd5939388"
      },
      "source": [
        "fruitInventory['kiwis']"
      ],
      "execution_count": null,
      "outputs": [
        {
          "output_type": "execute_result",
          "data": {
            "text/plain": [
              "10"
            ]
          },
          "metadata": {
            "tags": []
          },
          "execution_count": 9
        }
      ]
    },
    {
      "cell_type": "code",
      "metadata": {
        "colab": {
          "base_uri": "https://localhost:8080/"
        },
        "id": "9vdMLuYrOC-8",
        "outputId": "c24e18c8-a16e-4a9d-9861-266bc29f1c15"
      },
      "source": [
        "fruitInventory.items()"
      ],
      "execution_count": null,
      "outputs": [
        {
          "output_type": "execute_result",
          "data": {
            "text/plain": [
              "dict_items([('apples', 3), ('oranges', 5), ('bananas', 100), ('kiwis', 10)])"
            ]
          },
          "metadata": {
            "tags": []
          },
          "execution_count": 10
        }
      ]
    },
    {
      "cell_type": "code",
      "metadata": {
        "colab": {
          "base_uri": "https://localhost:8080/"
        },
        "id": "vunkqpLgOJ3H",
        "outputId": "b539feed-5fbe-4c29-f5a2-232a544cd394"
      },
      "source": [
        "type(('apples', 3))"
      ],
      "execution_count": null,
      "outputs": [
        {
          "output_type": "execute_result",
          "data": {
            "text/plain": [
              "tuple"
            ]
          },
          "metadata": {
            "tags": []
          },
          "execution_count": 12
        }
      ]
    },
    {
      "cell_type": "code",
      "metadata": {
        "colab": {
          "base_uri": "https://localhost:8080/",
          "height": 165
        },
        "id": "nu3DGoPjOQtv",
        "outputId": "687075c2-e5c1-43ff-812a-e29b2bed1a4c"
      },
      "source": [
        "('apples', 3).append(4)"
      ],
      "execution_count": null,
      "outputs": [
        {
          "output_type": "error",
          "ename": "AttributeError",
          "evalue": "ignored",
          "traceback": [
            "\u001b[0;31m---------------------------------------------------------------------------\u001b[0m",
            "\u001b[0;31mAttributeError\u001b[0m                            Traceback (most recent call last)",
            "\u001b[0;32m<ipython-input-13-8a48d9e29fdf>\u001b[0m in \u001b[0;36m<module>\u001b[0;34m()\u001b[0m\n\u001b[0;32m----> 1\u001b[0;31m \u001b[0;34m(\u001b[0m\u001b[0;34m'apples'\u001b[0m\u001b[0;34m,\u001b[0m \u001b[0;36m3\u001b[0m\u001b[0;34m)\u001b[0m\u001b[0;34m.\u001b[0m\u001b[0mappend\u001b[0m\u001b[0;34m(\u001b[0m\u001b[0;36m4\u001b[0m\u001b[0;34m)\u001b[0m\u001b[0;34m\u001b[0m\u001b[0;34m\u001b[0m\u001b[0m\n\u001b[0m",
            "\u001b[0;31mAttributeError\u001b[0m: 'tuple' object has no attribute 'append'"
          ]
        }
      ]
    },
    {
      "cell_type": "code",
      "metadata": {
        "colab": {
          "base_uri": "https://localhost:8080/"
        },
        "id": "JxqQt8h9OYog",
        "outputId": "7480474e-2a12-4687-ecdf-7ae95274b279"
      },
      "source": [
        "for inventoryPair in fruitInventory.items():\n",
        "    # fruitName, numFruit = inventoryPair\n",
        "    fruitName = inventoryPair[0]\n",
        "    numFruit = inventoryPair[1]\n",
        "    print(f\"I have {numFruit} {fruitName} and they are delicious!\")"
      ],
      "execution_count": null,
      "outputs": [
        {
          "output_type": "stream",
          "text": [
            "I have 3 apples and they are delicious!\n",
            "I have 5 oranges and they are delicious!\n",
            "I have 100 bananas and they are delicious!\n",
            "I have 10 kiwis and they are delicious!\n"
          ],
          "name": "stdout"
        }
      ]
    },
    {
      "cell_type": "code",
      "metadata": {
        "id": "SAyszQH2OmTh"
      },
      "source": [
        "data = {\"items\": [{\"fruitName\": \"apples\", \n",
        "                   \"numFruit\": 3}, \n",
        "                  {\"fruitName\": \"oranges\",\n",
        "                   \"numFruit\": 5}\n",
        "                  ], \"numResults\": 1516}"
      ],
      "execution_count": null,
      "outputs": []
    },
    {
      "cell_type": "code",
      "metadata": {
        "colab": {
          "base_uri": "https://localhost:8080/"
        },
        "id": "baFXJUYDP2eV",
        "outputId": "419221de-418a-490e-d895-9c98cef76c2e"
      },
      "source": [
        "data.keys()"
      ],
      "execution_count": null,
      "outputs": [
        {
          "output_type": "execute_result",
          "data": {
            "text/plain": [
              "dict_keys(['items', 'numResults'])"
            ]
          },
          "metadata": {
            "tags": []
          },
          "execution_count": 31
        }
      ]
    },
    {
      "cell_type": "code",
      "metadata": {
        "colab": {
          "base_uri": "https://localhost:8080/"
        },
        "id": "MYfbI8OjR3fe",
        "outputId": "d984103d-e052-45e3-d1ac-9734dbd61c9f"
      },
      "source": [
        "data.values()"
      ],
      "execution_count": null,
      "outputs": [
        {
          "output_type": "execute_result",
          "data": {
            "text/plain": [
              "dict_values([[{'fruitName': 'apples', 'numFruit': 3}, {'fruitName': 'oranges', 'numFruit': 5}], 1516])"
            ]
          },
          "metadata": {
            "tags": []
          },
          "execution_count": 32
        }
      ]
    },
    {
      "cell_type": "code",
      "metadata": {
        "colab": {
          "base_uri": "https://localhost:8080/"
        },
        "id": "xmLKHd4ZR5Cd",
        "outputId": "f0110ea3-d461-4fe3-b6a9-d2a6e3fd97be"
      },
      "source": [
        "data.items()"
      ],
      "execution_count": null,
      "outputs": [
        {
          "output_type": "execute_result",
          "data": {
            "text/plain": [
              "dict_items([('items', [{'fruitName': 'apples', 'numFruit': 3}, {'fruitName': 'oranges', 'numFruit': 5}]), ('numResults', 1516)])"
            ]
          },
          "metadata": {
            "tags": []
          },
          "execution_count": 33
        }
      ]
    },
    {
      "cell_type": "code",
      "metadata": {
        "id": "cBgGJtiCSDlD"
      },
      "source": [
        "data['items']"
      ],
      "execution_count": null,
      "outputs": []
    },
    {
      "cell_type": "code",
      "metadata": {
        "colab": {
          "base_uri": "https://localhost:8080/"
        },
        "id": "H848pgTmQEVv",
        "outputId": "60814fae-aa6c-4e8a-d14d-f06d3af1a471"
      },
      "source": [
        "data.keys()"
      ],
      "execution_count": null,
      "outputs": [
        {
          "output_type": "execute_result",
          "data": {
            "text/plain": [
              "dict_keys(['items', 'numResults'])"
            ]
          },
          "metadata": {
            "tags": []
          },
          "execution_count": 19
        }
      ]
    },
    {
      "cell_type": "code",
      "metadata": {
        "colab": {
          "base_uri": "https://localhost:8080/"
        },
        "id": "CctrMQljQGrP",
        "outputId": "e3375ac5-017f-4557-9188-89c904e4370e"
      },
      "source": [
        "data['items']"
      ],
      "execution_count": null,
      "outputs": [
        {
          "output_type": "execute_result",
          "data": {
            "text/plain": [
              "[{'fruitName': 'apples', 'numFruit': 3},\n",
              " {'fruitName': 'oranges', 'numFruit': 5}]"
            ]
          },
          "metadata": {
            "tags": []
          },
          "execution_count": 20
        }
      ]
    },
    {
      "cell_type": "code",
      "metadata": {
        "colab": {
          "base_uri": "https://localhost:8080/"
        },
        "id": "k7LTThX-QNXq",
        "outputId": "12362145-2108-440f-8fac-2de98dfc39a5"
      },
      "source": [
        "type(data['items'])"
      ],
      "execution_count": null,
      "outputs": [
        {
          "output_type": "execute_result",
          "data": {
            "text/plain": [
              "list"
            ]
          },
          "metadata": {
            "tags": []
          },
          "execution_count": 21
        }
      ]
    },
    {
      "cell_type": "code",
      "metadata": {
        "id": "MHM4WVdkQUNq"
      },
      "source": [
        "fruitDictList = data['items']"
      ],
      "execution_count": null,
      "outputs": []
    },
    {
      "cell_type": "code",
      "metadata": {
        "colab": {
          "base_uri": "https://localhost:8080/"
        },
        "id": "DFK7BHeYQYZ8",
        "outputId": "411313b0-fb23-486b-9b49-29fbd8e532d7"
      },
      "source": [
        "fruitDictList[0]"
      ],
      "execution_count": null,
      "outputs": [
        {
          "output_type": "execute_result",
          "data": {
            "text/plain": [
              "{'fruitName': 'apples', 'numFruit': 3}"
            ]
          },
          "metadata": {
            "tags": []
          },
          "execution_count": 23
        }
      ]
    },
    {
      "cell_type": "code",
      "metadata": {
        "colab": {
          "base_uri": "https://localhost:8080/"
        },
        "id": "wMgwmWGFQcr4",
        "outputId": "06146664-6fc4-4933-af0f-bc1fa39c00ad"
      },
      "source": [
        "for fruitData in fruitDictList: \n",
        "    name = fruitData['fruitName']\n",
        "    num = fruitData['numFruit']\n",
        "    print(f\"I have {num} {name}, and they are delicious!\")"
      ],
      "execution_count": null,
      "outputs": [
        {
          "output_type": "stream",
          "text": [
            "I have 3 apples, and they are delicious!\n",
            "I have 5 oranges, and they are delicious!\n"
          ],
          "name": "stdout"
        }
      ]
    },
    {
      "cell_type": "code",
      "metadata": {
        "colab": {
          "base_uri": "https://localhost:8080/"
        },
        "id": "dtVmCWjtQjxp",
        "outputId": "952c778a-5d64-414a-e090-eb7398b26f92"
      },
      "source": [
        "data['items'][0]['numFruit']"
      ],
      "execution_count": null,
      "outputs": [
        {
          "output_type": "execute_result",
          "data": {
            "text/plain": [
              "3"
            ]
          },
          "metadata": {
            "tags": []
          },
          "execution_count": 30
        }
      ]
    },
    {
      "cell_type": "code",
      "metadata": {
        "id": "jbZO006ETFhV"
      },
      "source": [
        "response = requests.get('http://corpus-db.org/api/id/5.0')"
      ],
      "execution_count": null,
      "outputs": []
    },
    {
      "cell_type": "code",
      "metadata": {
        "colab": {
          "base_uri": "https://localhost:8080/"
        },
        "id": "X3XBbP3OT4oB",
        "outputId": "38592fa2-338c-45f5-9f9d-9fde0d3a1ea0"
      },
      "source": [
        "response"
      ],
      "execution_count": null,
      "outputs": [
        {
          "output_type": "execute_result",
          "data": {
            "text/plain": [
              "<Response [200]>"
            ]
          },
          "metadata": {
            "tags": []
          },
          "execution_count": 38
        }
      ]
    },
    {
      "cell_type": "code",
      "metadata": {
        "colab": {
          "base_uri": "https://localhost:8080/"
        },
        "id": "olEm-QGYT6Rh",
        "outputId": "3af6e776-2729-4ba2-bf17-938082743fb2"
      },
      "source": [
        "response.ok"
      ],
      "execution_count": null,
      "outputs": [
        {
          "output_type": "execute_result",
          "data": {
            "text/plain": [
              "True"
            ]
          },
          "metadata": {
            "tags": []
          },
          "execution_count": 39
        }
      ]
    },
    {
      "cell_type": "code",
      "metadata": {
        "id": "E9OGXNnyZOc_"
      },
      "source": [
        "responseText = response.text"
      ],
      "execution_count": null,
      "outputs": []
    },
    {
      "cell_type": "code",
      "metadata": {
        "id": "Gh88XV-hZVrj"
      },
      "source": [
        "responseDecoded = json.loads(responseText)"
      ],
      "execution_count": null,
      "outputs": []
    },
    {
      "cell_type": "code",
      "metadata": {
        "colab": {
          "base_uri": "https://localhost:8080/"
        },
        "id": "UgewElAMZmXP",
        "outputId": "9abd6eff-68ab-4748-dcaf-d83f3f2208e7"
      },
      "source": [
        "type(responseDecoded)"
      ],
      "execution_count": null,
      "outputs": [
        {
          "output_type": "execute_result",
          "data": {
            "text/plain": [
              "dict"
            ]
          },
          "metadata": {
            "tags": []
          },
          "execution_count": 42
        }
      ]
    },
    {
      "cell_type": "code",
      "metadata": {
        "colab": {
          "base_uri": "https://localhost:8080/"
        },
        "id": "9TikWWgPZpM8",
        "outputId": "455ed20e-0cb2-418c-b231-64ce6b74f0e9"
      },
      "source": [
        "responseDecoded.keys()"
      ],
      "execution_count": null,
      "outputs": [
        {
          "output_type": "execute_result",
          "data": {
            "text/plain": [
              "dict_keys(['lcsh', 'summary', 'series_note', 'creator', 'production_note', 'downloads', 'rights_url', 'wp_publication_date', 'authoryearofdeath', '_repo', 'wp_subjects', 'language_note', 'tableOfContents', 'gutenberg_issued', 'identifiers', 'formats', 'gutenberg_type', '', 'publication_note', 'url', 'edition_identifiers', 'rights', 'authoryearofbirth', 'wp_info', 'languages', 'LCC', 'publication_date', 'subjects', 'wikipedia', 'author', 'id', 'gutenberg_bookshelf', '_version', 'releaseDate', 'alternative_title', 'title', 'type', 'wp_literary_genres', 'contributor', 'edition_note', 'titlepage_image', 'jmdate', 'publisher', 'covers', 'description', 'filename'])"
            ]
          },
          "metadata": {
            "tags": []
          },
          "execution_count": 43
        }
      ]
    },
    {
      "cell_type": "code",
      "metadata": {
        "colab": {
          "base_uri": "https://localhost:8080/",
          "height": 35
        },
        "id": "BpIpdqXaZtCg",
        "outputId": "3d3d5756-dba6-4aaf-d27b-fd88ec8e4331"
      },
      "source": [
        "responseDecoded['lcsh']"
      ],
      "execution_count": null,
      "outputs": [
        {
          "output_type": "execute_result",
          "data": {
            "application/vnd.google.colaboratory.intrinsic+json": {
              "type": "string"
            },
            "text/plain": [
              "\"{'United States. Constitution', 'United States -- Politics and government -- 1783-1789 -- Sources'}\""
            ]
          },
          "metadata": {
            "tags": []
          },
          "execution_count": 44
        }
      ]
    },
    {
      "cell_type": "code",
      "metadata": {
        "colab": {
          "base_uri": "https://localhost:8080/",
          "height": 35
        },
        "id": "NajFtUTVZ03q",
        "outputId": "ffb75839-edab-440b-a31a-77e6d62f07ba"
      },
      "source": [
        "responseDecoded['title']"
      ],
      "execution_count": null,
      "outputs": [
        {
          "output_type": "execute_result",
          "data": {
            "application/vnd.google.colaboratory.intrinsic+json": {
              "type": "string"
            },
            "text/plain": [
              "'The United States Constitution'"
            ]
          },
          "metadata": {
            "tags": []
          },
          "execution_count": 45
        }
      ]
    },
    {
      "cell_type": "code",
      "metadata": {
        "colab": {
          "base_uri": "https://localhost:8080/",
          "height": 165
        },
        "id": "VTxjcKYZZ-TN",
        "outputId": "d7935f1f-b4a5-45dd-9612-9e0707e2d82c"
      },
      "source": [
        "responseDecoded['authoryearofbirth']"
      ],
      "execution_count": null,
      "outputs": [
        {
          "output_type": "error",
          "ename": "KeyError",
          "evalue": "ignored",
          "traceback": [
            "\u001b[0;31m---------------------------------------------------------------------------\u001b[0m",
            "\u001b[0;31mKeyError\u001b[0m                                  Traceback (most recent call last)",
            "\u001b[0;32m<ipython-input-131-a3314f4735e7>\u001b[0m in \u001b[0;36m<module>\u001b[0;34m()\u001b[0m\n\u001b[0;32m----> 1\u001b[0;31m \u001b[0mresponseDecoded\u001b[0m\u001b[0;34m[\u001b[0m\u001b[0;34m'authoryearofbirth'\u001b[0m\u001b[0;34m]\u001b[0m\u001b[0;34m\u001b[0m\u001b[0;34m\u001b[0m\u001b[0m\n\u001b[0m",
            "\u001b[0;31mKeyError\u001b[0m: 'authoryearofbirth'"
          ]
        }
      ]
    },
    {
      "cell_type": "code",
      "metadata": {
        "id": "HqcHHJXLaBM9"
      },
      "source": [
        "def queryGoogleBooks(startIndex):\n",
        "    myParams = {\"q\": \"algorithmic bias\", \"startIndex\": startIndex, \"maxResults\": 40}\n",
        "    response = requests.get('https://www.googleapis.com/books/v1/volumes', \n",
        "                            params=myParams)\n",
        "    if response.ok == False: \n",
        "        print('Whoa! Response not OK!')\n",
        "    return json.loads(response.text)"
      ],
      "execution_count": null,
      "outputs": []
    },
    {
      "cell_type": "code",
      "metadata": {
        "id": "DCNm7YEl__Ab"
      },
      "source": [
        "bookData = queryGoogleBooks(1)"
      ],
      "execution_count": null,
      "outputs": []
    },
    {
      "cell_type": "code",
      "metadata": {
        "colab": {
          "base_uri": "https://localhost:8080/"
        },
        "id": "RS7Rd8VPAY3C",
        "outputId": "9b9a9a87-be75-4116-c5d2-0892a4a3b40d"
      },
      "source": [
        "if 'title' in bookData['items'][0]: \n",
        "    print(\"Yay!\")\n",
        "else: \n",
        "    print('Nay!')"
      ],
      "execution_count": null,
      "outputs": [
        {
          "output_type": "stream",
          "text": [
            "Nay!\n"
          ],
          "name": "stdout"
        }
      ]
    },
    {
      "cell_type": "code",
      "metadata": {
        "id": "s5ziYr73gE4p"
      },
      "source": [
        "publicationDates = []\n",
        "for n in range(1, 2296, 40):\n",
        "    data = queryGoogleBooks(n)\n",
        "    print('Querying...', n)\n",
        "    time.sleep(1)\n",
        "    if 'items' in data: \n",
        "        items = data['items']\n",
        "        for item in items: \n",
        "            if 'volumeInfo' in item and 'publishedDate' in item['volumeInfo']: \n",
        "                pubDate = item['volumeInfo']['publishedDate']\n",
        "                publicationDates.append(pubDate)"
      ],
      "execution_count": null,
      "outputs": []
    },
    {
      "cell_type": "code",
      "metadata": {
        "id": "ALeDDefwjouK"
      },
      "source": [
        "cleanDates = []\n",
        "for date in publicationDates: \n",
        "    cleanDate = date[:4]\n",
        "    cleanDateInt = int(cleanDate)\n",
        "    cleanDates.append(cleanDateInt)"
      ],
      "execution_count": null,
      "outputs": []
    },
    {
      "cell_type": "code",
      "metadata": {
        "colab": {
          "base_uri": "https://localhost:8080/",
          "height": 282
        },
        "id": "HQSCl_Bdj9Jt",
        "outputId": "f6a5b3eb-102d-4283-92c6-adf911e4c160"
      },
      "source": [
        "pd.Series(cleanDates).hist()"
      ],
      "execution_count": null,
      "outputs": [
        {
          "output_type": "execute_result",
          "data": {
            "text/plain": [
              "<matplotlib.axes._subplots.AxesSubplot at 0x7fec20e74550>"
            ]
          },
          "metadata": {
            "tags": []
          },
          "execution_count": 159
        },
        {
          "output_type": "display_data",
          "data": {
            "image/png": "[encoded data removed]",
            "text/plain": [
              "<Figure size 432x288 with 1 Axes>"
            ]
          },
          "metadata": {
            "tags": [],
            "needs_background": "light"
          }
        }
      ]
    },
    {
      "cell_type": "code",
      "metadata": {
        "id": "pWuaV2NMhdKl"
      },
      "source": [
        ""
      ],
      "execution_count": null,
      "outputs": []
    },
    {
      "cell_type": "code",
      "metadata": {
        "colab": {
          "base_uri": "https://localhost:8080/"
        },
        "id": "1DU9XpNDay_K",
        "outputId": "3e4df29e-5b68-4835-a090-9bf0f01625f1"
      },
      "source": [
        "response.ok"
      ],
      "execution_count": null,
      "outputs": [
        {
          "output_type": "execute_result",
          "data": {
            "text/plain": [
              "True"
            ]
          },
          "metadata": {
            "tags": []
          },
          "execution_count": 80
        }
      ]
    },
    {
      "cell_type": "code",
      "metadata": {
        "id": "X7Tj9cHza2AX"
      },
      "source": [
        "bookData = json.loads(response.text)"
      ],
      "execution_count": null,
      "outputs": []
    },
    {
      "cell_type": "code",
      "metadata": {
        "colab": {
          "base_uri": "https://localhost:8080/"
        },
        "id": "dEj458Nea4bx",
        "outputId": "1ae0856b-62ec-40ca-cf8d-347b9f6673ab"
      },
      "source": [
        "type(bookData)"
      ],
      "execution_count": null,
      "outputs": [
        {
          "output_type": "execute_result",
          "data": {
            "text/plain": [
              "dict"
            ]
          },
          "metadata": {
            "tags": []
          },
          "execution_count": 82
        }
      ]
    },
    {
      "cell_type": "code",
      "metadata": {
        "colab": {
          "base_uri": "https://localhost:8080/"
        },
        "id": "sw19vLb2cA2r",
        "outputId": "5cb94e9d-d35d-4c8e-f31e-2dffed80079c"
      },
      "source": [
        "bookData.keys()"
      ],
      "execution_count": null,
      "outputs": [
        {
          "output_type": "execute_result",
          "data": {
            "text/plain": [
              "dict_keys(['kind', 'totalItems', 'items'])"
            ]
          },
          "metadata": {
            "tags": []
          },
          "execution_count": 83
        }
      ]
    },
    {
      "cell_type": "code",
      "metadata": {
        "colab": {
          "base_uri": "https://localhost:8080/"
        },
        "id": "-BdJurWCep67",
        "outputId": "85bf520f-6a06-49e7-b10c-c98c32a9e200"
      },
      "source": [
        "bookData['totalItems']"
      ],
      "execution_count": null,
      "outputs": [
        {
          "output_type": "execute_result",
          "data": {
            "text/plain": [
              "2296"
            ]
          },
          "metadata": {
            "tags": []
          },
          "execution_count": 84
        }
      ]
    },
    {
      "cell_type": "code",
      "metadata": {
        "colab": {
          "base_uri": "https://localhost:8080/"
        },
        "id": "8VYOjIoBbAK0",
        "outputId": "4219cb3f-ca74-4512-acd1-f0724a1c95da"
      },
      "source": [
        "len(bookData['items'])"
      ],
      "execution_count": null,
      "outputs": [
        {
          "output_type": "execute_result",
          "data": {
            "text/plain": [
              "10"
            ]
          },
          "metadata": {
            "tags": []
          },
          "execution_count": 75
        }
      ]
    },
    {
      "cell_type": "code",
      "metadata": {
        "id": "U9XRDBflbCre"
      },
      "source": [
        "items = bookData['items']"
      ],
      "execution_count": null,
      "outputs": []
    },
    {
      "cell_type": "code",
      "metadata": {
        "id": "J3xZUaKxbSVh"
      },
      "source": [
        "items[0]['volumeInfo']"
      ],
      "execution_count": null,
      "outputs": []
    },
    {
      "cell_type": "code",
      "metadata": {
        "colab": {
          "base_uri": "https://localhost:8080/"
        },
        "id": "TVvuHjzSbUlK",
        "outputId": "f431ac3b-2713-4448-f1c0-93c4d702158b"
      },
      "source": [
        "for book in items: \n",
        "    print(book['volumeInfo']['title'])"
      ],
      "execution_count": null,
      "outputs": [
        {
          "output_type": "stream",
          "text": [
            "Start Quilting\n",
            "Paper Piecing All Year Round\n",
            "Fresh Quilting\n",
            "Beginner’s Guide to Free-Motion Quilting\n",
            "A Quilting Life\n",
            "Utility Quilting\n",
            "Quilting Modern\n",
            "Step-by-Step Free-Motion Quilting\n",
            "Rulerwork Quilting Idea Book\n",
            "Country Cottage Quilting\n"
          ],
          "name": "stdout"
        }
      ]
    },
    {
      "cell_type": "code",
      "metadata": {
        "id": "sH3MaXGGdJwz"
      },
      "source": [
        ""
      ],
      "execution_count": null,
      "outputs": []
    },
    {
      "cell_type": "markdown",
      "metadata": {
        "id": "X0cTYbUTez7-"
      },
      "source": [
        "## Functions\n",
        "\n",
        "A function has (optionally) an input. \n",
        "Every function has an output. \n",
        "\n",
        "```\n",
        "def double(number):\n",
        "    return number*2\n",
        "```"
      ]
    },
    {
      "cell_type": "code",
      "metadata": {
        "id": "eNYiTAkRe0-g"
      },
      "source": [
        "def double(number):\n",
        "    doubled = number * 2\n",
        "    return doubled"
      ],
      "execution_count": null,
      "outputs": []
    },
    {
      "cell_type": "code",
      "metadata": {
        "colab": {
          "base_uri": "https://localhost:8080/"
        },
        "id": "7ELR_nvOfbKs",
        "outputId": "0c561e08-9e6b-4830-acb7-f9cce92672aa"
      },
      "source": [
        "double(5)"
      ],
      "execution_count": null,
      "outputs": [
        {
          "output_type": "execute_result",
          "data": {
            "text/plain": [
              "10"
            ]
          },
          "metadata": {
            "tags": []
          },
          "execution_count": 86
        }
      ]
    },
    {
      "cell_type": "code",
      "metadata": {
        "colab": {
          "base_uri": "https://localhost:8080/"
        },
        "id": "QfKLsd9UfesR",
        "outputId": "e7a5e40d-2148-42dc-efc5-b4e56f5d2c62"
      },
      "source": [
        "double(10)"
      ],
      "execution_count": null,
      "outputs": [
        {
          "output_type": "execute_result",
          "data": {
            "text/plain": [
              "20"
            ]
          },
          "metadata": {
            "tags": []
          },
          "execution_count": 87
        }
      ]
    },
    {
      "cell_type": "code",
      "metadata": {
        "colab": {
          "base_uri": "https://localhost:8080/",
          "height": 35
        },
        "id": "u5p6V24ufgMb",
        "outputId": "43ac0550-699b-4483-eb90-d293ad3c3c81"
      },
      "source": [
        "double(\"Jonathan\")"
      ],
      "execution_count": null,
      "outputs": [
        {
          "output_type": "execute_result",
          "data": {
            "application/vnd.google.colaboratory.intrinsic+json": {
              "type": "string"
            },
            "text/plain": [
              "'JonathanJonathan'"
            ]
          },
          "metadata": {
            "tags": []
          },
          "execution_count": 88
        }
      ]
    },
    {
      "cell_type": "code",
      "metadata": {
        "id": "aHZKQwzPfh9V"
      },
      "source": [
        ""
      ],
      "execution_count": null,
      "outputs": []
    },
    {
      "cell_type": "markdown",
      "metadata": {
        "id": "_40Yd4o7EDc_"
      },
      "source": [
        "## API Example 2\n"
      ]
    },
    {
      "cell_type": "code",
      "metadata": {
        "id": "RJKoZalkEDNj"
      },
      "source": [
        "baseURL = \"https://covid-api.mmediagroup.fr/v1/vaccines\""
      ],
      "execution_count": null,
      "outputs": []
    },
    {
      "cell_type": "code",
      "metadata": {
        "id": "CNqOS5YDFiVx"
      },
      "source": [
        "response = requests.get(baseURL)\n",
        "if not response.ok: \n",
        "    print('Request not OK!')\n",
        "else:\n",
        "    responseText = response.text\n",
        "    vaccineData = json.loads(responseText)"
      ],
      "execution_count": null,
      "outputs": []
    },
    {
      "cell_type": "code",
      "metadata": {
        "colab": {
          "base_uri": "https://localhost:8080/"
        },
        "id": "GxdcnVBpU_2W",
        "outputId": "2a7528ce-cb5e-423d-c7aa-6f07d62c14ef"
      },
      "source": [
        "vaccineData['US']['All']"
      ],
      "execution_count": null,
      "outputs": [
        {
          "output_type": "execute_result",
          "data": {
            "text/plain": [
              "{'abbreviation': 'US',\n",
              " 'administered': 319872053,\n",
              " 'capital_city': 'Washington',\n",
              " 'continent': 'North America',\n",
              " 'country': 'US',\n",
              " 'elevation_in_meters': 760,\n",
              " 'iso': 840,\n",
              " 'life_expectancy': '77.1',\n",
              " 'location': 'North America',\n",
              " 'people_partially_vaccinated': 177948892,\n",
              " 'people_vaccinated': 150787303,\n",
              " 'population': 324459463,\n",
              " 'sq_km_area': 9363520,\n",
              " 'updated': '2021/06/24 00:00:00+00'}"
            ]
          },
          "metadata": {
            "tags": []
          },
          "execution_count": 241
        }
      ]
    },
    {
      "cell_type": "code",
      "metadata": {
        "id": "rqhJBe1pGr0W"
      },
      "source": [
        "def getPercentVaccinated(country):\n",
        "    countryData = vaccineData[country]\n",
        "    if 'All' in countryData:\n",
        "        if 'people_vaccinated' in countryData['All']:\n",
        "            numVaccinated = vaccineData[country]['All']['people_vaccinated']\n",
        "            if 'population' in countryData['All']:\n",
        "                population = vaccineData[country]['All']['population']\n",
        "                percentVaccinated = (numVaccinated / population) * 100\n",
        "                return percentVaccinated\n",
        "\n",
        "def getLifeExpectancy(country):\n",
        "    countryData = vaccineData[country]\n",
        "    if 'All' in countryData: \n",
        "        if 'life_expectancy' in countryData['All']:\n",
        "            lifeExpectancy = countryData['All']['life_expectancy']\n",
        "            return lifeExpectancy"
      ],
      "execution_count": null,
      "outputs": []
    },
    {
      "cell_type": "code",
      "metadata": {
        "colab": {
          "base_uri": "https://localhost:8080/",
          "height": 35
        },
        "id": "TEfDlBJFVlDV",
        "outputId": "a822d075-997a-450c-9a31-903bcaa27bad"
      },
      "source": [
        "getLifeExpectancy('Japan')"
      ],
      "execution_count": null,
      "outputs": [
        {
          "output_type": "execute_result",
          "data": {
            "application/vnd.google.colaboratory.intrinsic+json": {
              "type": "string"
            },
            "text/plain": [
              "'80.7'"
            ]
          },
          "metadata": {
            "tags": []
          },
          "execution_count": 248
        }
      ]
    },
    {
      "cell_type": "code",
      "metadata": {
        "colab": {
          "base_uri": "https://localhost:8080/"
        },
        "id": "NTQqz-vMQTUb",
        "outputId": "1440e9b4-61ac-4b99-f247-a1bf56a1deb2"
      },
      "source": [
        "getPercentVaccinated('Iceland')"
      ],
      "execution_count": null,
      "outputs": [
        {
          "output_type": "execute_result",
          "data": {
            "text/plain": [
              "49.694798895604805"
            ]
          },
          "metadata": {
            "tags": []
          },
          "execution_count": 222
        }
      ]
    },
    {
      "cell_type": "code",
      "metadata": {
        "colab": {
          "base_uri": "https://localhost:8080/"
        },
        "id": "8x3j1PLQGvyW",
        "outputId": "870b6fbe-5a87-428e-d653-a8c56efa4533"
      },
      "source": [
        "vaccineData.keys()"
      ],
      "execution_count": null,
      "outputs": [
        {
          "output_type": "execute_result",
          "data": {
            "text/plain": [
              "dict_keys(['Afghanistan', 'Albania', 'Algeria', 'Andorra', 'Angola', 'Antigua and Barbuda', 'Argentina', 'Armenia', 'Australia', 'Austria', 'Azerbaijan', 'Bahamas', 'Bahrain', 'Bangladesh', 'Barbados', 'Belarus', 'Belgium', 'Belize', 'Bhutan', 'Bolivia', 'Bosnia and Herzegovina', 'Botswana', 'Brazil', 'Brunei', 'Bulgaria', 'Burma', 'Cambodia', 'Cameroon', 'Canada', 'Chile', 'China', 'Colombia', 'Costa Rica', \"Cote d'Ivoire\", 'Croatia', 'Cyprus', 'Czechia', 'Denmark', 'Dominica', 'Dominican Republic', 'Ecuador', 'Egypt', 'El Salvador', 'Equatorial Guinea', 'Estonia', 'Eswatini', 'Ethiopia', 'Fiji', 'Finland', 'France', 'Gabon', 'Gambia', 'Georgia', 'Germany', 'Ghana', 'Greece', 'Grenada', 'Guatemala', 'Guinea', 'Guyana', 'Honduras', 'Hungary', 'Iceland', 'India', 'Indonesia', 'Iran', 'Iraq', 'Ireland', 'Israel', 'Italy', 'Jamaica', 'Japan', 'Jordan', 'Kazakhstan', 'Kenya', 'Kosovo', 'Kuwait', 'Kyrgyzstan', 'Laos', 'Latvia', 'Lebanon', 'Liechtenstein', 'Lithuania', 'Luxembourg', 'Malawi', 'Malaysia', 'Maldives', 'Mali', 'Malta', 'Marshall Islands', 'Mauritania', 'Mauritius', 'Mexico', 'Micronesia', 'Moldova', 'Monaco', 'Mongolia', 'Montenegro', 'Morocco', 'Mozambique', 'Namibia', 'Nepal', 'Netherlands', 'New Zealand', 'Nicaragua', 'Nigeria', 'North Macedonia', 'Norway', 'Oman', 'Pakistan', 'Palau', 'Panama', 'Papua New Guinea', 'Paraguay', 'Peru', 'Philippines', 'Poland', 'Portugal', 'Qatar', 'Romania', 'Russia', 'Rwanda', 'Saint Kitts and Nevis', 'Saint Lucia', 'Saint Vincent and the Grenadines', 'San Marino', 'Sao Tome and Principe', 'Saudi Arabia', 'Senegal', 'Serbia', 'Seychelles', 'Sierra Leone', 'Singapore', 'Slovakia', 'Slovenia', 'Solomon Islands', 'South Africa', 'South Sudan', 'Spain', 'Sri Lanka', 'Sudan', 'Suriname', 'Sweden', 'Switzerland', 'Syria', 'Taiwan*', 'Thailand', 'Togo', 'Trinidad and Tobago', 'Tunisia', 'Turkey', 'US', 'US (Aggregate)', 'Uganda', 'Ukraine', 'United Arab Emirates', 'United Kingdom', 'Uruguay', 'Uzbekistan', 'Venezuela', 'Vietnam', 'World', 'Zambia', 'Zimbabwe', 'Global'])"
            ]
          },
          "metadata": {
            "tags": []
          },
          "execution_count": 174
        }
      ]
    },
    {
      "cell_type": "code",
      "metadata": {
        "colab": {
          "base_uri": "https://localhost:8080/"
        },
        "id": "zLHUIc6JHrXG",
        "outputId": "aad4cc41-65fa-42b2-90d5-2868afe4ccba"
      },
      "source": [
        "getPercentVaccinated('Germany')"
      ],
      "execution_count": null,
      "outputs": [
        {
          "output_type": "execute_result",
          "data": {
            "text/plain": [
              "33.90027895776011"
            ]
          },
          "metadata": {
            "tags": []
          },
          "execution_count": 187
        }
      ]
    },
    {
      "cell_type": "code",
      "metadata": {
        "id": "uF3WLogQIKlv"
      },
      "source": [
        "percentVaccinatedByCountry = {}\n",
        "for country in vaccineData:\n",
        "    percentVaccinated = getPercentVaccinated(country)\n",
        "    percentVaccinatedByCountry[country] = percentVaccinated"
      ],
      "execution_count": null,
      "outputs": []
    },
    {
      "cell_type": "code",
      "metadata": {
        "id": "hcK-aavJXeGW"
      },
      "source": [
        "vaccineData"
      ],
      "execution_count": null,
      "outputs": []
    },
    {
      "cell_type": "code",
      "metadata": {
        "id": "cac-jVOTWFfu"
      },
      "source": [
        "def formatData(): \n",
        "    countryData = {}\n",
        "    for country in vaccineData: \n",
        "        percentVaccinated = getPercentVaccinated(country)\n",
        "        lifeExpectancy = getLifeExpectancy(country)\n",
        "        countryData[country] = {\"percentVaccinated\": percentVaccinated, \n",
        "                                \"lifeExpectancy\": lifeExpectancy,\n",
        "                                \"country\": country}\n",
        "    return countryData"
      ],
      "execution_count": null,
      "outputs": []
    },
    {
      "cell_type": "code",
      "metadata": {
        "id": "hcaw5jVNWqN4"
      },
      "source": [
        "data = formatData()"
      ],
      "execution_count": null,
      "outputs": []
    },
    {
      "cell_type": "code",
      "metadata": {
        "id": "XceoIeo4W5my"
      },
      "source": [
        "data"
      ],
      "execution_count": null,
      "outputs": []
    },
    {
      "cell_type": "code",
      "metadata": {
        "colab": {
          "base_uri": "https://localhost:8080/",
          "height": 417
        },
        "id": "ZxyPRQMZYWS5",
        "outputId": "0f69c57f-69da-48df-8048-a8eb119ff97f"
      },
      "source": [
        "df = pd.DataFrame(data)\n",
        "df = df.T\n",
        "df"
      ],
      "execution_count": null,
      "outputs": [
        {
          "output_type": "execute_result",
          "data": {
            "text/html": [
              "<div>\n",
              "<style scoped>\n",
              "    .dataframe tbody tr th:only-of-type {\n",
              "        vertical-align: middle;\n",
              "    }\n",
              "\n",
              "    .dataframe tbody tr th {\n",
              "        vertical-align: top;\n",
              "    }\n",
              "\n",
              "    .dataframe thead th {\n",
              "        text-align: right;\n",
              "    }\n",
              "</style>\n",
              "<table border=\"1\" class=\"dataframe\">\n",
              "  <thead>\n",
              "    <tr style=\"text-align: right;\">\n",
              "      <th></th>\n",
              "      <th>percentVaccinated</th>\n",
              "      <th>lifeExpectancy</th>\n",
              "      <th>country</th>\n",
              "    </tr>\n",
              "  </thead>\n",
              "  <tbody>\n",
              "    <tr>\n",
              "      <th>Afghanistan</th>\n",
              "      <td>0.517201</td>\n",
              "      <td>45.9</td>\n",
              "      <td>Afghanistan</td>\n",
              "    </tr>\n",
              "    <tr>\n",
              "      <th>Albania</th>\n",
              "      <td>12.8193</td>\n",
              "      <td>71.6</td>\n",
              "      <td>Albania</td>\n",
              "    </tr>\n",
              "    <tr>\n",
              "      <th>Algeria</th>\n",
              "      <td>0</td>\n",
              "      <td>69.7</td>\n",
              "      <td>Algeria</td>\n",
              "    </tr>\n",
              "    <tr>\n",
              "      <th>Andorra</th>\n",
              "      <td>31.96</td>\n",
              "      <td>83.5</td>\n",
              "      <td>Andorra</td>\n",
              "    </tr>\n",
              "    <tr>\n",
              "      <th>Angola</th>\n",
              "      <td>1.72505</td>\n",
              "      <td>38.3</td>\n",
              "      <td>Angola</td>\n",
              "    </tr>\n",
              "    <tr>\n",
              "      <th>...</th>\n",
              "      <td>...</td>\n",
              "      <td>...</td>\n",
              "      <td>...</td>\n",
              "    </tr>\n",
              "    <tr>\n",
              "      <th>Vietnam</th>\n",
              "      <td>0.144108</td>\n",
              "      <td>69.3</td>\n",
              "      <td>Vietnam</td>\n",
              "    </tr>\n",
              "    <tr>\n",
              "      <th>World</th>\n",
              "      <td>None</td>\n",
              "      <td>None</td>\n",
              "      <td>World</td>\n",
              "    </tr>\n",
              "    <tr>\n",
              "      <th>Zambia</th>\n",
              "      <td>0.0363575</td>\n",
              "      <td>37.2</td>\n",
              "      <td>Zambia</td>\n",
              "    </tr>\n",
              "    <tr>\n",
              "      <th>Zimbabwe</th>\n",
              "      <td>2.66317</td>\n",
              "      <td>37.8</td>\n",
              "      <td>Zimbabwe</td>\n",
              "    </tr>\n",
              "    <tr>\n",
              "      <th>Global</th>\n",
              "      <td>10.6536</td>\n",
              "      <td>None</td>\n",
              "      <td>Global</td>\n",
              "    </tr>\n",
              "  </tbody>\n",
              "</table>\n",
              "<p>165 rows × 3 columns</p>\n",
              "</div>"
            ],
            "text/plain": [
              "            percentVaccinated lifeExpectancy      country\n",
              "Afghanistan          0.517201           45.9  Afghanistan\n",
              "Albania               12.8193           71.6      Albania\n",
              "Algeria                     0           69.7      Algeria\n",
              "Andorra                 31.96           83.5      Andorra\n",
              "Angola                1.72505           38.3       Angola\n",
              "...                       ...            ...          ...\n",
              "Vietnam              0.144108           69.3      Vietnam\n",
              "World                    None           None        World\n",
              "Zambia              0.0363575           37.2       Zambia\n",
              "Zimbabwe              2.66317           37.8     Zimbabwe\n",
              "Global                10.6536           None       Global\n",
              "\n",
              "[165 rows x 3 columns]"
            ]
          },
          "metadata": {
            "tags": []
          },
          "execution_count": 264
        }
      ]
    },
    {
      "cell_type": "code",
      "metadata": {
        "colab": {
          "base_uri": "https://localhost:8080/",
          "height": 368
        },
        "id": "oEMsiT0YYrbr",
        "outputId": "de89c2a4-1497-41e6-d9e6-6c1bab531837"
      },
      "source": [
        "points = alt.Chart(df).mark_point(\n",
        "            ).encode(x='percentVaccinated:Q', \n",
        "                     y='lifeExpectancy:Q')\n",
        "text = points.mark_text().encode(text='country').interactive()\n",
        "points+text"
      ],
      "execution_count": null,
      "outputs": [
        {
          "output_type": "execute_result",
          "data": {
            "text/plain": [
              "alt.LayerChart(...)"
            ],
            "text/html": [
              "\n",
              "<div id=\"altair-viz-5da77ae709344c4b971fa90b54022220\"></div>\n",
              "<script type=\"text/javascript\">\n",
              "  (function(spec, embedOpt){\n",
              "    let outputDiv = document.currentScript.previousElementSibling;\n",
              "    if (outputDiv.id !== \"altair-viz-5da77ae709344c4b971fa90b54022220\") {\n",
              "      outputDiv = document.getElementById(\"altair-viz-5da77ae709344c4b971fa90b54022220\");\n",
              "    }\n",
              "    const paths = {\n",
              "      \"vega\": \"https://cdn.jsdelivr.net/npm//vega@5?noext\",\n",
              "      \"vega-lib\": \"https://cdn.jsdelivr.net/npm//vega-lib?noext\",\n",
              "      \"vega-lite\": \"https://cdn.jsdelivr.net/npm//vega-lite@4.8.1?noext\",\n",
              "      \"vega-embed\": \"https://cdn.jsdelivr.net/npm//vega-embed@6?noext\",\n",
              "    };\n",
              "\n",
              "    function loadScript(lib) {\n",
              "      return new Promise(function(resolve, reject) {\n",
              "        var s = document.createElement('script');\n",
              "        s.src = paths[lib];\n",
              "        s.async = true;\n",
              "        s.onload = () => resolve(paths[lib]);\n",
              "        s.onerror = () => reject(`Error loading script: ${paths[lib]}`);\n",
              "        document.getElementsByTagName(\"head\")[0].appendChild(s);\n",
              "      });\n",
              "    }\n",
              "\n",
              "    function showError(err) {\n",
              "      outputDiv.innerHTML = `<div class=\"error\" style=\"color:red;\">${err}</div>`;\n",
              "      throw err;\n",
              "    }\n",
              "\n",
              "    function displayChart(vegaEmbed) {\n",
              "      vegaEmbed(outputDiv, spec, embedOpt)\n",
              "        .catch(err => showError(`Javascript Error: ${err.message}<br>This usually means there's a typo in your chart specification. See the javascript console for the full traceback.`));\n",
              "    }\n",
              "\n",
              "    if(typeof define === \"function\" && define.amd) {\n",
              "      requirejs.config({paths});\n",
              "      require([\"vega-embed\"], displayChart, err => showError(`Error loading script: ${err.message}`));\n",
              "    } else if (typeof vegaEmbed === \"function\") {\n",
              "      displayChart(vegaEmbed);\n",
              "    } else {\n",
              "      loadScript(\"vega\")\n",
              "        .then(() => loadScript(\"vega-lite\"))\n",
              "        .then(() => loadScript(\"vega-embed\"))\n",
              "        .catch(showError)\n",
              "        .then(() => displayChart(vegaEmbed));\n",
              "    }\n",
              "  })({\"config\": {\"view\": {\"continuousWidth\": 400, \"continuousHeight\": 300}}, \"layer\": [{\"mark\": \"point\", \"encoding\": {\"x\": {\"type\": \"quantitative\", \"field\": \"percentVaccinated\"}, \"y\": {\"type\": \"quantitative\", \"field\": \"lifeExpectancy\"}}}, {\"mark\": \"text\", \"encoding\": {\"text\": {\"type\": \"nominal\", \"field\": \"country\"}, \"x\": {\"type\": \"quantitative\", \"field\": \"percentVaccinated\"}, \"y\": {\"type\": \"quantitative\", \"field\": \"lifeExpectancy\"}}, \"selection\": {\"selector004\": {\"type\": \"interval\", \"bind\": \"scales\", \"encodings\": [\"x\", \"y\"]}}}], \"data\": {\"name\": \"data-779d22ea6582dc9d693530b8bebd6075\"}, \"$schema\": \"https://vega.github.io/schema/vega-lite/v4.8.1.json\", \"datasets\": {\"data-779d22ea6582dc9d693530b8bebd6075\": [{\"percentVaccinated\": 0.5172011851028429, \"lifeExpectancy\": \"45.9\", \"country\": \"Afghanistan\"}, {\"percentVaccinated\": 12.81928422998259, \"lifeExpectancy\": \"71.6\", \"country\": \"Albania\"}, {\"percentVaccinated\": 0.0, \"lifeExpectancy\": \"69.7\", \"country\": \"Algeria\"}, {\"percentVaccinated\": 31.959981809913597, \"lifeExpectancy\": \"83.5\", \"country\": \"Andorra\"}, {\"percentVaccinated\": 1.725052614317937, \"lifeExpectancy\": \"38.3\", \"country\": \"Angola\"}, {\"percentVaccinated\": 26.507665764811982, \"lifeExpectancy\": \"70.5\", \"country\": \"Antigua and Barbuda\"}, {\"percentVaccinated\": 8.49285202035344, \"lifeExpectancy\": \"75.1\", \"country\": \"Argentina\"}, {\"percentVaccinated\": 0.0, \"lifeExpectancy\": \"66.4\", \"country\": \"Armenia\"}, {\"percentVaccinated\": 4.521401369890858, \"lifeExpectancy\": \"79.8\", \"country\": \"Australia\"}, {\"percentVaccinated\": 30.539595370726623, \"lifeExpectancy\": \"77.7\", \"country\": \"Austria\"}, {\"percentVaccinated\": 11.017229149489259, \"lifeExpectancy\": \"62.9\", \"country\": \"Azerbaijan\"}, {\"percentVaccinated\": 6.33522274579435, \"lifeExpectancy\": \"71.1\", \"country\": \"Bahamas\"}, {\"percentVaccinated\": 62.34918771740819, \"lifeExpectancy\": 73, \"country\": \"Bahrain\"}, {\"percentVaccinated\": 2.5912233267420195, \"lifeExpectancy\": \"60.2\", \"country\": \"Bangladesh\"}, {\"percentVaccinated\": 23.33586495822819, \"lifeExpectancy\": 73, \"country\": \"Barbados\"}, {\"percentVaccinated\": 3.9000720084137255, \"lifeExpectancy\": 68, \"country\": \"Belarus\"}, {\"percentVaccinated\": 31.59369013213016, \"lifeExpectancy\": \"77.8\", \"country\": \"Belgium\"}, {\"percentVaccinated\": 5.673092577419191, \"lifeExpectancy\": \"70.9\", \"country\": \"Belize\"}, {\"percentVaccinated\": 0.0, \"lifeExpectancy\": \"52.4\", \"country\": \"Bhutan\"}, {\"percentVaccinated\": 5.307394404430128, \"lifeExpectancy\": \"63.7\", \"country\": \"Bolivia\"}, {\"percentVaccinated\": 1.8044109851762908, \"lifeExpectancy\": \"71.5\", \"country\": \"Bosnia and Herzegovina\"}, {\"percentVaccinated\": 2.1168052342820336, \"lifeExpectancy\": \"39.3\", \"country\": \"Botswana\"}, {\"percentVaccinated\": 11.748804679830181, \"lifeExpectancy\": \"62.9\", \"country\": \"Brazil\"}, {\"percentVaccinated\": 2.92141069333352, \"lifeExpectancy\": \"73.6\", \"country\": \"Brunei\"}, {\"percentVaccinated\": 10.83654888912822, \"lifeExpectancy\": \"70.9\", \"country\": \"Bulgaria\"}, {\"percentVaccinated\": null, \"lifeExpectancy\": null, \"country\": \"Burma\"}, {\"percentVaccinated\": 17.238985933036364, \"lifeExpectancy\": \"56.5\", \"country\": \"Cambodia\"}, {\"percentVaccinated\": 0.07802948790430689, \"lifeExpectancy\": \"54.8\", \"country\": \"Cameroon\"}, {\"percentVaccinated\": 22.59164493945656, \"lifeExpectancy\": \"79.4\", \"country\": \"Canada\"}, {\"percentVaccinated\": 53.98670132130502, \"lifeExpectancy\": \"75.7\", \"country\": \"Chile\"}, {\"percentVaccinated\": 15.842230856835604, \"lifeExpectancy\": \"71.4\", \"country\": \"China\"}, {\"percentVaccinated\": 10.57621105941503, \"lifeExpectancy\": \"70.3\", \"country\": \"Colombia\"}, {\"percentVaccinated\": 16.20669460791978, \"lifeExpectancy\": \"75.8\", \"country\": \"Costa Rica\"}, {\"percentVaccinated\": 0.0, \"lifeExpectancy\": \"45.2\", \"country\": \"Cote d'Ivoire\"}, {\"percentVaccinated\": 22.266755749634846, \"lifeExpectancy\": \"73.7\", \"country\": \"Croatia\"}, {\"percentVaccinated\": 25.918591057105626, \"lifeExpectancy\": \"76.7\", \"country\": \"Cyprus\"}, {\"percentVaccinated\": 26.178768867303937, \"lifeExpectancy\": \"74.5\", \"country\": \"Czechia\"}, {\"percentVaccinated\": 29.713610291423237, \"lifeExpectancy\": \"76.5\", \"country\": \"Denmark\"}, {\"percentVaccinated\": 24.36117686844775, \"lifeExpectancy\": \"73.4\", \"country\": \"Dominica\"}, {\"percentVaccinated\": 24.245161000308535, \"lifeExpectancy\": \"73.2\", \"country\": \"Dominican Republic\"}, {\"percentVaccinated\": 7.491017366885179, \"lifeExpectancy\": \"71.1\", \"country\": \"Ecuador\"}, {\"percentVaccinated\": 0.7120354318437135, \"lifeExpectancy\": \"63.3\", \"country\": \"Egypt\"}, {\"percentVaccinated\": 16.903321540963706, \"lifeExpectancy\": \"69.7\", \"country\": \"El Salvador\"}, {\"percentVaccinated\": 8.5641667632992, \"lifeExpectancy\": \"53.6\", \"country\": \"Equatorial Guinea\"}, {\"percentVaccinated\": 27.91371927381127, \"lifeExpectancy\": \"69.5\", \"country\": \"Estonia\"}, {\"percentVaccinated\": null, \"lifeExpectancy\": null, \"country\": \"Eswatini\"}, {\"percentVaccinated\": 0.0, \"lifeExpectancy\": \"45.2\", \"country\": \"Ethiopia\"}, {\"percentVaccinated\": 1.9867432650618109, \"lifeExpectancy\": \"67.9\", \"country\": \"Fiji\"}, {\"percentVaccinated\": 15.9960537591131, \"lifeExpectancy\": \"77.4\", \"country\": \"Finland\"}, {\"percentVaccinated\": 26.52871485040185, \"lifeExpectancy\": \"78.8\", \"country\": \"France\"}, {\"percentVaccinated\": 0.6091933533385643, \"lifeExpectancy\": \"50.1\", \"country\": \"Gabon\"}, {\"percentVaccinated\": 0.494580513461121, \"lifeExpectancy\": \"53.2\", \"country\": \"Gambia\"}, {\"percentVaccinated\": 2.16653063436383, \"lifeExpectancy\": \"64.5\", \"country\": \"Georgia\"}, {\"percentVaccinated\": 33.90027895776011, \"lifeExpectancy\": \"77.4\", \"country\": \"Germany\"}, {\"percentVaccinated\": 1.3207806759253233, \"lifeExpectancy\": \"57.4\", \"country\": \"Ghana\"}, {\"percentVaccinated\": 29.76444054910436, \"lifeExpectancy\": \"78.4\", \"country\": \"Greece\"}, {\"percentVaccinated\": 9.397635056805008, \"lifeExpectancy\": \"64.5\", \"country\": \"Grenada\"}, {\"percentVaccinated\": 0.8974545367686397, \"lifeExpectancy\": \"66.2\", \"country\": \"Guatemala\"}, {\"percentVaccinated\": 0.9933416035132328, \"lifeExpectancy\": \"45.6\", \"country\": \"Guinea\"}, {\"percentVaccinated\": 12.680318669578933, \"lifeExpectancy\": 64, \"country\": \"Guyana\"}, {\"percentVaccinated\": 0.6260073456565398, \"lifeExpectancy\": \"69.9\", \"country\": \"Honduras\"}, {\"percentVaccinated\": 47.91182155043239, \"lifeExpectancy\": \"71.4\", \"country\": \"Hungary\"}, {\"percentVaccinated\": 49.694798895604805, \"lifeExpectancy\": \"79.4\", \"country\": \"Iceland\"}, {\"percentVaccinated\": 3.8568238102296752, \"lifeExpectancy\": \"62.5\", \"country\": \"India\"}, {\"percentVaccinated\": 4.788050673427483, \"lifeExpectancy\": \"70.1\", \"country\": \"Indonesia\"}, {\"percentVaccinated\": 1.176647603579118, \"lifeExpectancy\": \"69.7\", \"country\": \"Iran\"}, {\"percentVaccinated\": 0.6705932375340754, \"lifeExpectancy\": \"66.5\", \"country\": \"Iraq\"}, {\"percentVaccinated\": 21.001092686852495, \"lifeExpectancy\": \"76.8\", \"country\": \"Ireland\"}, {\"percentVaccinated\": 61.93501947348877, \"lifeExpectancy\": \"78.6\", \"country\": \"Israel\"}, {\"percentVaccinated\": 28.014427248024337, \"lifeExpectancy\": 79, \"country\": \"Italy\"}, {\"percentVaccinated\": 1.0762208338998835, \"lifeExpectancy\": \"75.2\", \"country\": \"Jamaica\"}, {\"percentVaccinated\": 8.631549181096204, \"lifeExpectancy\": \"80.7\", \"country\": \"Japan\"}, {\"percentVaccinated\": 11.043238686533051, \"lifeExpectancy\": \"77.4\", \"country\": \"Jordan\"}, {\"percentVaccinated\": 9.634810603686486, \"lifeExpectancy\": \"63.2\", \"country\": \"Kazakhstan\"}, {\"percentVaccinated\": 0.3912988732242355, \"lifeExpectancy\": 48, \"country\": \"Kenya\"}, {\"percentVaccinated\": null, \"lifeExpectancy\": null, \"country\": \"Kosovo\"}, {\"percentVaccinated\": 0.9186448151686631, \"lifeExpectancy\": \"76.1\", \"country\": \"Kuwait\"}, {\"percentVaccinated\": 1.2208200436815368, \"lifeExpectancy\": \"63.4\", \"country\": \"Kyrgyzstan\"}, {\"percentVaccinated\": 6.858545149136211, \"lifeExpectancy\": \"53.1\", \"country\": \"Laos\"}, {\"percentVaccinated\": 25.734970533474893, \"lifeExpectancy\": \"68.4\", \"country\": \"Latvia\"}, {\"percentVaccinated\": 6.258609943480792, \"lifeExpectancy\": \"71.3\", \"country\": \"Lebanon\"}, {\"percentVaccinated\": 29.771636517061335, \"lifeExpectancy\": \"78.8\", \"country\": \"Liechtenstein\"}, {\"percentVaccinated\": 32.52292065486696, \"lifeExpectancy\": \"69.1\", \"country\": \"Lithuania\"}, {\"percentVaccinated\": 32.96946636844315, \"lifeExpectancy\": \"77.1\", \"country\": \"Luxembourg\"}, {\"percentVaccinated\": 0.21826212548270593, \"lifeExpectancy\": \"37.6\", \"country\": \"Malawi\"}, {\"percentVaccinated\": 5.4611294669181865, \"lifeExpectancy\": \"70.8\", \"country\": \"Malaysia\"}, {\"percentVaccinated\": 42.218504343043115, \"lifeExpectancy\": \"62.2\", \"country\": \"Maldives\"}, {\"percentVaccinated\": 0.24519495760431195, \"lifeExpectancy\": \"46.7\", \"country\": \"Mali\"}, {\"percentVaccinated\": 68.39045110076944, \"lifeExpectancy\": \"77.9\", \"country\": \"Malta\"}, {\"percentVaccinated\": 0.0, \"lifeExpectancy\": \"65.5\", \"country\": \"Marshall Islands\"}, {\"percentVaccinated\": 0.1579798488026743, \"lifeExpectancy\": \"50.8\", \"country\": \"Mauritania\"}, {\"percentVaccinated\": 17.27092222350447, \"lifeExpectancy\": 71, \"country\": \"Mauritius\"}, {\"percentVaccinated\": 13.52078976380252, \"lifeExpectancy\": \"71.5\", \"country\": \"Mexico\"}, {\"percentVaccinated\": null, \"lifeExpectancy\": null, \"country\": \"Micronesia\"}, {\"percentVaccinated\": 6.044833003061799, \"lifeExpectancy\": \"64.5\", \"country\": \"Moldova\"}, {\"percentVaccinated\": 39.098074686652026, \"lifeExpectancy\": \"78.8\", \"country\": \"Monaco\"}, {\"percentVaccinated\": 55.71669960824502, \"lifeExpectancy\": \"67.3\", \"country\": \"Mongolia\"}, {\"percentVaccinated\": null, \"lifeExpectancy\": null, \"country\": \"Montenegro\"}, {\"percentVaccinated\": 23.96941150399641, \"lifeExpectancy\": \"69.1\", \"country\": \"Morocco\"}, {\"percentVaccinated\": 0.2521197833389745, \"lifeExpectancy\": \"37.5\", \"country\": \"Mozambique\"}, {\"percentVaccinated\": 0.7865674952265259, \"lifeExpectancy\": \"42.5\", \"country\": \"Namibia\"}, {\"percentVaccinated\": 2.4966833302633225, \"lifeExpectancy\": \"57.8\", \"country\": \"Nepal\"}, {\"percentVaccinated\": 29.886572726432792, \"lifeExpectancy\": \"78.3\", \"country\": \"Netherlands\"}, {\"percentVaccinated\": 8.10734711797184, \"lifeExpectancy\": \"77.8\", \"country\": \"New Zealand\"}, {\"percentVaccinated\": 0.0, \"lifeExpectancy\": \"68.7\", \"country\": \"Nicaragua\"}, {\"percentVaccinated\": 0.3564137189491812, \"lifeExpectancy\": \"51.6\", \"country\": \"Nigeria\"}, {\"percentVaccinated\": 10.185918972332015, \"lifeExpectancy\": \"73.8\", \"country\": \"North Macedonia\"}, {\"percentVaccinated\": 27.767458070416406, \"lifeExpectancy\": \"78.7\", \"country\": \"Norway\"}, {\"percentVaccinated\": 4.162836353942033, \"lifeExpectancy\": \"71.8\", \"country\": \"Oman\"}, {\"percentVaccinated\": 1.8102833346669818, \"lifeExpectancy\": \"61.1\", \"country\": \"Pakistan\"}, {\"percentVaccinated\": 0.0, \"lifeExpectancy\": \"68.6\", \"country\": \"Palau\"}, {\"percentVaccinated\": 11.893489146381423, \"lifeExpectancy\": \"75.5\", \"country\": \"Panama\"}, {\"percentVaccinated\": 0.0, \"lifeExpectancy\": \"63.1\", \"country\": \"Papua New Guinea\"}, {\"percentVaccinated\": 3.5284028871446953, \"lifeExpectancy\": \"73.7\", \"country\": \"Paraguay\"}, {\"percentVaccinated\": 8.299523542082452, \"lifeExpectancy\": 70, \"country\": \"Peru\"}, {\"percentVaccinated\": 2.0529748492371525, \"lifeExpectancy\": \"67.5\", \"country\": \"Philippines\"}, {\"percentVaccinated\": 31.265159528593543, \"lifeExpectancy\": \"73.2\", \"country\": \"Poland\"}, {\"percentVaccinated\": 29.18593590051644, \"lifeExpectancy\": \"75.8\", \"country\": \"Portugal\"}, {\"percentVaccinated\": 48.91658908666264, \"lifeExpectancy\": \"72.4\", \"country\": \"Qatar\"}, {\"percentVaccinated\": 22.307011233018077, \"lifeExpectancy\": \"69.9\", \"country\": \"Romania\"}, {\"percentVaccinated\": 10.87115476285903, \"lifeExpectancy\": \"67.2\", \"country\": \"Russia\"}, {\"percentVaccinated\": 1.8689498146645995, \"lifeExpectancy\": \"39.3\", \"country\": \"Rwanda\"}, {\"percentVaccinated\": 20.921492456409794, \"lifeExpectancy\": \"70.7\", \"country\": \"Saint Kitts and Nevis\"}, {\"percentVaccinated\": 11.905906823824115, \"lifeExpectancy\": \"72.3\", \"country\": \"Saint Lucia\"}, {\"percentVaccinated\": 0.0, \"lifeExpectancy\": \"72.3\", \"country\": \"Saint Vincent and the Grenadines\"}, {\"percentVaccinated\": 66.73652694610779, \"lifeExpectancy\": \"81.1\", \"country\": \"San Marino\"}, {\"percentVaccinated\": 5.6497672847934925, \"lifeExpectancy\": \"65.3\", \"country\": \"Sao Tome and Principe\"}, {\"percentVaccinated\": 0.0, \"lifeExpectancy\": \"67.8\", \"country\": \"Saudi Arabia\"}, {\"percentVaccinated\": 0.9610823385687086, \"lifeExpectancy\": \"62.2\", \"country\": \"Senegal\"}, {\"percentVaccinated\": null, \"lifeExpectancy\": null, \"country\": \"Serbia\"}, {\"percentVaccinated\": 70.7389932127891, \"lifeExpectancy\": \"70.4\", \"country\": \"Seychelles\"}, {\"percentVaccinated\": 0.2007354034794842, \"lifeExpectancy\": \"45.3\", \"country\": \"Sierra Leone\"}, {\"percentVaccinated\": 36.03945036858601, \"lifeExpectancy\": \"80.1\", \"country\": \"Singapore\"}, {\"percentVaccinated\": 26.08374014393698, \"lifeExpectancy\": \"73.7\", \"country\": \"Slovakia\"}, {\"percentVaccinated\": 29.259856844502053, \"lifeExpectancy\": \"74.9\", \"country\": \"Slovenia\"}, {\"percentVaccinated\": 0.5690749710064563, \"lifeExpectancy\": \"71.3\", \"country\": \"Solomon Islands\"}, {\"percentVaccinated\": 0.845895728622218, \"lifeExpectancy\": \"51.1\", \"country\": \"South Africa\"}, {\"percentVaccinated\": 0.01647620166934458, \"lifeExpectancy\": null, \"country\": \"South Sudan\"}, {\"percentVaccinated\": 32.658096750031135, \"lifeExpectancy\": \"78.8\", \"country\": \"Spain\"}, {\"percentVaccinated\": 4.034039125604609, \"lifeExpectancy\": null, \"country\": \"Sri Lanka\"}, {\"percentVaccinated\": 0.2532557774059027, \"lifeExpectancy\": \"56.6\", \"country\": \"Sudan\"}, {\"percentVaccinated\": 5.792311706383719, \"lifeExpectancy\": \"71.4\", \"country\": \"Suriname\"}, {\"percentVaccinated\": 26.669899535865323, \"lifeExpectancy\": \"79.6\", \"country\": \"Sweden\"}, {\"percentVaccinated\": 31.109160506630186, \"lifeExpectancy\": \"79.6\", \"country\": \"Switzerland\"}, {\"percentVaccinated\": 0.03260559955879265, \"lifeExpectancy\": \"68.5\", \"country\": \"Syria\"}, {\"percentVaccinated\": null, \"lifeExpectancy\": null, \"country\": \"Taiwan*\"}, {\"percentVaccinated\": 3.3370466285481633, \"lifeExpectancy\": \"68.6\", \"country\": \"Thailand\"}, {\"percentVaccinated\": 0.9805719485786438, \"lifeExpectancy\": \"54.7\", \"country\": \"Togo\"}, {\"percentVaccinated\": 3.766493198210536, \"lifeExpectancy\": 68, \"country\": \"Trinidad and Tobago\"}, {\"percentVaccinated\": 3.7114662368876097, \"lifeExpectancy\": \"73.7\", \"country\": \"Tunisia\"}, {\"percentVaccinated\": 18.184943170489028, \"lifeExpectancy\": 71, \"country\": \"Turkey\"}, {\"percentVaccinated\": 46.473387339607356, \"lifeExpectancy\": \"77.1\", \"country\": \"US\"}, {\"percentVaccinated\": null, \"lifeExpectancy\": null, \"country\": \"US (Aggregate)\"}, {\"percentVaccinated\": 0.009633026260110186, \"lifeExpectancy\": \"42.9\", \"country\": \"Uganda\"}, {\"percentVaccinated\": 0.9840275909246844, \"lifeExpectancy\": 66, \"country\": \"Ukraine\"}, {\"percentVaccinated\": 40.81342362272071, \"lifeExpectancy\": \"74.1\", \"country\": \"United Arab Emirates\"}, {\"percentVaccinated\": 47.95913394942113, \"lifeExpectancy\": \"77.7\", \"country\": \"United Kingdom\"}, {\"percentVaccinated\": 42.97070948144934, \"lifeExpectancy\": \"75.2\", \"country\": \"Uruguay\"}, {\"percentVaccinated\": 3.1428983203439884, \"lifeExpectancy\": \"63.7\", \"country\": \"Uzbekistan\"}, {\"percentVaccinated\": 0.7000579946908824, \"lifeExpectancy\": \"73.1\", \"country\": \"Venezuela\"}, {\"percentVaccinated\": 0.14410806692010114, \"lifeExpectancy\": \"69.3\", \"country\": \"Vietnam\"}, {\"percentVaccinated\": null, \"lifeExpectancy\": null, \"country\": \"World\"}, {\"percentVaccinated\": 0.036357509858647385, \"lifeExpectancy\": \"37.2\", \"country\": \"Zambia\"}, {\"percentVaccinated\": 2.6631733614423894, \"lifeExpectancy\": \"37.8\", \"country\": \"Zimbabwe\"}, {\"percentVaccinated\": 10.653607998088983, \"lifeExpectancy\": null, \"country\": \"Global\"}]}}, {\"mode\": \"vega-lite\"});\n",
              "</script>"
            ]
          },
          "metadata": {
            "tags": []
          },
          "execution_count": 274
        }
      ]
    },
    {
      "cell_type": "code",
      "metadata": {
        "id": "_wLHxbREQs3n"
      },
      "source": [
        "percentVaccinatedSeries = pd.Series(percentVaccinatedByCountry)"
      ],
      "execution_count": null,
      "outputs": []
    },
    {
      "cell_type": "code",
      "metadata": {
        "id": "RvGdePSoJHhF"
      },
      "source": [
        "df = percentVaccinatedSeries.to_frame()\n",
        "df.columns=['percentVaccinated']"
      ],
      "execution_count": null,
      "outputs": []
    },
    {
      "cell_type": "code",
      "metadata": {
        "id": "am_Wj2PESAz-"
      },
      "source": [
        "df['country'] = df.index\n",
        "df"
      ],
      "execution_count": null,
      "outputs": []
    },
    {
      "cell_type": "code",
      "metadata": {
        "colab": {
          "base_uri": "https://localhost:8080/",
          "height": 417
        },
        "id": "19TUbT1OSrwq",
        "outputId": "f8a21be6-d870-4fb0-8342-b0999faba210"
      },
      "source": [
        "df"
      ],
      "execution_count": null,
      "outputs": [
        {
          "output_type": "execute_result",
          "data": {
            "text/html": [
              "<div>\n",
              "<style scoped>\n",
              "    .dataframe tbody tr th:only-of-type {\n",
              "        vertical-align: middle;\n",
              "    }\n",
              "\n",
              "    .dataframe tbody tr th {\n",
              "        vertical-align: top;\n",
              "    }\n",
              "\n",
              "    .dataframe thead th {\n",
              "        text-align: right;\n",
              "    }\n",
              "</style>\n",
              "<table border=\"1\" class=\"dataframe\">\n",
              "  <thead>\n",
              "    <tr style=\"text-align: right;\">\n",
              "      <th></th>\n",
              "      <th>percentVaccinated</th>\n",
              "      <th>country</th>\n",
              "    </tr>\n",
              "  </thead>\n",
              "  <tbody>\n",
              "    <tr>\n",
              "      <th>Afghanistan</th>\n",
              "      <td>0.517201</td>\n",
              "      <td>Afghanistan</td>\n",
              "    </tr>\n",
              "    <tr>\n",
              "      <th>Albania</th>\n",
              "      <td>12.819284</td>\n",
              "      <td>Albania</td>\n",
              "    </tr>\n",
              "    <tr>\n",
              "      <th>Algeria</th>\n",
              "      <td>0.000000</td>\n",
              "      <td>Algeria</td>\n",
              "    </tr>\n",
              "    <tr>\n",
              "      <th>Andorra</th>\n",
              "      <td>31.959982</td>\n",
              "      <td>Andorra</td>\n",
              "    </tr>\n",
              "    <tr>\n",
              "      <th>Angola</th>\n",
              "      <td>1.725053</td>\n",
              "      <td>Angola</td>\n",
              "    </tr>\n",
              "    <tr>\n",
              "      <th>...</th>\n",
              "      <td>...</td>\n",
              "      <td>...</td>\n",
              "    </tr>\n",
              "    <tr>\n",
              "      <th>Vietnam</th>\n",
              "      <td>0.144108</td>\n",
              "      <td>Vietnam</td>\n",
              "    </tr>\n",
              "    <tr>\n",
              "      <th>World</th>\n",
              "      <td>NaN</td>\n",
              "      <td>World</td>\n",
              "    </tr>\n",
              "    <tr>\n",
              "      <th>Zambia</th>\n",
              "      <td>0.036358</td>\n",
              "      <td>Zambia</td>\n",
              "    </tr>\n",
              "    <tr>\n",
              "      <th>Zimbabwe</th>\n",
              "      <td>2.663173</td>\n",
              "      <td>Zimbabwe</td>\n",
              "    </tr>\n",
              "    <tr>\n",
              "      <th>Global</th>\n",
              "      <td>10.653608</td>\n",
              "      <td>Global</td>\n",
              "    </tr>\n",
              "  </tbody>\n",
              "</table>\n",
              "<p>165 rows × 2 columns</p>\n",
              "</div>"
            ],
            "text/plain": [
              "             percentVaccinated      country\n",
              "Afghanistan           0.517201  Afghanistan\n",
              "Albania              12.819284      Albania\n",
              "Algeria               0.000000      Algeria\n",
              "Andorra              31.959982      Andorra\n",
              "Angola                1.725053       Angola\n",
              "...                        ...          ...\n",
              "Vietnam               0.144108      Vietnam\n",
              "World                      NaN        World\n",
              "Zambia                0.036358       Zambia\n",
              "Zimbabwe              2.663173     Zimbabwe\n",
              "Global               10.653608       Global\n",
              "\n",
              "[165 rows x 2 columns]"
            ]
          },
          "metadata": {
            "tags": []
          },
          "execution_count": 236
        }
      ]
    },
    {
      "cell_type": "code",
      "metadata": {
        "colab": {
          "base_uri": "https://localhost:8080/",
          "height": 1000
        },
        "id": "I-U0Wl0STAQo",
        "outputId": "347c0f39-42fb-49aa-fc11-80f9d7d2e668"
      },
      "source": [
        "alt.Chart(df).mark_bar().encode(x='percentVaccinated', y='country').interactive()"
      ],
      "execution_count": null,
      "outputs": [
        {
          "output_type": "execute_result",
          "data": {
            "text/plain": [
              "alt.Chart(...)"
            ],
            "text/html": [
              "\n",
              "<div id=\"altair-viz-114f79d3edf342a6af1160a72b920ddc\"></div>\n",
              "<script type=\"text/javascript\">\n",
              "  (function(spec, embedOpt){\n",
              "    let outputDiv = document.currentScript.previousElementSibling;\n",
              "    if (outputDiv.id !== \"altair-viz-114f79d3edf342a6af1160a72b920ddc\") {\n",
              "      outputDiv = document.getElementById(\"altair-viz-114f79d3edf342a6af1160a72b920ddc\");\n",
              "    }\n",
              "    const paths = {\n",
              "      \"vega\": \"https://cdn.jsdelivr.net/npm//vega@5?noext\",\n",
              "      \"vega-lib\": \"https://cdn.jsdelivr.net/npm//vega-lib?noext\",\n",
              "      \"vega-lite\": \"https://cdn.jsdelivr.net/npm//vega-lite@4.8.1?noext\",\n",
              "      \"vega-embed\": \"https://cdn.jsdelivr.net/npm//vega-embed@6?noext\",\n",
              "    };\n",
              "\n",
              "    function loadScript(lib) {\n",
              "      return new Promise(function(resolve, reject) {\n",
              "        var s = document.createElement('script');\n",
              "        s.src = paths[lib];\n",
              "        s.async = true;\n",
              "        s.onload = () => resolve(paths[lib]);\n",
              "        s.onerror = () => reject(`Error loading script: ${paths[lib]}`);\n",
              "        document.getElementsByTagName(\"head\")[0].appendChild(s);\n",
              "      });\n",
              "    }\n",
              "\n",
              "    function showError(err) {\n",
              "      outputDiv.innerHTML = `<div class=\"error\" style=\"color:red;\">${err}</div>`;\n",
              "      throw err;\n",
              "    }\n",
              "\n",
              "    function displayChart(vegaEmbed) {\n",
              "      vegaEmbed(outputDiv, spec, embedOpt)\n",
              "        .catch(err => showError(`Javascript Error: ${err.message}<br>This usually means there's a typo in your chart specification. See the javascript console for the full traceback.`));\n",
              "    }\n",
              "\n",
              "    if(typeof define === \"function\" && define.amd) {\n",
              "      requirejs.config({paths});\n",
              "      require([\"vega-embed\"], displayChart, err => showError(`Error loading script: ${err.message}`));\n",
              "    } else if (typeof vegaEmbed === \"function\") {\n",
              "      displayChart(vegaEmbed);\n",
              "    } else {\n",
              "      loadScript(\"vega\")\n",
              "        .then(() => loadScript(\"vega-lite\"))\n",
              "        .then(() => loadScript(\"vega-embed\"))\n",
              "        .catch(showError)\n",
              "        .then(() => displayChart(vegaEmbed));\n",
              "    }\n",
              "  })({\"config\": {\"view\": {\"continuousWidth\": 400, \"continuousHeight\": 300}}, \"data\": {\"name\": \"data-7e0df01042436b0fd0a72a40762d57e1\"}, \"mark\": \"bar\", \"encoding\": {\"x\": {\"type\": \"quantitative\", \"field\": \"percentVaccinated\"}, \"y\": {\"type\": \"nominal\", \"field\": \"country\"}}, \"selection\": {\"selector002\": {\"type\": \"interval\", \"bind\": \"scales\", \"encodings\": [\"x\", \"y\"]}}, \"$schema\": \"https://vega.github.io/schema/vega-lite/v4.8.1.json\", \"datasets\": {\"data-7e0df01042436b0fd0a72a40762d57e1\": [{\"percentVaccinated\": 0.5172011851028429, \"country\": \"Afghanistan\"}, {\"percentVaccinated\": 12.81928422998259, \"country\": \"Albania\"}, {\"percentVaccinated\": 0.0, \"country\": \"Algeria\"}, {\"percentVaccinated\": 31.959981809913597, \"country\": \"Andorra\"}, {\"percentVaccinated\": 1.725052614317937, \"country\": \"Angola\"}, {\"percentVaccinated\": 26.507665764811982, \"country\": \"Antigua and Barbuda\"}, {\"percentVaccinated\": 8.49285202035344, \"country\": \"Argentina\"}, {\"percentVaccinated\": 0.0, \"country\": \"Armenia\"}, {\"percentVaccinated\": 4.521401369890858, \"country\": \"Australia\"}, {\"percentVaccinated\": 30.539595370726623, \"country\": \"Austria\"}, {\"percentVaccinated\": 11.017229149489259, \"country\": \"Azerbaijan\"}, {\"percentVaccinated\": 6.33522274579435, \"country\": \"Bahamas\"}, {\"percentVaccinated\": 62.34918771740819, \"country\": \"Bahrain\"}, {\"percentVaccinated\": 2.5912233267420195, \"country\": \"Bangladesh\"}, {\"percentVaccinated\": 23.33586495822819, \"country\": \"Barbados\"}, {\"percentVaccinated\": 3.9000720084137255, \"country\": \"Belarus\"}, {\"percentVaccinated\": 31.59369013213016, \"country\": \"Belgium\"}, {\"percentVaccinated\": 5.673092577419191, \"country\": \"Belize\"}, {\"percentVaccinated\": 0.0, \"country\": \"Bhutan\"}, {\"percentVaccinated\": 5.307394404430128, \"country\": \"Bolivia\"}, {\"percentVaccinated\": 1.8044109851762908, \"country\": \"Bosnia and Herzegovina\"}, {\"percentVaccinated\": 2.1168052342820336, \"country\": \"Botswana\"}, {\"percentVaccinated\": 11.748804679830181, \"country\": \"Brazil\"}, {\"percentVaccinated\": 2.92141069333352, \"country\": \"Brunei\"}, {\"percentVaccinated\": 10.83654888912822, \"country\": \"Bulgaria\"}, {\"percentVaccinated\": null, \"country\": \"Burma\"}, {\"percentVaccinated\": 17.238985933036364, \"country\": \"Cambodia\"}, {\"percentVaccinated\": 0.07802948790430689, \"country\": \"Cameroon\"}, {\"percentVaccinated\": 22.59164493945656, \"country\": \"Canada\"}, {\"percentVaccinated\": 53.98670132130502, \"country\": \"Chile\"}, {\"percentVaccinated\": 15.842230856835604, \"country\": \"China\"}, {\"percentVaccinated\": 10.57621105941503, \"country\": \"Colombia\"}, {\"percentVaccinated\": 16.20669460791978, \"country\": \"Costa Rica\"}, {\"percentVaccinated\": 0.0, \"country\": \"Cote d'Ivoire\"}, {\"percentVaccinated\": 22.266755749634846, \"country\": \"Croatia\"}, {\"percentVaccinated\": 25.918591057105626, \"country\": \"Cyprus\"}, {\"percentVaccinated\": 26.178768867303937, \"country\": \"Czechia\"}, {\"percentVaccinated\": 29.713610291423237, \"country\": \"Denmark\"}, {\"percentVaccinated\": 24.36117686844775, \"country\": \"Dominica\"}, {\"percentVaccinated\": 24.245161000308535, \"country\": \"Dominican Republic\"}, {\"percentVaccinated\": 7.491017366885179, \"country\": \"Ecuador\"}, {\"percentVaccinated\": 0.7120354318437135, \"country\": \"Egypt\"}, {\"percentVaccinated\": 16.903321540963706, \"country\": \"El Salvador\"}, {\"percentVaccinated\": 8.5641667632992, \"country\": \"Equatorial Guinea\"}, {\"percentVaccinated\": 27.91371927381127, \"country\": \"Estonia\"}, {\"percentVaccinated\": null, \"country\": \"Eswatini\"}, {\"percentVaccinated\": 0.0, \"country\": \"Ethiopia\"}, {\"percentVaccinated\": 1.9867432650618109, \"country\": \"Fiji\"}, {\"percentVaccinated\": 15.9960537591131, \"country\": \"Finland\"}, {\"percentVaccinated\": 26.52871485040185, \"country\": \"France\"}, {\"percentVaccinated\": 0.6091933533385643, \"country\": \"Gabon\"}, {\"percentVaccinated\": 0.494580513461121, \"country\": \"Gambia\"}, {\"percentVaccinated\": 2.16653063436383, \"country\": \"Georgia\"}, {\"percentVaccinated\": 33.90027895776011, \"country\": \"Germany\"}, {\"percentVaccinated\": 1.3207806759253233, \"country\": \"Ghana\"}, {\"percentVaccinated\": 29.76444054910436, \"country\": \"Greece\"}, {\"percentVaccinated\": 9.397635056805008, \"country\": \"Grenada\"}, {\"percentVaccinated\": 0.8974545367686397, \"country\": \"Guatemala\"}, {\"percentVaccinated\": 0.9933416035132328, \"country\": \"Guinea\"}, {\"percentVaccinated\": 12.680318669578933, \"country\": \"Guyana\"}, {\"percentVaccinated\": 0.6260073456565398, \"country\": \"Honduras\"}, {\"percentVaccinated\": 47.91182155043239, \"country\": \"Hungary\"}, {\"percentVaccinated\": 49.694798895604805, \"country\": \"Iceland\"}, {\"percentVaccinated\": 3.8568238102296752, \"country\": \"India\"}, {\"percentVaccinated\": 4.788050673427483, \"country\": \"Indonesia\"}, {\"percentVaccinated\": 1.176647603579118, \"country\": \"Iran\"}, {\"percentVaccinated\": 0.6705932375340754, \"country\": \"Iraq\"}, {\"percentVaccinated\": 21.001092686852495, \"country\": \"Ireland\"}, {\"percentVaccinated\": 61.93501947348877, \"country\": \"Israel\"}, {\"percentVaccinated\": 28.014427248024337, \"country\": \"Italy\"}, {\"percentVaccinated\": 1.0762208338998835, \"country\": \"Jamaica\"}, {\"percentVaccinated\": 8.631549181096204, \"country\": \"Japan\"}, {\"percentVaccinated\": 11.043238686533051, \"country\": \"Jordan\"}, {\"percentVaccinated\": 9.634810603686486, \"country\": \"Kazakhstan\"}, {\"percentVaccinated\": 0.3912988732242355, \"country\": \"Kenya\"}, {\"percentVaccinated\": null, \"country\": \"Kosovo\"}, {\"percentVaccinated\": 0.9186448151686631, \"country\": \"Kuwait\"}, {\"percentVaccinated\": 1.2208200436815368, \"country\": \"Kyrgyzstan\"}, {\"percentVaccinated\": 6.858545149136211, \"country\": \"Laos\"}, {\"percentVaccinated\": 25.734970533474893, \"country\": \"Latvia\"}, {\"percentVaccinated\": 6.258609943480792, \"country\": \"Lebanon\"}, {\"percentVaccinated\": 29.771636517061335, \"country\": \"Liechtenstein\"}, {\"percentVaccinated\": 32.52292065486696, \"country\": \"Lithuania\"}, {\"percentVaccinated\": 32.96946636844315, \"country\": \"Luxembourg\"}, {\"percentVaccinated\": 0.21826212548270593, \"country\": \"Malawi\"}, {\"percentVaccinated\": 5.4611294669181865, \"country\": \"Malaysia\"}, {\"percentVaccinated\": 42.218504343043115, \"country\": \"Maldives\"}, {\"percentVaccinated\": 0.24519495760431195, \"country\": \"Mali\"}, {\"percentVaccinated\": 68.39045110076944, \"country\": \"Malta\"}, {\"percentVaccinated\": 0.0, \"country\": \"Marshall Islands\"}, {\"percentVaccinated\": 0.1579798488026743, \"country\": \"Mauritania\"}, {\"percentVaccinated\": 17.27092222350447, \"country\": \"Mauritius\"}, {\"percentVaccinated\": 13.52078976380252, \"country\": \"Mexico\"}, {\"percentVaccinated\": null, \"country\": \"Micronesia\"}, {\"percentVaccinated\": 6.044833003061799, \"country\": \"Moldova\"}, {\"percentVaccinated\": 39.098074686652026, \"country\": \"Monaco\"}, {\"percentVaccinated\": 55.71669960824502, \"country\": \"Mongolia\"}, {\"percentVaccinated\": null, \"country\": \"Montenegro\"}, {\"percentVaccinated\": 23.96941150399641, \"country\": \"Morocco\"}, {\"percentVaccinated\": 0.2521197833389745, \"country\": \"Mozambique\"}, {\"percentVaccinated\": 0.7865674952265259, \"country\": \"Namibia\"}, {\"percentVaccinated\": 2.4966833302633225, \"country\": \"Nepal\"}, {\"percentVaccinated\": 29.886572726432792, \"country\": \"Netherlands\"}, {\"percentVaccinated\": 8.10734711797184, \"country\": \"New Zealand\"}, {\"percentVaccinated\": 0.0, \"country\": \"Nicaragua\"}, {\"percentVaccinated\": 0.3564137189491812, \"country\": \"Nigeria\"}, {\"percentVaccinated\": 10.185918972332015, \"country\": \"North Macedonia\"}, {\"percentVaccinated\": 27.767458070416406, \"country\": \"Norway\"}, {\"percentVaccinated\": 4.162836353942033, \"country\": \"Oman\"}, {\"percentVaccinated\": 1.8102833346669818, \"country\": \"Pakistan\"}, {\"percentVaccinated\": 0.0, \"country\": \"Palau\"}, {\"percentVaccinated\": 11.893489146381423, \"country\": \"Panama\"}, {\"percentVaccinated\": 0.0, \"country\": \"Papua New Guinea\"}, {\"percentVaccinated\": 3.5284028871446953, \"country\": \"Paraguay\"}, {\"percentVaccinated\": 8.299523542082452, \"country\": \"Peru\"}, {\"percentVaccinated\": 2.0529748492371525, \"country\": \"Philippines\"}, {\"percentVaccinated\": 31.265159528593543, \"country\": \"Poland\"}, {\"percentVaccinated\": 29.18593590051644, \"country\": \"Portugal\"}, {\"percentVaccinated\": 48.91658908666264, \"country\": \"Qatar\"}, {\"percentVaccinated\": 22.307011233018077, \"country\": \"Romania\"}, {\"percentVaccinated\": 10.87115476285903, \"country\": \"Russia\"}, {\"percentVaccinated\": 1.8689498146645995, \"country\": \"Rwanda\"}, {\"percentVaccinated\": 20.921492456409794, \"country\": \"Saint Kitts and Nevis\"}, {\"percentVaccinated\": 11.905906823824115, \"country\": \"Saint Lucia\"}, {\"percentVaccinated\": 0.0, \"country\": \"Saint Vincent and the Grenadines\"}, {\"percentVaccinated\": 66.73652694610779, \"country\": \"San Marino\"}, {\"percentVaccinated\": 5.6497672847934925, \"country\": \"Sao Tome and Principe\"}, {\"percentVaccinated\": 0.0, \"country\": \"Saudi Arabia\"}, {\"percentVaccinated\": 0.9610823385687086, \"country\": \"Senegal\"}, {\"percentVaccinated\": null, \"country\": \"Serbia\"}, {\"percentVaccinated\": 70.7389932127891, \"country\": \"Seychelles\"}, {\"percentVaccinated\": 0.2007354034794842, \"country\": \"Sierra Leone\"}, {\"percentVaccinated\": 36.03945036858601, \"country\": \"Singapore\"}, {\"percentVaccinated\": 26.08374014393698, \"country\": \"Slovakia\"}, {\"percentVaccinated\": 29.259856844502053, \"country\": \"Slovenia\"}, {\"percentVaccinated\": 0.5690749710064563, \"country\": \"Solomon Islands\"}, {\"percentVaccinated\": 0.845895728622218, \"country\": \"South Africa\"}, {\"percentVaccinated\": 0.01647620166934458, \"country\": \"South Sudan\"}, {\"percentVaccinated\": 32.658096750031135, \"country\": \"Spain\"}, {\"percentVaccinated\": 4.034039125604609, \"country\": \"Sri Lanka\"}, {\"percentVaccinated\": 0.2532557774059027, \"country\": \"Sudan\"}, {\"percentVaccinated\": 5.792311706383719, \"country\": \"Suriname\"}, {\"percentVaccinated\": 26.669899535865323, \"country\": \"Sweden\"}, {\"percentVaccinated\": 31.109160506630186, \"country\": \"Switzerland\"}, {\"percentVaccinated\": 0.03260559955879265, \"country\": \"Syria\"}, {\"percentVaccinated\": null, \"country\": \"Taiwan*\"}, {\"percentVaccinated\": 3.3370466285481633, \"country\": \"Thailand\"}, {\"percentVaccinated\": 0.9805719485786438, \"country\": \"Togo\"}, {\"percentVaccinated\": 3.766493198210536, \"country\": \"Trinidad and Tobago\"}, {\"percentVaccinated\": 3.7114662368876097, \"country\": \"Tunisia\"}, {\"percentVaccinated\": 18.184943170489028, \"country\": \"Turkey\"}, {\"percentVaccinated\": 46.473387339607356, \"country\": \"US\"}, {\"percentVaccinated\": null, \"country\": \"US (Aggregate)\"}, {\"percentVaccinated\": 0.009633026260110186, \"country\": \"Uganda\"}, {\"percentVaccinated\": 0.9840275909246844, \"country\": \"Ukraine\"}, {\"percentVaccinated\": 40.81342362272071, \"country\": \"United Arab Emirates\"}, {\"percentVaccinated\": 47.95913394942113, \"country\": \"United Kingdom\"}, {\"percentVaccinated\": 42.97070948144934, \"country\": \"Uruguay\"}, {\"percentVaccinated\": 3.1428983203439884, \"country\": \"Uzbekistan\"}, {\"percentVaccinated\": 0.7000579946908824, \"country\": \"Venezuela\"}, {\"percentVaccinated\": 0.14410806692010114, \"country\": \"Vietnam\"}, {\"percentVaccinated\": null, \"country\": \"World\"}, {\"percentVaccinated\": 0.036357509858647385, \"country\": \"Zambia\"}, {\"percentVaccinated\": 2.6631733614423894, \"country\": \"Zimbabwe\"}, {\"percentVaccinated\": 10.653607998088983, \"country\": \"Global\"}]}}, {\"mode\": \"vega-lite\"});\n",
              "</script>"
            ]
          },
          "metadata": {
            "tags": []
          },
          "execution_count": 240
        }
      ]
    },
    {
      "cell_type": "code",
      "metadata": {
        "colab": {
          "base_uri": "https://localhost:8080/",
          "height": 441
        },
        "id": "iqS_APzLKHzM",
        "outputId": "1fdc0ebd-5b9e-4397-f1c4-6c0faa8ab97e"
      },
      "source": [
        "percentVaccinatedSeries.sort_values(ascending=False).plot(kind='bar')"
      ],
      "execution_count": null,
      "outputs": [
        {
          "output_type": "execute_result",
          "data": {
            "text/plain": [
              "<matplotlib.axes._subplots.AxesSubplot at 0x7fec20d5fe50>"
            ]
          },
          "metadata": {
            "tags": []
          },
          "execution_count": 200
        },
        {
          "output_type": "display_data",
          "data": {
            "image/png": "[encoded data removed]",
            "text/plain": [
              "<Figure size 432x288 with 1 Axes>"
            ]
          },
          "metadata": {
            "tags": [],
            "needs_background": "light"
          }
        }
      ]
    },
    {
      "cell_type": "code",
      "metadata": {
        "id": "tDb4RVnZKeII"
      },
      "source": [
        "import altair as alt"
      ],
      "execution_count": null,
      "outputs": []
    },
    {
      "cell_type": "code",
      "metadata": {
        "id": "s1Qtqy5NNIbn"
      },
      "source": [
        "df = percentVaccinatedSeries.to_frame()"
      ],
      "execution_count": null,
      "outputs": []
    },
    {
      "cell_type": "code",
      "metadata": {
        "id": "MvQWc2mLNjlg"
      },
      "source": [
        "df['country'] = df.index"
      ],
      "execution_count": null,
      "outputs": []
    },
    {
      "cell_type": "code",
      "metadata": {
        "id": "88rFskTiNnQE"
      },
      "source": [
        "df.rename(columns={0: 'percentVaccinated'}, inplace=True)"
      ],
      "execution_count": null,
      "outputs": []
    },
    {
      "cell_type": "code",
      "metadata": {
        "colab": {
          "base_uri": "https://localhost:8080/",
          "height": 672
        },
        "id": "SPvpL2ZJLzVf",
        "outputId": "d06051f1-a48a-4b34-f773-10da0ec9fd20"
      },
      "source": [
        "altair.Chart(df).mark_bar().encode(x='percentVaccinated', y='country', interactive=True)"
      ],
      "execution_count": null,
      "outputs": [
        {
          "output_type": "stream",
          "text": [
            "/usr/local/lib/python3.7/dist-packages/altair/utils/core.py:673: UserWarning: Unrecognized encoding channel 'interactive'\n",
            "  warnings.warn(\"Unrecognized encoding channel '{}'\".format(encoding))\n"
          ],
          "name": "stderr"
        },
        {
          "output_type": "error",
          "ename": "SchemaValidationError",
          "evalue": "ignored",
          "traceback": [
            "\u001b[0;31m---------------------------------------------------------------------------\u001b[0m",
            "\u001b[0;31mSchemaValidationError\u001b[0m                     Traceback (most recent call last)",
            "\u001b[0;32m/usr/local/lib/python3.7/dist-packages/altair/vegalite/v4/api.py\u001b[0m in \u001b[0;36mto_dict\u001b[0;34m(self, *args, **kwargs)\u001b[0m\n\u001b[1;32m    380\u001b[0m         \u001b[0;32mif\u001b[0m \u001b[0mdct\u001b[0m \u001b[0;32mis\u001b[0m \u001b[0;32mNone\u001b[0m\u001b[0;34m:\u001b[0m\u001b[0;34m\u001b[0m\u001b[0;34m\u001b[0m\u001b[0m\n\u001b[1;32m    381\u001b[0m             \u001b[0mkwargs\u001b[0m\u001b[0;34m[\u001b[0m\u001b[0;34m\"validate\"\u001b[0m\u001b[0;34m]\u001b[0m \u001b[0;34m=\u001b[0m \u001b[0;34m\"deep\"\u001b[0m\u001b[0;34m\u001b[0m\u001b[0;34m\u001b[0m\u001b[0m\n\u001b[0;32m--> 382\u001b[0;31m             \u001b[0mdct\u001b[0m \u001b[0;34m=\u001b[0m \u001b[0msuper\u001b[0m\u001b[0;34m(\u001b[0m\u001b[0mTopLevelMixin\u001b[0m\u001b[0;34m,\u001b[0m \u001b[0mcopy\u001b[0m\u001b[0;34m)\u001b[0m\u001b[0;34m.\u001b[0m\u001b[0mto_dict\u001b[0m\u001b[0;34m(\u001b[0m\u001b[0;34m*\u001b[0m\u001b[0margs\u001b[0m\u001b[0;34m,\u001b[0m \u001b[0;34m**\u001b[0m\u001b[0mkwargs\u001b[0m\u001b[0;34m)\u001b[0m\u001b[0;34m\u001b[0m\u001b[0;34m\u001b[0m\u001b[0m\n\u001b[0m\u001b[1;32m    383\u001b[0m \u001b[0;34m\u001b[0m\u001b[0m\n\u001b[1;32m    384\u001b[0m         \u001b[0;31m# TODO: following entries are added after validation. Should they be validated?\u001b[0m\u001b[0;34m\u001b[0m\u001b[0;34m\u001b[0m\u001b[0;34m\u001b[0m\u001b[0m\n",
            "\u001b[0;32m/usr/local/lib/python3.7/dist-packages/altair/utils/schemapi.py\u001b[0m in \u001b[0;36mto_dict\u001b[0;34m(self, validate, ignore, context)\u001b[0m\n\u001b[1;32m    326\u001b[0m                 \u001b[0;34m{\u001b[0m\u001b[0mk\u001b[0m\u001b[0;34m:\u001b[0m \u001b[0mv\u001b[0m \u001b[0;32mfor\u001b[0m \u001b[0mk\u001b[0m\u001b[0;34m,\u001b[0m \u001b[0mv\u001b[0m \u001b[0;32min\u001b[0m \u001b[0mself\u001b[0m\u001b[0;34m.\u001b[0m\u001b[0m_kwds\u001b[0m\u001b[0;34m.\u001b[0m\u001b[0mitems\u001b[0m\u001b[0;34m(\u001b[0m\u001b[0;34m)\u001b[0m \u001b[0;32mif\u001b[0m \u001b[0mk\u001b[0m \u001b[0;32mnot\u001b[0m \u001b[0;32min\u001b[0m \u001b[0mignore\u001b[0m\u001b[0;34m}\u001b[0m\u001b[0;34m,\u001b[0m\u001b[0;34m\u001b[0m\u001b[0;34m\u001b[0m\u001b[0m\n\u001b[1;32m    327\u001b[0m                 \u001b[0mvalidate\u001b[0m\u001b[0;34m=\u001b[0m\u001b[0msub_validate\u001b[0m\u001b[0;34m,\u001b[0m\u001b[0;34m\u001b[0m\u001b[0;34m\u001b[0m\u001b[0m\n\u001b[0;32m--> 328\u001b[0;31m                 \u001b[0mcontext\u001b[0m\u001b[0;34m=\u001b[0m\u001b[0mcontext\u001b[0m\u001b[0;34m,\u001b[0m\u001b[0;34m\u001b[0m\u001b[0;34m\u001b[0m\u001b[0m\n\u001b[0m\u001b[1;32m    329\u001b[0m             )\n\u001b[1;32m    330\u001b[0m         \u001b[0;32melse\u001b[0m\u001b[0;34m:\u001b[0m\u001b[0;34m\u001b[0m\u001b[0;34m\u001b[0m\u001b[0m\n",
            "\u001b[0;32m/usr/local/lib/python3.7/dist-packages/altair/utils/schemapi.py\u001b[0m in \u001b[0;36m_todict\u001b[0;34m(obj, validate, context)\u001b[0m\n\u001b[1;32m     60\u001b[0m         return {\n\u001b[1;32m     61\u001b[0m             \u001b[0mk\u001b[0m\u001b[0;34m:\u001b[0m \u001b[0m_todict\u001b[0m\u001b[0;34m(\u001b[0m\u001b[0mv\u001b[0m\u001b[0;34m,\u001b[0m \u001b[0mvalidate\u001b[0m\u001b[0;34m,\u001b[0m \u001b[0mcontext\u001b[0m\u001b[0;34m)\u001b[0m\u001b[0;34m\u001b[0m\u001b[0;34m\u001b[0m\u001b[0m\n\u001b[0;32m---> 62\u001b[0;31m             \u001b[0;32mfor\u001b[0m \u001b[0mk\u001b[0m\u001b[0;34m,\u001b[0m \u001b[0mv\u001b[0m \u001b[0;32min\u001b[0m \u001b[0mobj\u001b[0m\u001b[0;34m.\u001b[0m\u001b[0mitems\u001b[0m\u001b[0;34m(\u001b[0m\u001b[0;34m)\u001b[0m\u001b[0;34m\u001b[0m\u001b[0;34m\u001b[0m\u001b[0m\n\u001b[0m\u001b[1;32m     63\u001b[0m             \u001b[0;32mif\u001b[0m \u001b[0mv\u001b[0m \u001b[0;32mis\u001b[0m \u001b[0;32mnot\u001b[0m \u001b[0mUndefined\u001b[0m\u001b[0;34m\u001b[0m\u001b[0;34m\u001b[0m\u001b[0m\n\u001b[1;32m     64\u001b[0m         }\n",
            "\u001b[0;32m/usr/local/lib/python3.7/dist-packages/altair/utils/schemapi.py\u001b[0m in \u001b[0;36m<dictcomp>\u001b[0;34m(.0)\u001b[0m\n\u001b[1;32m     61\u001b[0m             \u001b[0mk\u001b[0m\u001b[0;34m:\u001b[0m \u001b[0m_todict\u001b[0m\u001b[0;34m(\u001b[0m\u001b[0mv\u001b[0m\u001b[0;34m,\u001b[0m \u001b[0mvalidate\u001b[0m\u001b[0;34m,\u001b[0m \u001b[0mcontext\u001b[0m\u001b[0;34m)\u001b[0m\u001b[0;34m\u001b[0m\u001b[0;34m\u001b[0m\u001b[0m\n\u001b[1;32m     62\u001b[0m             \u001b[0;32mfor\u001b[0m \u001b[0mk\u001b[0m\u001b[0;34m,\u001b[0m \u001b[0mv\u001b[0m \u001b[0;32min\u001b[0m \u001b[0mobj\u001b[0m\u001b[0;34m.\u001b[0m\u001b[0mitems\u001b[0m\u001b[0;34m(\u001b[0m\u001b[0;34m)\u001b[0m\u001b[0;34m\u001b[0m\u001b[0;34m\u001b[0m\u001b[0m\n\u001b[0;32m---> 63\u001b[0;31m             \u001b[0;32mif\u001b[0m \u001b[0mv\u001b[0m \u001b[0;32mis\u001b[0m \u001b[0;32mnot\u001b[0m \u001b[0mUndefined\u001b[0m\u001b[0;34m\u001b[0m\u001b[0;34m\u001b[0m\u001b[0m\n\u001b[0m\u001b[1;32m     64\u001b[0m         }\n\u001b[1;32m     65\u001b[0m     \u001b[0;32melif\u001b[0m \u001b[0mhasattr\u001b[0m\u001b[0;34m(\u001b[0m\u001b[0mobj\u001b[0m\u001b[0;34m,\u001b[0m \u001b[0;34m\"to_dict\"\u001b[0m\u001b[0;34m)\u001b[0m\u001b[0;34m:\u001b[0m\u001b[0;34m\u001b[0m\u001b[0;34m\u001b[0m\u001b[0m\n",
            "\u001b[0;32m/usr/local/lib/python3.7/dist-packages/altair/utils/schemapi.py\u001b[0m in \u001b[0;36m_todict\u001b[0;34m(obj, validate, context)\u001b[0m\n\u001b[1;32m     54\u001b[0m     \u001b[0;34m\"\"\"Convert an object to a dict representation.\"\"\"\u001b[0m\u001b[0;34m\u001b[0m\u001b[0;34m\u001b[0m\u001b[0m\n\u001b[1;32m     55\u001b[0m     \u001b[0;32mif\u001b[0m \u001b[0misinstance\u001b[0m\u001b[0;34m(\u001b[0m\u001b[0mobj\u001b[0m\u001b[0;34m,\u001b[0m \u001b[0mSchemaBase\u001b[0m\u001b[0;34m)\u001b[0m\u001b[0;34m:\u001b[0m\u001b[0;34m\u001b[0m\u001b[0;34m\u001b[0m\u001b[0m\n\u001b[0;32m---> 56\u001b[0;31m         \u001b[0;32mreturn\u001b[0m \u001b[0mobj\u001b[0m\u001b[0;34m.\u001b[0m\u001b[0mto_dict\u001b[0m\u001b[0;34m(\u001b[0m\u001b[0mvalidate\u001b[0m\u001b[0;34m=\u001b[0m\u001b[0mvalidate\u001b[0m\u001b[0;34m,\u001b[0m \u001b[0mcontext\u001b[0m\u001b[0;34m=\u001b[0m\u001b[0mcontext\u001b[0m\u001b[0;34m)\u001b[0m\u001b[0;34m\u001b[0m\u001b[0;34m\u001b[0m\u001b[0m\n\u001b[0m\u001b[1;32m     57\u001b[0m     \u001b[0;32melif\u001b[0m \u001b[0misinstance\u001b[0m\u001b[0;34m(\u001b[0m\u001b[0mobj\u001b[0m\u001b[0;34m,\u001b[0m \u001b[0;34m(\u001b[0m\u001b[0mlist\u001b[0m\u001b[0;34m,\u001b[0m \u001b[0mtuple\u001b[0m\u001b[0;34m,\u001b[0m \u001b[0mnp\u001b[0m\u001b[0;34m.\u001b[0m\u001b[0mndarray\u001b[0m\u001b[0;34m)\u001b[0m\u001b[0;34m)\u001b[0m\u001b[0;34m:\u001b[0m\u001b[0;34m\u001b[0m\u001b[0;34m\u001b[0m\u001b[0m\n\u001b[1;32m     58\u001b[0m         \u001b[0;32mreturn\u001b[0m \u001b[0;34m[\u001b[0m\u001b[0m_todict\u001b[0m\u001b[0;34m(\u001b[0m\u001b[0mv\u001b[0m\u001b[0;34m,\u001b[0m \u001b[0mvalidate\u001b[0m\u001b[0;34m,\u001b[0m \u001b[0mcontext\u001b[0m\u001b[0;34m)\u001b[0m \u001b[0;32mfor\u001b[0m \u001b[0mv\u001b[0m \u001b[0;32min\u001b[0m \u001b[0mobj\u001b[0m\u001b[0;34m]\u001b[0m\u001b[0;34m\u001b[0m\u001b[0;34m\u001b[0m\u001b[0m\n",
            "\u001b[0;32m/usr/local/lib/python3.7/dist-packages/altair/utils/schemapi.py\u001b[0m in \u001b[0;36mto_dict\u001b[0;34m(self, validate, ignore, context)\u001b[0m\n\u001b[1;32m    337\u001b[0m                 \u001b[0mself\u001b[0m\u001b[0;34m.\u001b[0m\u001b[0mvalidate\u001b[0m\u001b[0;34m(\u001b[0m\u001b[0mresult\u001b[0m\u001b[0;34m)\u001b[0m\u001b[0;34m\u001b[0m\u001b[0;34m\u001b[0m\u001b[0m\n\u001b[1;32m    338\u001b[0m             \u001b[0;32mexcept\u001b[0m \u001b[0mjsonschema\u001b[0m\u001b[0;34m.\u001b[0m\u001b[0mValidationError\u001b[0m \u001b[0;32mas\u001b[0m \u001b[0merr\u001b[0m\u001b[0;34m:\u001b[0m\u001b[0;34m\u001b[0m\u001b[0;34m\u001b[0m\u001b[0m\n\u001b[0;32m--> 339\u001b[0;31m                 \u001b[0;32mraise\u001b[0m \u001b[0mSchemaValidationError\u001b[0m\u001b[0;34m(\u001b[0m\u001b[0mself\u001b[0m\u001b[0;34m,\u001b[0m \u001b[0merr\u001b[0m\u001b[0;34m)\u001b[0m\u001b[0;34m\u001b[0m\u001b[0;34m\u001b[0m\u001b[0m\n\u001b[0m\u001b[1;32m    340\u001b[0m         \u001b[0;32mreturn\u001b[0m \u001b[0mresult\u001b[0m\u001b[0;34m\u001b[0m\u001b[0;34m\u001b[0m\u001b[0m\n\u001b[1;32m    341\u001b[0m \u001b[0;34m\u001b[0m\u001b[0m\n",
            "\u001b[0;31mSchemaValidationError\u001b[0m: Invalid specification\n\n        altair.vegalite.v4.schema.core.FacetedEncoding, validating 'additionalProperties'\n\n        Additional properties are not allowed ('interactive' was unexpected)\n        "
          ]
        },
        {
          "output_type": "execute_result",
          "data": {
            "text/plain": [
              "alt.Chart(...)"
            ]
          },
          "metadata": {
            "tags": []
          },
          "execution_count": 216
        }
      ]
    },
    {
      "cell_type": "code",
      "metadata": {
        "id": "FggiOUp5MxMA"
      },
      "source": [
        ""
      ],
      "execution_count": null,
      "outputs": []
    }
  ]
}