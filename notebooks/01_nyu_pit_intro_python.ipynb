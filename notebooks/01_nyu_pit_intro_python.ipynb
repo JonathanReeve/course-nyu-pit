{
  "nbformat": 4,
  "nbformat_minor": 0,
  "metadata": {
    "colab": {
      "name": "01-nyu-pit-intro-python.ipynb",
      "provenance": []
    },
    "kernelspec": {
      "display_name": "Python 3",
      "name": "python3"
    },
    "language_info": {
      "name": "python"
    }
  },
  "cells": [
    {
      "cell_type": "markdown",
      "metadata": {
        "id": "J_UTgugu-gMH"
      },
      "source": [
        "# NYU-PIT Intro to Python\n",
        "\n",
        "## A \"hello world\" program\n",
        "\n",
        "Here's my \"hello world\" program:"
      ]
    },
    {
      "cell_type": "code",
      "metadata": {
        "colab": {
          "base_uri": "https://localhost:8080/"
        },
        "id": "6wYpxyZD_afl",
        "outputId": "8ec1cc47-fea1-4f44-e7eb-df9b2e1ca0d4"
      },
      "source": [
        "print(\"hello world!\")"
      ],
      "execution_count": null,
      "outputs": [
        {
          "output_type": "stream",
          "text": [
            "hello world!\n"
          ],
          "name": "stdout"
        }
      ]
    },
    {
      "cell_type": "markdown",
      "metadata": {
        "id": "eFe9gADK_j8D"
      },
      "source": [
        "This is an annotation. It's written in Markdown."
      ]
    },
    {
      "cell_type": "code",
      "metadata": {
        "colab": {
          "base_uri": "https://localhost:8080/"
        },
        "id": "bpY1E2U19EyF",
        "outputId": "292e8654-8fa7-43a3-d300-cd0cb516d324"
      },
      "source": [
        "name = \"Jonathan\"\n",
        "print(name)"
      ],
      "execution_count": null,
      "outputs": [
        {
          "output_type": "stream",
          "text": [
            "Jonathan\n"
          ],
          "name": "stdout"
        }
      ]
    },
    {
      "cell_type": "code",
      "metadata": {
        "colab": {
          "base_uri": "https://localhost:8080/"
        },
        "id": "rLIt3wVTAhtR",
        "outputId": "17b22ffc-69d9-4df6-a802-14e7ea2af432"
      },
      "source": [
        "print(\"Hello, \" + name + \"!\")"
      ],
      "execution_count": null,
      "outputs": [
        {
          "output_type": "stream",
          "text": [
            "Hello, Jonathan!\n"
          ],
          "name": "stdout"
        }
      ]
    },
    {
      "cell_type": "markdown",
      "metadata": {
        "id": "rijkZIDDGDpX"
      },
      "source": [
        "# Variables and Types"
      ]
    },
    {
      "cell_type": "code",
      "metadata": {
        "id": "EkB68dfjBYBr"
      },
      "source": [
        "age = 39"
      ],
      "execution_count": null,
      "outputs": []
    },
    {
      "cell_type": "code",
      "metadata": {
        "colab": {
          "base_uri": "https://localhost:8080/",
          "height": 199
        },
        "id": "OE0tHT3-GIDc",
        "outputId": "2ebfd0a0-c53a-4655-a5e5-a0fae376f463"
      },
      "source": [
        "39 + \"apples\""
      ],
      "execution_count": null,
      "outputs": [
        {
          "output_type": "error",
          "ename": "TypeError",
          "evalue": "ignored",
          "traceback": [
            "\u001b[0;31m---------------------------------------------------------------------------\u001b[0m",
            "\u001b[0;31mTypeError\u001b[0m                                 Traceback (most recent call last)",
            "\u001b[0;32m<ipython-input-106-c3ce945e0119>\u001b[0m in \u001b[0;36m<module>\u001b[0;34m()\u001b[0m\n\u001b[0;32m----> 1\u001b[0;31m \u001b[0;36m39\u001b[0m \u001b[0;34m+\u001b[0m \u001b[0;34m\"apples\"\u001b[0m\u001b[0;34m\u001b[0m\u001b[0;34m\u001b[0m\u001b[0m\n\u001b[0m",
            "\u001b[0;31mTypeError\u001b[0m: unsupported operand type(s) for +: 'int' and 'str'"
          ]
        }
      ]
    },
    {
      "cell_type": "code",
      "metadata": {
        "colab": {
          "base_uri": "https://localhost:8080/"
        },
        "id": "8IUDrcGwGMRV",
        "outputId": "1d8d497b-529e-4a36-91ba-b7600bb86a79"
      },
      "source": [
        "type(39) "
      ],
      "execution_count": null,
      "outputs": [
        {
          "output_type": "execute_result",
          "data": {
            "text/plain": [
              "int"
            ]
          },
          "metadata": {
            "tags": []
          },
          "execution_count": 15
        }
      ]
    },
    {
      "cell_type": "code",
      "metadata": {
        "colab": {
          "base_uri": "https://localhost:8080/"
        },
        "id": "J5TGYFuBGcj-",
        "outputId": "8c530669-9159-44a7-838f-8d9bf7edf874"
      },
      "source": [
        "type(\"39\")"
      ],
      "execution_count": null,
      "outputs": [
        {
          "output_type": "execute_result",
          "data": {
            "text/plain": [
              "str"
            ]
          },
          "metadata": {
            "tags": []
          },
          "execution_count": 16
        }
      ]
    },
    {
      "cell_type": "code",
      "metadata": {
        "colab": {
          "base_uri": "https://localhost:8080/",
          "height": 35
        },
        "id": "ALHfrES4Ge0x",
        "outputId": "fd59089c-f6a0-4098-a669-253412247acc"
      },
      "source": [
        "\"39\" + \"apples\""
      ],
      "execution_count": null,
      "outputs": [
        {
          "output_type": "execute_result",
          "data": {
            "application/vnd.google.colaboratory.intrinsic+json": {
              "type": "string"
            },
            "text/plain": [
              "'39apples'"
            ]
          },
          "metadata": {
            "tags": []
          },
          "execution_count": 17
        }
      ]
    },
    {
      "cell_type": "code",
      "metadata": {
        "colab": {
          "base_uri": "https://localhost:8080/"
        },
        "id": "OgzMyuy3GjeU",
        "outputId": "96cf0cc1-21b2-4569-96fd-850d65d85cce"
      },
      "source": [
        "39 + 2"
      ],
      "execution_count": null,
      "outputs": [
        {
          "output_type": "execute_result",
          "data": {
            "text/plain": [
              "41"
            ]
          },
          "metadata": {
            "tags": []
          },
          "execution_count": 18
        }
      ]
    },
    {
      "cell_type": "code",
      "metadata": {
        "colab": {
          "base_uri": "https://localhost:8080/",
          "height": 165
        },
        "id": "cX0Id8p-Gov7",
        "outputId": "45bf4a88-b729-4231-c710-120cc736dd25"
      },
      "source": [
        "39 + \"2\""
      ],
      "execution_count": null,
      "outputs": [
        {
          "output_type": "error",
          "ename": "TypeError",
          "evalue": "ignored",
          "traceback": [
            "\u001b[0;31m---------------------------------------------------------------------------\u001b[0m",
            "\u001b[0;31mTypeError\u001b[0m                                 Traceback (most recent call last)",
            "\u001b[0;32m<ipython-input-19-93b898e5cd74>\u001b[0m in \u001b[0;36m<module>\u001b[0;34m()\u001b[0m\n\u001b[0;32m----> 1\u001b[0;31m \u001b[0;36m39\u001b[0m \u001b[0;34m+\u001b[0m \u001b[0;34m\"2\"\u001b[0m\u001b[0;34m\u001b[0m\u001b[0;34m\u001b[0m\u001b[0m\n\u001b[0m",
            "\u001b[0;31mTypeError\u001b[0m: unsupported operand type(s) for +: 'int' and 'str'"
          ]
        }
      ]
    },
    {
      "cell_type": "code",
      "metadata": {
        "colab": {
          "base_uri": "https://localhost:8080/"
        },
        "id": "LIpvxprFGrCp",
        "outputId": "62c58e39-0afa-4050-d31a-eaecbd0b8ebb"
      },
      "source": [
        "print(newAge) "
      ],
      "execution_count": null,
      "outputs": [
        {
          "output_type": "stream",
          "text": [
            "40\n"
          ],
          "name": "stdout"
        }
      ]
    },
    {
      "cell_type": "code",
      "metadata": {
        "id": "qssFDmgxG7WE"
      },
      "source": [
        "newAge = 40"
      ],
      "execution_count": null,
      "outputs": []
    },
    {
      "cell_type": "code",
      "metadata": {
        "colab": {
          "base_uri": "https://localhost:8080/",
          "height": 199
        },
        "id": "wE-6mtlrHJC-",
        "outputId": "65582a78-db2d-4386-bcfe-a627577cfbf2"
      },
      "source": [
        "newAgek + 2 "
      ],
      "execution_count": null,
      "outputs": [
        {
          "output_type": "error",
          "ename": "NameError",
          "evalue": "ignored",
          "traceback": [
            "\u001b[0;31m---------------------------------------------------------------------------\u001b[0m",
            "\u001b[0;31mNameError\u001b[0m                                 Traceback (most recent call last)",
            "\u001b[0;32m<ipython-input-26-d914c5a76c46>\u001b[0m in \u001b[0;36m<module>\u001b[0;34m()\u001b[0m\n\u001b[0;32m----> 1\u001b[0;31m \u001b[0mnewAgek\u001b[0m \u001b[0;34m+\u001b[0m \u001b[0;36m2\u001b[0m\u001b[0;34m\u001b[0m\u001b[0;34m\u001b[0m\u001b[0m\n\u001b[0m",
            "\u001b[0;31mNameError\u001b[0m: name 'newAgek' is not defined"
          ]
        }
      ]
    },
    {
      "cell_type": "code",
      "metadata": {
        "colab": {
          "base_uri": "https://localhost:8080/"
        },
        "id": "xg9Md2CvHPVB",
        "outputId": "b8311ea1-c1f9-41f7-de46-6b9c4bbb61a0"
      },
      "source": [
        "AGE = 30\n",
        "age = 31\n",
        "print(AGE) "
      ],
      "execution_count": null,
      "outputs": [
        {
          "output_type": "stream",
          "text": [
            "30\n"
          ],
          "name": "stdout"
        }
      ]
    },
    {
      "cell_type": "code",
      "metadata": {
        "colab": {
          "base_uri": "https://localhost:8080/",
          "height": 131
        },
        "id": "1T9uL_MTHn_B",
        "outputId": "c9f33ffe-06f8-4f41-95fb-3efc1f568ca0"
      },
      "source": [
        "30 = 31"
      ],
      "execution_count": null,
      "outputs": [
        {
          "output_type": "error",
          "ename": "SyntaxError",
          "evalue": "ignored",
          "traceback": [
            "\u001b[0;36m  File \u001b[0;32m\"<ipython-input-29-6192e0c475bb>\"\u001b[0;36m, line \u001b[0;32m1\u001b[0m\n\u001b[0;31m    30 = 31\u001b[0m\n\u001b[0m           ^\u001b[0m\n\u001b[0;31mSyntaxError\u001b[0m\u001b[0;31m:\u001b[0m can't assign to literal\n"
          ]
        }
      ]
    },
    {
      "cell_type": "code",
      "metadata": {
        "id": "9OTaS7Y-Ht_Q"
      },
      "source": [
        "age_30 = 30"
      ],
      "execution_count": null,
      "outputs": []
    },
    {
      "cell_type": "code",
      "metadata": {
        "colab": {
          "base_uri": "https://localhost:8080/"
        },
        "id": "hVUP9yzjHzZR",
        "outputId": "879574fd-984c-4ba5-f848-591e021a3407"
      },
      "source": [
        "print(age_30)"
      ],
      "execution_count": null,
      "outputs": [
        {
          "output_type": "stream",
          "text": [
            "30\n"
          ],
          "name": "stdout"
        }
      ]
    },
    {
      "cell_type": "code",
      "metadata": {
        "id": "O4WVP4iSH00r"
      },
      "source": [
        "myAge = 30"
      ],
      "execution_count": null,
      "outputs": []
    },
    {
      "cell_type": "code",
      "metadata": {
        "id": "vTGqCqVsINUR"
      },
      "source": [
        "myAge = 31"
      ],
      "execution_count": null,
      "outputs": []
    },
    {
      "cell_type": "code",
      "metadata": {
        "colab": {
          "base_uri": "https://localhost:8080/"
        },
        "id": "viGLJO1PH9hB",
        "outputId": "b2e05d01-aa1c-4d96-9deb-874bdda3b8d7"
      },
      "source": [
        "print(myAge)"
      ],
      "execution_count": null,
      "outputs": [
        {
          "output_type": "stream",
          "text": [
            "31\n"
          ],
          "name": "stdout"
        }
      ]
    },
    {
      "cell_type": "code",
      "metadata": {
        "id": "ewq0_D_mIAlc"
      },
      "source": [
        ""
      ],
      "execution_count": null,
      "outputs": []
    },
    {
      "cell_type": "markdown",
      "metadata": {
        "id": "aUsNiJmjIk8h"
      },
      "source": [
        "# Slicing\n",
        "\n",
        "(Or, indexing)"
      ]
    },
    {
      "cell_type": "code",
      "metadata": {
        "colab": {
          "base_uri": "https://localhost:8080/"
        },
        "id": "hLVokNSGIj8L",
        "outputId": "fa4de00c-1ead-4a1d-bba6-5dc2589d814a"
      },
      "source": [
        "type(name)"
      ],
      "execution_count": null,
      "outputs": [
        {
          "output_type": "execute_result",
          "data": {
            "text/plain": [
              "str"
            ]
          },
          "metadata": {
            "tags": []
          },
          "execution_count": 46
        }
      ]
    },
    {
      "cell_type": "code",
      "metadata": {
        "colab": {
          "base_uri": "https://localhost:8080/"
        },
        "id": "TZcHRoVBI44M",
        "outputId": "6fa60fd5-68dd-4fd4-89d8-7cb349bcc926"
      },
      "source": [
        "len(name)"
      ],
      "execution_count": null,
      "outputs": [
        {
          "output_type": "execute_result",
          "data": {
            "text/plain": [
              "8"
            ]
          },
          "metadata": {
            "tags": []
          },
          "execution_count": 47
        }
      ]
    },
    {
      "cell_type": "markdown",
      "metadata": {
        "id": "CvT5WKxrJKAK"
      },
      "source": [
        "To slice in Python, use square brackets, and put them directly after the variable name. "
      ]
    },
    {
      "cell_type": "code",
      "metadata": {
        "colab": {
          "base_uri": "https://localhost:8080/",
          "height": 35
        },
        "id": "OQ_w1DddJNUQ",
        "outputId": "495ef3ad-e990-4256-9478-ec7cecf4d3a0"
      },
      "source": [
        "name[0]"
      ],
      "execution_count": null,
      "outputs": [
        {
          "output_type": "execute_result",
          "data": {
            "application/vnd.google.colaboratory.intrinsic+json": {
              "type": "string"
            },
            "text/plain": [
              "'J'"
            ]
          },
          "metadata": {
            "tags": []
          },
          "execution_count": 48
        }
      ]
    },
    {
      "cell_type": "code",
      "metadata": {
        "colab": {
          "base_uri": "https://localhost:8080/",
          "height": 35
        },
        "id": "tRcrXzI5JWZZ",
        "outputId": "114a04cc-89ff-428e-f8a8-f9e0326e5311"
      },
      "source": [
        "name[1]"
      ],
      "execution_count": null,
      "outputs": [
        {
          "output_type": "execute_result",
          "data": {
            "application/vnd.google.colaboratory.intrinsic+json": {
              "type": "string"
            },
            "text/plain": [
              "'o'"
            ]
          },
          "metadata": {
            "tags": []
          },
          "execution_count": 49
        }
      ]
    },
    {
      "cell_type": "code",
      "metadata": {
        "colab": {
          "base_uri": "https://localhost:8080/",
          "height": 35
        },
        "id": "uNtIb0MVJlGA",
        "outputId": "c079b051-fb6a-49ad-de03-2d5977b7b578"
      },
      "source": [
        "name[-1]"
      ],
      "execution_count": null,
      "outputs": [
        {
          "output_type": "execute_result",
          "data": {
            "application/vnd.google.colaboratory.intrinsic+json": {
              "type": "string"
            },
            "text/plain": [
              "'n'"
            ]
          },
          "metadata": {
            "tags": []
          },
          "execution_count": 50
        }
      ]
    },
    {
      "cell_type": "code",
      "metadata": {
        "colab": {
          "base_uri": "https://localhost:8080/",
          "height": 35
        },
        "id": "gB1Oc1nHJnyk",
        "outputId": "5e0993d8-3d19-4a30-e6dd-6b1fbdbf7220"
      },
      "source": [
        "name[1:3]"
      ],
      "execution_count": null,
      "outputs": [
        {
          "output_type": "execute_result",
          "data": {
            "application/vnd.google.colaboratory.intrinsic+json": {
              "type": "string"
            },
            "text/plain": [
              "'on'"
            ]
          },
          "metadata": {
            "tags": []
          },
          "execution_count": 51
        }
      ]
    },
    {
      "cell_type": "code",
      "metadata": {
        "colab": {
          "base_uri": "https://localhost:8080/",
          "height": 35
        },
        "id": "CJysVbT_JtXq",
        "outputId": "4d8dfbf4-13a4-4bd5-9952-3410babe304f"
      },
      "source": [
        "name[3:-1]"
      ],
      "execution_count": null,
      "outputs": [
        {
          "output_type": "execute_result",
          "data": {
            "application/vnd.google.colaboratory.intrinsic+json": {
              "type": "string"
            },
            "text/plain": [
              "'atha'"
            ]
          },
          "metadata": {
            "tags": []
          },
          "execution_count": 52
        }
      ]
    },
    {
      "cell_type": "code",
      "metadata": {
        "colab": {
          "base_uri": "https://localhost:8080/",
          "height": 35
        },
        "id": "boobCyfYJwfi",
        "outputId": "ca961dbc-1a65-4856-8fed-0801859e6ebe"
      },
      "source": [
        "name[0:-1:2]"
      ],
      "execution_count": null,
      "outputs": [
        {
          "output_type": "execute_result",
          "data": {
            "application/vnd.google.colaboratory.intrinsic+json": {
              "type": "string"
            },
            "text/plain": [
              "'Jnta'"
            ]
          },
          "metadata": {
            "tags": []
          },
          "execution_count": 53
        }
      ]
    },
    {
      "cell_type": "code",
      "metadata": {
        "id": "h-1HhFUzJ5tU"
      },
      "source": [
        ""
      ],
      "execution_count": null,
      "outputs": []
    },
    {
      "cell_type": "markdown",
      "metadata": {
        "id": "u4Eqo3KVKPTB"
      },
      "source": [
        "## More about Types"
      ]
    },
    {
      "cell_type": "code",
      "metadata": {
        "colab": {
          "base_uri": "https://localhost:8080/"
        },
        "id": "Gy0hi4eLKREz",
        "outputId": "52b5f463-763a-4033-95cb-47c731579dee"
      },
      "source": [
        "type(name)"
      ],
      "execution_count": null,
      "outputs": [
        {
          "output_type": "execute_result",
          "data": {
            "text/plain": [
              "str"
            ]
          },
          "metadata": {
            "tags": []
          },
          "execution_count": 54
        }
      ]
    },
    {
      "cell_type": "code",
      "metadata": {
        "colab": {
          "base_uri": "https://localhost:8080/"
        },
        "id": "6eXNCdKVKSsh",
        "outputId": "8ef42cbe-fa40-4dc1-f602-25f1b882e2e3"
      },
      "source": [
        "type(32)"
      ],
      "execution_count": null,
      "outputs": [
        {
          "output_type": "execute_result",
          "data": {
            "text/plain": [
              "int"
            ]
          },
          "metadata": {
            "tags": []
          },
          "execution_count": 55
        }
      ]
    },
    {
      "cell_type": "code",
      "metadata": {
        "colab": {
          "base_uri": "https://localhost:8080/"
        },
        "id": "-wpCeybxKT01",
        "outputId": "44a16447-d8f3-4e46-a341-18da24c0fe7c"
      },
      "source": [
        "type(32.0)"
      ],
      "execution_count": null,
      "outputs": [
        {
          "output_type": "execute_result",
          "data": {
            "text/plain": [
              "float"
            ]
          },
          "metadata": {
            "tags": []
          },
          "execution_count": 56
        }
      ]
    },
    {
      "cell_type": "code",
      "metadata": {
        "colab": {
          "base_uri": "https://localhost:8080/"
        },
        "id": "GPguxYh7KVz-",
        "outputId": "babc6f6f-6a63-4ca7-f1fb-1e3529182030"
      },
      "source": [
        "type(32 / 2)"
      ],
      "execution_count": null,
      "outputs": [
        {
          "output_type": "execute_result",
          "data": {
            "text/plain": [
              "float"
            ]
          },
          "metadata": {
            "tags": []
          },
          "execution_count": 58
        }
      ]
    },
    {
      "cell_type": "code",
      "metadata": {
        "colab": {
          "base_uri": "https://localhost:8080/"
        },
        "id": "y99zYnfTMiF9",
        "outputId": "4fb5df64-48dc-4998-98f2-6d5843dd03fd"
      },
      "source": [
        "32 // 31"
      ],
      "execution_count": null,
      "outputs": [
        {
          "output_type": "execute_result",
          "data": {
            "text/plain": [
              "1"
            ]
          },
          "metadata": {
            "tags": []
          },
          "execution_count": 80
        }
      ]
    },
    {
      "cell_type": "code",
      "metadata": {
        "colab": {
          "base_uri": "https://localhost:8080/"
        },
        "id": "ct6gwhE8MkNI",
        "outputId": "bf1a5e7b-8ba8-490d-8e33-8c21f2ce5db2"
      },
      "source": [
        "32 / 31"
      ],
      "execution_count": null,
      "outputs": [
        {
          "output_type": "execute_result",
          "data": {
            "text/plain": [
              "1.032258064516129"
            ]
          },
          "metadata": {
            "tags": []
          },
          "execution_count": 82
        }
      ]
    },
    {
      "cell_type": "code",
      "metadata": {
        "colab": {
          "base_uri": "https://localhost:8080/",
          "height": 199
        },
        "id": "JVnH5SlSKamq",
        "outputId": "8d5ae540-c6aa-4d8f-ab7e-3607c69be7b3"
      },
      "source": [
        "print(\"I am \" + 32 + \" years old, in my mind.\")"
      ],
      "execution_count": null,
      "outputs": [
        {
          "output_type": "error",
          "ename": "TypeError",
          "evalue": "ignored",
          "traceback": [
            "\u001b[0;31m---------------------------------------------------------------------------\u001b[0m",
            "\u001b[0;31mTypeError\u001b[0m                                 Traceback (most recent call last)",
            "\u001b[0;32m<ipython-input-59-d59eca06e287>\u001b[0m in \u001b[0;36m<module>\u001b[0;34m()\u001b[0m\n\u001b[0;32m----> 1\u001b[0;31m \u001b[0mprint\u001b[0m\u001b[0;34m(\u001b[0m\u001b[0;34m\"I am \"\u001b[0m \u001b[0;34m+\u001b[0m \u001b[0;36m32\u001b[0m \u001b[0;34m+\u001b[0m \u001b[0;34m\" years old, in my mind.\"\u001b[0m\u001b[0;34m)\u001b[0m\u001b[0;34m\u001b[0m\u001b[0;34m\u001b[0m\u001b[0m\n\u001b[0m",
            "\u001b[0;31mTypeError\u001b[0m: can only concatenate str (not \"int\") to str"
          ]
        }
      ]
    },
    {
      "cell_type": "code",
      "metadata": {
        "colab": {
          "base_uri": "https://localhost:8080/"
        },
        "id": "L1pXWwEvKrsb",
        "outputId": "0ffc3df8-df7a-49ae-f1b0-a8172248ef13"
      },
      "source": [
        "print(\"I am \" + 32 + \" years old, in my mind.\")"
      ],
      "execution_count": null,
      "outputs": [
        {
          "output_type": "stream",
          "text": [
            "I am 32 years old, in my mind.\n"
          ],
          "name": "stdout"
        }
      ]
    },
    {
      "cell_type": "code",
      "metadata": {
        "colab": {
          "base_uri": "https://localhost:8080/"
        },
        "id": "hrqfb7t0Ky3V",
        "outputId": "ebc18272-2989-44df-f4f8-baa9ac2f4f38"
      },
      "source": [
        "age = 32 \n",
        "print(\"I am \" + str(age) + \" years old, in my mind.\")"
      ],
      "execution_count": null,
      "outputs": [
        {
          "output_type": "stream",
          "text": [
            "I am 32 years old, in my mind.\n"
          ],
          "name": "stdout"
        }
      ]
    },
    {
      "cell_type": "code",
      "metadata": {
        "colab": {
          "base_uri": "https://localhost:8080/"
        },
        "id": "P5ZuqoiCK4aX",
        "outputId": "30bcb1de-8294-429e-a50f-10b579b14489"
      },
      "source": [
        "type(age)"
      ],
      "execution_count": null,
      "outputs": [
        {
          "output_type": "execute_result",
          "data": {
            "text/plain": [
              "int"
            ]
          },
          "metadata": {
            "tags": []
          },
          "execution_count": 63
        }
      ]
    },
    {
      "cell_type": "code",
      "metadata": {
        "colab": {
          "base_uri": "https://localhost:8080/"
        },
        "id": "IZed4kTuLAp3",
        "outputId": "47ba4fde-3a73-4965-899c-bb894bb14b65"
      },
      "source": [
        "type(str(age))"
      ],
      "execution_count": null,
      "outputs": [
        {
          "output_type": "execute_result",
          "data": {
            "text/plain": [
              "str"
            ]
          },
          "metadata": {
            "tags": []
          },
          "execution_count": 64
        }
      ]
    },
    {
      "cell_type": "code",
      "metadata": {
        "colab": {
          "base_uri": "https://localhost:8080/"
        },
        "id": "XBCr0mYbLDBp",
        "outputId": "040631cc-f47c-46fb-d5c1-1b028542077f"
      },
      "source": [
        "int(\"32\")"
      ],
      "execution_count": null,
      "outputs": [
        {
          "output_type": "execute_result",
          "data": {
            "text/plain": [
              "32"
            ]
          },
          "metadata": {
            "tags": []
          },
          "execution_count": 65
        }
      ]
    },
    {
      "cell_type": "code",
      "metadata": {
        "colab": {
          "base_uri": "https://localhost:8080/"
        },
        "id": "AqGehRTzLGdW",
        "outputId": "b080e788-ca51-43c1-aa23-6c231a6782f6"
      },
      "source": [
        "type(int(\"32\"))"
      ],
      "execution_count": null,
      "outputs": [
        {
          "output_type": "execute_result",
          "data": {
            "text/plain": [
              "int"
            ]
          },
          "metadata": {
            "tags": []
          },
          "execution_count": 66
        }
      ]
    },
    {
      "cell_type": "code",
      "metadata": {
        "colab": {
          "base_uri": "https://localhost:8080/"
        },
        "id": "gnw4a8GbLJFy",
        "outputId": "96984ba7-108b-4f47-8313-9f3b83469502"
      },
      "source": [
        "float(32)"
      ],
      "execution_count": null,
      "outputs": [
        {
          "output_type": "execute_result",
          "data": {
            "text/plain": [
              "32.0"
            ]
          },
          "metadata": {
            "tags": []
          },
          "execution_count": 67
        }
      ]
    },
    {
      "cell_type": "code",
      "metadata": {
        "colab": {
          "base_uri": "https://localhost:8080/"
        },
        "id": "0TgcW4u7LVZs",
        "outputId": "998d80ad-1ef7-4507-8432-ad283f8f3bba"
      },
      "source": [
        "type(age)"
      ],
      "execution_count": null,
      "outputs": [
        {
          "output_type": "execute_result",
          "data": {
            "text/plain": [
              "int"
            ]
          },
          "metadata": {
            "tags": []
          },
          "execution_count": 68
        }
      ]
    },
    {
      "cell_type": "code",
      "metadata": {
        "colab": {
          "base_uri": "https://localhost:8080/",
          "height": 35
        },
        "id": "vAX0fP-3LhjZ",
        "outputId": "0bb9d079-f9a6-4ed6-e721-4ed881c918d1"
      },
      "source": [
        "name.lower()"
      ],
      "execution_count": null,
      "outputs": [
        {
          "output_type": "execute_result",
          "data": {
            "application/vnd.google.colaboratory.intrinsic+json": {
              "type": "string"
            },
            "text/plain": [
              "'jonathan'"
            ]
          },
          "metadata": {
            "tags": []
          },
          "execution_count": 74
        }
      ]
    },
    {
      "cell_type": "code",
      "metadata": {
        "colab": {
          "base_uri": "https://localhost:8080/"
        },
        "id": "9WTfKJSILnCF",
        "outputId": "95e6cb10-b8e2-4b4f-a5c2-713543b03ef9"
      },
      "source": [
        "type(age)"
      ],
      "execution_count": null,
      "outputs": [
        {
          "output_type": "execute_result",
          "data": {
            "text/plain": [
              "int"
            ]
          },
          "metadata": {
            "tags": []
          },
          "execution_count": 76
        }
      ]
    },
    {
      "cell_type": "code",
      "metadata": {
        "colab": {
          "base_uri": "https://localhost:8080/",
          "height": 199
        },
        "id": "mSsPfFX6MJ6W",
        "outputId": "30ccc13c-925a-4365-cf8f-2996c4b3d80d"
      },
      "source": [
        "age.lower()"
      ],
      "execution_count": null,
      "outputs": [
        {
          "output_type": "error",
          "ename": "AttributeError",
          "evalue": "ignored",
          "traceback": [
            "\u001b[0;31m---------------------------------------------------------------------------\u001b[0m",
            "\u001b[0;31mAttributeError\u001b[0m                            Traceback (most recent call last)",
            "\u001b[0;32m<ipython-input-77-d5cc06a9664a>\u001b[0m in \u001b[0;36m<module>\u001b[0;34m()\u001b[0m\n\u001b[0;32m----> 1\u001b[0;31m \u001b[0mage\u001b[0m\u001b[0;34m.\u001b[0m\u001b[0mlower\u001b[0m\u001b[0;34m(\u001b[0m\u001b[0;34m)\u001b[0m\u001b[0;34m\u001b[0m\u001b[0;34m\u001b[0m\u001b[0m\n\u001b[0m",
            "\u001b[0;31mAttributeError\u001b[0m: 'int' object has no attribute 'lower'"
          ]
        }
      ]
    },
    {
      "cell_type": "code",
      "metadata": {
        "colab": {
          "base_uri": "https://localhost:8080/"
        },
        "id": "hYZ5LzhxMM3s",
        "outputId": "d3a30516-8cdd-4ebd-f35f-b36f897bf39a"
      },
      "source": [
        "round(36.4256)"
      ],
      "execution_count": null,
      "outputs": [
        {
          "output_type": "execute_result",
          "data": {
            "text/plain": [
              "36"
            ]
          },
          "metadata": {
            "tags": []
          },
          "execution_count": 83
        }
      ]
    },
    {
      "cell_type": "code",
      "metadata": {
        "colab": {
          "base_uri": "https://localhost:8080/"
        },
        "id": "MWU7udIfN8ek",
        "outputId": "814cf04b-1a7c-4bc8-9f92-42b640aea717"
      },
      "source": [
        "round(39.999999)"
      ],
      "execution_count": null,
      "outputs": [
        {
          "output_type": "execute_result",
          "data": {
            "text/plain": [
              "40"
            ]
          },
          "metadata": {
            "tags": []
          },
          "execution_count": 84
        }
      ]
    },
    {
      "cell_type": "code",
      "metadata": {
        "colab": {
          "base_uri": "https://localhost:8080/"
        },
        "id": "Ahlg_iosN-y1",
        "outputId": "246fb565-52c0-4f98-a8d5-c653f215e670"
      },
      "source": [
        "help(max) "
      ],
      "execution_count": null,
      "outputs": [
        {
          "output_type": "stream",
          "text": [
            "Help on built-in function max in module builtins:\n",
            "\n",
            "max(...)\n",
            "    max(iterable, *[, default=obj, key=func]) -> value\n",
            "    max(arg1, arg2, *args, *[, key=func]) -> value\n",
            "    \n",
            "    With a single iterable argument, return its biggest item. The\n",
            "    default keyword-only argument specifies an object to return if\n",
            "    the provided iterable is empty.\n",
            "    With two or more arguments, return the largest argument.\n",
            "\n"
          ],
          "name": "stdout"
        }
      ]
    },
    {
      "cell_type": "code",
      "metadata": {
        "colab": {
          "base_uri": "https://localhost:8080/"
        },
        "id": "GmjiTguFOFuJ",
        "outputId": "413fb2a8-b3ec-42f1-f630-3e4e7d554775"
      },
      "source": [
        "max(4, 5, 6, 9, 1, 2, 2, 5, 13098185)"
      ],
      "execution_count": null,
      "outputs": [
        {
          "output_type": "execute_result",
          "data": {
            "text/plain": [
              "13098185"
            ]
          },
          "metadata": {
            "tags": []
          },
          "execution_count": 90
        }
      ]
    },
    {
      "cell_type": "code",
      "metadata": {
        "id": "lvUhdlr4OVFJ"
      },
      "source": [
        "# echo hello world"
      ],
      "execution_count": null,
      "outputs": []
    },
    {
      "cell_type": "markdown",
      "metadata": {
        "id": "BAzeBHSTOkaR"
      },
      "source": [
        "In shell languages, one would write: \n",
        "\n",
        "`echo hello world`\n",
        "\n",
        "Echo: the command name\n",
        "hello: the first argument, given to echo as input\n",
        "world: the second argument\n",
        "\n",
        "In python: \n",
        "\n",
        "`print(\"hello\", \"world\")`\n"
      ]
    },
    {
      "cell_type": "code",
      "metadata": {
        "colab": {
          "base_uri": "https://localhost:8080/"
        },
        "id": "zIZJdoK_O2Fi",
        "outputId": "f53446be-d0fc-4685-9b40-eefe49fb6755"
      },
      "source": [
        "print(\"hello\", \"world\")"
      ],
      "execution_count": null,
      "outputs": [
        {
          "output_type": "stream",
          "text": [
            "hello world\n"
          ],
          "name": "stdout"
        }
      ]
    },
    {
      "cell_type": "code",
      "metadata": {
        "colab": {
          "base_uri": "https://localhost:8080/"
        },
        "id": "669y6rrjO84W",
        "outputId": "8d309539-8f02-414c-9637-0cfd13ff26ac"
      },
      "source": [
        "min(5, 6, 7, 4959594, 1)"
      ],
      "execution_count": null,
      "outputs": [
        {
          "output_type": "execute_result",
          "data": {
            "text/plain": [
              "1"
            ]
          },
          "metadata": {
            "tags": []
          },
          "execution_count": 91
        }
      ]
    },
    {
      "cell_type": "code",
      "metadata": {
        "colab": {
          "base_uri": "https://localhost:8080/",
          "height": 199
        },
        "id": "_mY-CSklPK_7",
        "outputId": "f7acd7d4-c855-491d-b2ff-ded5ec2d792a"
      },
      "source": [
        "round(5.34, 516.68, 607135.13513)"
      ],
      "execution_count": null,
      "outputs": [
        {
          "output_type": "error",
          "ename": "TypeError",
          "evalue": "ignored",
          "traceback": [
            "\u001b[0;31m---------------------------------------------------------------------------\u001b[0m",
            "\u001b[0;31mTypeError\u001b[0m                                 Traceback (most recent call last)",
            "\u001b[0;32m<ipython-input-92-f2d3f29181dc>\u001b[0m in \u001b[0;36m<module>\u001b[0;34m()\u001b[0m\n\u001b[0;32m----> 1\u001b[0;31m \u001b[0mround\u001b[0m\u001b[0;34m(\u001b[0m\u001b[0;36m5.34\u001b[0m\u001b[0;34m,\u001b[0m \u001b[0;36m516.68\u001b[0m\u001b[0;34m,\u001b[0m \u001b[0;36m607135.13513\u001b[0m\u001b[0;34m)\u001b[0m\u001b[0;34m\u001b[0m\u001b[0;34m\u001b[0m\u001b[0m\n\u001b[0m",
            "\u001b[0;31mTypeError\u001b[0m: round() takes at most 2 arguments (3 given)"
          ]
        }
      ]
    },
    {
      "cell_type": "code",
      "metadata": {
        "colab": {
          "base_uri": "https://localhost:8080/"
        },
        "id": "k-fT-OuKPRLw",
        "outputId": "a9953488-31cc-4de2-dd52-c8ef5d9f0955"
      },
      "source": [
        "print('hello')\n",
        "print(\"hello\")\n",
        "print('hello world')"
      ],
      "execution_count": null,
      "outputs": [
        {
          "output_type": "stream",
          "text": [
            "hello\n",
            "hello\n",
            "hello world\n"
          ],
          "name": "stdout"
        }
      ]
    },
    {
      "cell_type": "code",
      "metadata": {
        "id": "zPG2TK72PnTy"
      },
      "source": [
        "# I can write something here\n",
        "# and it won't be executed "
      ],
      "execution_count": null,
      "outputs": []
    },
    {
      "cell_type": "code",
      "metadata": {
        "colab": {
          "base_uri": "https://localhost:8080/"
        },
        "id": "t_SSa6GcQNoq",
        "outputId": "664aa593-7e8b-4818-85cb-29ca5b9d7419"
      },
      "source": [
        "name = \"Jonathan\"\n",
        "age = 40\n",
        "# Now I'm going to make myself younger\n",
        "age = age - 5 # Younger \n",
        "print(\"My name is\", name, \"and my age is\", age)"
      ],
      "execution_count": null,
      "outputs": [
        {
          "output_type": "stream",
          "text": [
            "My name is Jonathan and my age is 35\n"
          ],
          "name": "stdout"
        }
      ]
    },
    {
      "cell_type": "code",
      "metadata": {
        "colab": {
          "base_uri": "https://localhost:8080/"
        },
        "id": "TvBNbPVtQ6CB",
        "outputId": "b4dfe732-0680-47dc-f4a0-6e68096d72f4"
      },
      "source": [
        "print(name)"
      ],
      "execution_count": null,
      "outputs": [
        {
          "output_type": "stream",
          "text": [
            "Jonathan\n"
          ],
          "name": "stdout"
        }
      ]
    },
    {
      "cell_type": "code",
      "metadata": {
        "colab": {
          "base_uri": "https://localhost:8080/"
        },
        "id": "u0qtO3N_QfWY",
        "outputId": "fd73c69a-0449-4522-ac7b-42b2b8a8c04c"
      },
      "source": [
        "!echo \"hello world\""
      ],
      "execution_count": null,
      "outputs": [
        {
          "output_type": "stream",
          "text": [
            "hello world\n"
          ],
          "name": "stdout"
        }
      ]
    },
    {
      "cell_type": "code",
      "metadata": {
        "colab": {
          "base_uri": "https://localhost:8080/"
        },
        "id": "TEUHS23jSMl_",
        "outputId": "fa72cbf3-0580-4239-d993-7b6b65ec1598"
      },
      "source": [
        "!cowsay \"hello world\""
      ],
      "execution_count": null,
      "outputs": [
        {
          "output_type": "stream",
          "text": [
            "/bin/bash: cowsay: command not found\n"
          ],
          "name": "stdout"
        }
      ]
    },
    {
      "cell_type": "code",
      "metadata": {
        "colab": {
          "base_uri": "https://localhost:8080/"
        },
        "id": "xgVQ-qOuSP1G",
        "outputId": "6221f5d8-3ceb-41cd-ffec-40284957effe"
      },
      "source": [
        "!sudo apt install cowsay"
      ],
      "execution_count": null,
      "outputs": [
        {
          "output_type": "stream",
          "text": [
            "Reading package lists... Done\n",
            "Building dependency tree       \n",
            "Reading state information... Done\n",
            "The following additional packages will be installed:\n",
            "  libtext-charwidth-perl\n",
            "Suggested packages:\n",
            "  filters cowsay-off\n",
            "The following NEW packages will be installed:\n",
            "  cowsay libtext-charwidth-perl\n",
            "0 upgraded, 2 newly installed, 0 to remove and 39 not upgraded.\n",
            "Need to get 27.2 kB of archives.\n",
            "After this operation, 128 kB of additional disk space will be used.\n",
            "Get:1 http://archive.ubuntu.com/ubuntu bionic/main amd64 libtext-charwidth-perl amd64 0.04-7.1 [9,492 B]\n",
            "Get:2 http://archive.ubuntu.com/ubuntu bionic/universe amd64 cowsay all 3.03+dfsg2-4 [17.7 kB]\n",
            "Fetched 27.2 kB in 0s (64.9 kB/s)\n",
            "debconf: unable to initialize frontend: Dialog\n",
            "debconf: (No usable dialog-like program is installed, so the dialog based frontend cannot be used. at /usr/share/perl5/Debconf/FrontEnd/Dialog.pm line 76, <> line 2.)\n",
            "debconf: falling back to frontend: Readline\n",
            "debconf: unable to initialize frontend: Readline\n",
            "debconf: (This frontend requires a controlling tty.)\n",
            "debconf: falling back to frontend: Teletype\n",
            "dpkg-preconfigure: unable to re-open stdin: \n",
            "Selecting previously unselected package libtext-charwidth-perl.\n",
            "(Reading database ... 160772 files and directories currently installed.)\n",
            "Preparing to unpack .../libtext-charwidth-perl_0.04-7.1_amd64.deb ...\n",
            "Unpacking libtext-charwidth-perl (0.04-7.1) ...\n",
            "Selecting previously unselected package cowsay.\n",
            "Preparing to unpack .../cowsay_3.03+dfsg2-4_all.deb ...\n",
            "Unpacking cowsay (3.03+dfsg2-4) ...\n",
            "Setting up libtext-charwidth-perl (0.04-7.1) ...\n",
            "Setting up cowsay (3.03+dfsg2-4) ...\n",
            "Processing triggers for man-db (2.8.3-2ubuntu0.1) ...\n"
          ],
          "name": "stdout"
        }
      ]
    },
    {
      "cell_type": "code",
      "metadata": {
        "colab": {
          "base_uri": "https://localhost:8080/"
        },
        "id": "4tlQAVfbSUi_",
        "outputId": "5b1d34b3-7320-4754-d1f9-fcc8d2cda5e9"
      },
      "source": [
        "!/usr/games/cowsay \"hello world\""
      ],
      "execution_count": null,
      "outputs": [
        {
          "output_type": "stream",
          "text": [
            " _____________\n",
            "< hello world >\n",
            " -------------\n",
            "        \\   ^__^\n",
            "         \\  (oo)\\_______\n",
            "            (__)\\       )\\/\\\n",
            "                ||----w |\n",
            "                ||     ||\n"
          ],
          "name": "stdout"
        }
      ]
    },
    {
      "cell_type": "code",
      "metadata": {
        "colab": {
          "base_uri": "https://localhost:8080/"
        },
        "id": "Ppc_tlEwSYP9",
        "outputId": "7c289cd1-bb7c-414d-eca8-9c66f2f21d3a"
      },
      "source": [
        "!ls"
      ],
      "execution_count": null,
      "outputs": [
        {
          "output_type": "stream",
          "text": [
            "sample_data\n"
          ],
          "name": "stdout"
        }
      ]
    },
    {
      "cell_type": "code",
      "metadata": {
        "id": "HZ9wOKMWSmBu"
      },
      "source": [
        "!cd sample_data"
      ],
      "execution_count": null,
      "outputs": []
    },
    {
      "cell_type": "code",
      "metadata": {
        "colab": {
          "base_uri": "https://localhost:8080/"
        },
        "id": "pHiUwlUnSogY",
        "outputId": "b59f9835-0738-48ca-8937-dc2c1dacd1a4"
      },
      "source": [
        "!ls sample_data"
      ],
      "execution_count": null,
      "outputs": [
        {
          "output_type": "stream",
          "text": [
            "anscombe.json\t\t      mnist_test.csv\n",
            "california_housing_test.csv   mnist_train_small.csv\n",
            "california_housing_train.csv  README.md\n"
          ],
          "name": "stdout"
        }
      ]
    },
    {
      "cell_type": "code",
      "metadata": {
        "id": "mwC3b-sXSpSa"
      },
      "source": [
        "!cat sample_data/README.md"
      ],
      "execution_count": null,
      "outputs": []
    },
    {
      "cell_type": "code",
      "metadata": {
        "id": "OL8zzHy6Su-x"
      },
      "source": [
        ""
      ],
      "execution_count": null,
      "outputs": []
    },
    {
      "cell_type": "markdown",
      "metadata": {
        "id": "o1mhOJxbs67F"
      },
      "source": [
        "# Importing Libraries"
      ]
    },
    {
      "cell_type": "code",
      "metadata": {
        "id": "jAKcb5i5ryda"
      },
      "source": [
        "import math"
      ],
      "execution_count": null,
      "outputs": []
    },
    {
      "cell_type": "code",
      "metadata": {
        "colab": {
          "base_uri": "https://localhost:8080/"
        },
        "id": "6bG9iUpcr2jQ",
        "outputId": "661705f7-ff6a-4fac-f88f-319420d6370c"
      },
      "source": [
        "math.cos(180)"
      ],
      "execution_count": null,
      "outputs": [
        {
          "output_type": "execute_result",
          "data": {
            "text/plain": [
              "-0.5984600690578581"
            ]
          },
          "metadata": {
            "tags": []
          },
          "execution_count": 124
        }
      ]
    },
    {
      "cell_type": "code",
      "metadata": {
        "colab": {
          "base_uri": "https://localhost:8080/"
        },
        "id": "OhSNLvUcr6-z",
        "outputId": "f9dff752-d2bb-4003-d220-e28e9c7634b5"
      },
      "source": [
        "type(math.cos)"
      ],
      "execution_count": null,
      "outputs": [
        {
          "output_type": "execute_result",
          "data": {
            "text/plain": [
              "builtin_function_or_method"
            ]
          },
          "metadata": {
            "tags": []
          },
          "execution_count": 125
        }
      ]
    },
    {
      "cell_type": "code",
      "metadata": {
        "colab": {
          "base_uri": "https://localhost:8080/"
        },
        "id": "vCCZRkxMsRDr",
        "outputId": "9ec1f151-a2a3-4ade-fe15-71bc4e1bd5bc"
      },
      "source": [
        "type(math.pi)"
      ],
      "execution_count": null,
      "outputs": [
        {
          "output_type": "execute_result",
          "data": {
            "text/plain": [
              "float"
            ]
          },
          "metadata": {
            "tags": []
          },
          "execution_count": 126
        }
      ]
    },
    {
      "cell_type": "code",
      "metadata": {
        "colab": {
          "base_uri": "https://localhost:8080/"
        },
        "id": "dBFfh2g9sZC1",
        "outputId": "33fc1aba-0521-4894-8358-7f32f0350078"
      },
      "source": [
        "math.cos(180)"
      ],
      "execution_count": null,
      "outputs": [
        {
          "output_type": "execute_result",
          "data": {
            "text/plain": [
              "-0.5984600690578581"
            ]
          },
          "metadata": {
            "tags": []
          },
          "execution_count": 127
        }
      ]
    },
    {
      "cell_type": "code",
      "metadata": {
        "colab": {
          "base_uri": "https://localhost:8080/",
          "height": 199
        },
        "id": "j1zblnD9seFh",
        "outputId": "2cfbec6a-dc60-47ed-969a-b44aa7fd344c"
      },
      "source": [
        "math.pi(180)"
      ],
      "execution_count": null,
      "outputs": [
        {
          "output_type": "error",
          "ename": "TypeError",
          "evalue": "ignored",
          "traceback": [
            "\u001b[0;31m---------------------------------------------------------------------------\u001b[0m",
            "\u001b[0;31mTypeError\u001b[0m                                 Traceback (most recent call last)",
            "\u001b[0;32m<ipython-input-128-868e3315484b>\u001b[0m in \u001b[0;36m<module>\u001b[0;34m()\u001b[0m\n\u001b[0;32m----> 1\u001b[0;31m \u001b[0mmath\u001b[0m\u001b[0;34m.\u001b[0m\u001b[0mpi\u001b[0m\u001b[0;34m(\u001b[0m\u001b[0;36m180\u001b[0m\u001b[0;34m)\u001b[0m\u001b[0;34m\u001b[0m\u001b[0;34m\u001b[0m\u001b[0m\n\u001b[0m",
            "\u001b[0;31mTypeError\u001b[0m: 'float' object is not callable"
          ]
        }
      ]
    },
    {
      "cell_type": "code",
      "metadata": {
        "colab": {
          "base_uri": "https://localhost:8080/"
        },
        "id": "kZvjo1HXsg9k",
        "outputId": "fc1a1fa1-1318-4988-afd6-8c6e41694b0d"
      },
      "source": [
        "math.cos(math.pi)"
      ],
      "execution_count": null,
      "outputs": [
        {
          "output_type": "execute_result",
          "data": {
            "text/plain": [
              "-1.0"
            ]
          },
          "metadata": {
            "tags": []
          },
          "execution_count": 130
        }
      ]
    },
    {
      "cell_type": "code",
      "metadata": {
        "id": "2IjiasfRskBz"
      },
      "source": [
        "dir(math)"
      ],
      "execution_count": null,
      "outputs": []
    },
    {
      "cell_type": "markdown",
      "metadata": {
        "id": "aTbGrG_Rs9Jp"
      },
      "source": [
        "## A different way to import libraries"
      ]
    },
    {
      "cell_type": "code",
      "metadata": {
        "id": "WBzAPKp7suC4"
      },
      "source": [
        "from math import pi"
      ],
      "execution_count": null,
      "outputs": []
    },
    {
      "cell_type": "code",
      "metadata": {
        "colab": {
          "base_uri": "https://localhost:8080/"
        },
        "id": "Kh6Nrtf3s1yx",
        "outputId": "44ca529e-5e32-4fc4-f92b-397e922f4488"
      },
      "source": [
        "pi"
      ],
      "execution_count": null,
      "outputs": [
        {
          "output_type": "execute_result",
          "data": {
            "text/plain": [
              "3.141592653589793"
            ]
          },
          "metadata": {
            "tags": []
          },
          "execution_count": 133
        }
      ]
    },
    {
      "cell_type": "code",
      "metadata": {
        "id": "Y16ez-3Os4xm"
      },
      "source": [
        ""
      ],
      "execution_count": null,
      "outputs": []
    },
    {
      "cell_type": "markdown",
      "metadata": {
        "id": "amIOZyzjtAUH"
      },
      "source": [
        "## Yet another way to import libraries"
      ]
    },
    {
      "cell_type": "code",
      "metadata": {
        "id": "VaZN9AbQtCSh"
      },
      "source": [
        "from math import pi as numberPi "
      ],
      "execution_count": null,
      "outputs": []
    },
    {
      "cell_type": "code",
      "metadata": {
        "colab": {
          "base_uri": "https://localhost:8080/"
        },
        "id": "DHp5scNMtJEB",
        "outputId": "157c56aa-8482-4701-87bc-c408fa0d9a4e"
      },
      "source": [
        "numberPi "
      ],
      "execution_count": null,
      "outputs": [
        {
          "output_type": "execute_result",
          "data": {
            "text/plain": [
              "3.141592653589793"
            ]
          },
          "metadata": {
            "tags": []
          },
          "execution_count": 135
        }
      ]
    },
    {
      "cell_type": "code",
      "metadata": {
        "id": "qb6Dy964tLQU"
      },
      "source": [
        "math.pi"
      ],
      "execution_count": null,
      "outputs": []
    },
    {
      "cell_type": "code",
      "metadata": {
        "id": "GwRTWrautNs2"
      },
      "source": [
        "\n"
      ],
      "execution_count": null,
      "outputs": []
    },
    {
      "cell_type": "markdown",
      "metadata": {
        "id": "vxeYf4bIt2zF"
      },
      "source": [
        "## Review: your friends\n",
        "\n",
        "`help()`, `type()`, `dir()`"
      ]
    },
    {
      "cell_type": "code",
      "metadata": {
        "colab": {
          "base_uri": "https://localhost:8080/"
        },
        "id": "gonLAZWpt-1I",
        "outputId": "0ef25a26-49d8-4bff-ca20-ce7792a7bc7b"
      },
      "source": [
        "type(name) == str"
      ],
      "execution_count": null,
      "outputs": [
        {
          "output_type": "execute_result",
          "data": {
            "text/plain": [
              "True"
            ]
          },
          "metadata": {
            "tags": []
          },
          "execution_count": 137
        }
      ]
    },
    {
      "cell_type": "code",
      "metadata": {
        "colab": {
          "base_uri": "https://localhost:8080/"
        },
        "id": "SQc45c-1ukcI",
        "outputId": "b1482bd0-f2e9-4078-c2b9-66426eec8df1"
      },
      "source": [
        "help(print)"
      ],
      "execution_count": null,
      "outputs": [
        {
          "output_type": "stream",
          "text": [
            "Help on built-in function print in module builtins:\n",
            "\n",
            "print(...)\n",
            "    print(value, ..., sep=' ', end='\\n', file=sys.stdout, flush=False)\n",
            "    \n",
            "    Prints the values to a stream, or to sys.stdout by default.\n",
            "    Optional keyword arguments:\n",
            "    file:  a file-like object (stream); defaults to the current sys.stdout.\n",
            "    sep:   string inserted between values, default a space.\n",
            "    end:   string appended after the last value, default a newline.\n",
            "    flush: whether to forcibly flush the stream.\n",
            "\n"
          ],
          "name": "stdout"
        }
      ]
    },
    {
      "cell_type": "markdown",
      "metadata": {
        "id": "6towSBAFu-FN"
      },
      "source": [
        "# Tabular Data with Pandas "
      ]
    },
    {
      "cell_type": "code",
      "metadata": {
        "id": "DXW0msG0u6Vs"
      },
      "source": [
        "import pandas as pd "
      ],
      "execution_count": null,
      "outputs": []
    },
    {
      "cell_type": "code",
      "metadata": {
        "colab": {
          "base_uri": "https://localhost:8080/"
        },
        "id": "Vcs9UsmvvOro",
        "outputId": "8c1f16b3-8eee-46e9-984c-66a30d4ce048"
      },
      "source": [
        "!wget http://swcarpentry.github.io/python-novice-gapminder/files/python-novice-gapminder-data.zip"
      ],
      "execution_count": null,
      "outputs": [
        {
          "output_type": "stream",
          "text": [
            "--2021-06-22 17:23:17--  http://swcarpentry.github.io/python-novice-gapminder/files/python-novice-gapminder-data.zip\n",
            "Resolving swcarpentry.github.io (swcarpentry.github.io)... 185.199.108.153, 185.199.109.153, 185.199.110.153, ...\n",
            "Connecting to swcarpentry.github.io (swcarpentry.github.io)|185.199.108.153|:80... connected.\n",
            "HTTP request sent, awaiting response... 200 OK\n",
            "Length: 38471 (38K) [application/zip]\n",
            "Saving to: ‘python-novice-gapminder-data.zip’\n",
            "\n",
            "\r          python-no   0%[                    ]       0  --.-KB/s               \rpython-novice-gapmi 100%[===================>]  37.57K  --.-KB/s    in 0.002s  \n",
            "\n",
            "2021-06-22 17:23:17 (22.9 MB/s) - ‘python-novice-gapminder-data.zip’ saved [38471/38471]\n",
            "\n"
          ],
          "name": "stdout"
        }
      ]
    },
    {
      "cell_type": "code",
      "metadata": {
        "colab": {
          "base_uri": "https://localhost:8080/"
        },
        "id": "EQeM1risvSYI",
        "outputId": "88df2348-31de-4acb-d45f-f707c6ac0920"
      },
      "source": [
        "!ls"
      ],
      "execution_count": null,
      "outputs": [
        {
          "output_type": "stream",
          "text": [
            "python-novice-gapminder-data.zip  sample_data\n"
          ],
          "name": "stdout"
        }
      ]
    },
    {
      "cell_type": "markdown",
      "metadata": {
        "id": "JUwxeaA3wEBi"
      },
      "source": [
        ""
      ]
    },
    {
      "cell_type": "code",
      "metadata": {
        "id": "Mveyikihv5Ug"
      },
      "source": [
        ""
      ],
      "execution_count": null,
      "outputs": []
    },
    {
      "cell_type": "markdown",
      "metadata": {
        "id": "Pk188gPKv8KZ"
      },
      "source": [
        "```\n",
        "< > ! * ' ' #\n",
        "^ \" ` $ $ -\n",
        "! * = @ $ _\n",
        "% * < > ~ # 4\n",
        "& [ ] . . /\n",
        "| { , , SYSTEM HALTED\n",
        "\n",
        "The poem can only be appreciated by reading it aloud, as such:\n",
        "\n",
        "Waka waka bang splat tick tick hash,\n",
        "Caret quote back-tick dollar dollar dash,\n",
        "Bang splat equal at dollar under-score,\n",
        "Percent splat waka waka tilde number four,\n",
        "Ampersand bracket bracket dot dot slash,\n",
        "Vertical-bar curly-bracket comma comma CRASH!\n",
        "```"
      ]
    },
    {
      "cell_type": "code",
      "metadata": {
        "colab": {
          "base_uri": "https://localhost:8080/"
        },
        "id": "JLwRl4XqwZLA",
        "outputId": "f5123e63-3c4e-4c82-e8f4-870497a4da35"
      },
      "source": [
        "!ls"
      ],
      "execution_count": null,
      "outputs": [
        {
          "output_type": "stream",
          "text": [
            "python-novice-gapminder-data.zip  sample_data\n"
          ],
          "name": "stdout"
        }
      ]
    },
    {
      "cell_type": "code",
      "metadata": {
        "colab": {
          "base_uri": "https://localhost:8080/"
        },
        "id": "SxxFIfumweqt",
        "outputId": "6c4d8405-a9e7-41f9-c287-10efb2543fa1"
      },
      "source": [
        "!unzip python-novice-gapminder-data.zip"
      ],
      "execution_count": null,
      "outputs": [
        {
          "output_type": "stream",
          "text": [
            "Archive:  python-novice-gapminder-data.zip\n",
            "  inflating: data/gapminder_all.csv  \n",
            "  inflating: data/gapminder_gdp_africa.csv  \n",
            "  inflating: data/gapminder_gdp_americas.csv  \n",
            "  inflating: data/gapminder_gdp_asia.csv  \n",
            "  inflating: data/gapminder_gdp_europe.csv  \n",
            "  inflating: data/gapminder_gdp_oceania.csv  \n"
          ],
          "name": "stdout"
        }
      ]
    },
    {
      "cell_type": "code",
      "metadata": {
        "colab": {
          "base_uri": "https://localhost:8080/"
        },
        "id": "iJQ-XTE5wkEf",
        "outputId": "fb589af4-a467-44c0-e3f7-df738682cf0e"
      },
      "source": [
        "!ls"
      ],
      "execution_count": null,
      "outputs": [
        {
          "output_type": "stream",
          "text": [
            "data  python-novice-gapminder-data.zip\tsample_data\n"
          ],
          "name": "stdout"
        }
      ]
    },
    {
      "cell_type": "code",
      "metadata": {
        "colab": {
          "base_uri": "https://localhost:8080/"
        },
        "id": "nuRchdw1w3Dn",
        "outputId": "32980eea-7ab6-42c4-fbe6-da8f1ec3dd85"
      },
      "source": [
        "!head data/gapminder_gdp_americas.csv"
      ],
      "execution_count": null,
      "outputs": [
        {
          "output_type": "stream",
          "text": [
            "continent,country,gdpPercap_1952,gdpPercap_1957,gdpPercap_1962,gdpPercap_1967,gdpPercap_1972,gdpPercap_1977,gdpPercap_1982,gdpPercap_1987,gdpPercap_1992,gdpPercap_1997,gdpPercap_2002,gdpPercap_2007\n",
            "Americas,Argentina,5911.315053,6856.856212,7133.166023,8052.953021,9443.038526,10079.02674,8997.897412,9139.671389,9308.41871,10967.28195,8797.640716,12779.37964\n",
            "Americas,Bolivia,2677.326347,2127.686326,2180.972546,2586.886053,2980.331339,3548.097832,3156.510452,2753.69149,2961.699694,3326.143191,3413.26269,3822.137084\n",
            "Americas,Brazil,2108.944355,2487.365989,3336.585802,3429.864357,4985.711467,6660.118654,7030.835878,7807.095818,6950.283021,7957.980824,8131.212843,9065.800825\n",
            "Americas,Canada,11367.16112,12489.95006,13462.48555,16076.58803,18970.57086,22090.88306,22898.79214,26626.51503,26342.88426,28954.92589,33328.96507,36319.23501\n",
            "Americas,Chile,3939.978789,4315.622723,4519.094331,5106.654313,5494.024437,4756.763836,5095.665738,5547.063754,7596.125964,10118.05318,10778.78385,13171.63885\n",
            "Americas,Colombia,2144.115096,2323.805581,2492.351109,2678.729839,3264.660041,3815.80787,4397.575659,4903.2191,5444.648617,6117.361746,5755.259962,7006.580419\n",
            "Americas,Costa Rica,2627.009471,2990.010802,3460.937025,4161.727834,5118.146939,5926.876967,5262.734751,5629.915318,6160.416317,6677.045314,7723.447195,9645.06142\n",
            "Americas,Cuba,5586.53878,6092.174359,5180.75591,5690.268015,5305.445256,6380.494966,7316.918107,7532.924763,5592.843963,5431.990415,6340.646683,8948.102923\n",
            "Americas,Dominican Republic,1397.717137,1544.402995,1662.137359,1653.723003,2189.874499,2681.9889,2861.092386,2899.842175,3044.214214,3614.101285,4563.808154,6025.374752\n"
          ],
          "name": "stdout"
        }
      ]
    },
    {
      "cell_type": "code",
      "metadata": {
        "id": "2TdA8d4NxkpK"
      },
      "source": [
        "myCSV = \"\"\"\n",
        "name,numCookies,dayConsumed\n",
        "Jonathan,5,Monday\n",
        "Cookie Monster,2500,Tuesday\n",
        "Meredith,25,Thursday\n",
        "\"\"\""
      ],
      "execution_count": null,
      "outputs": []
    },
    {
      "cell_type": "code",
      "metadata": {
        "colab": {
          "base_uri": "https://localhost:8080/"
        },
        "id": "EWhaNwVLyCk7",
        "outputId": "577106db-c041-497b-dc7d-4759005e039f"
      },
      "source": [
        "print(myCSV)"
      ],
      "execution_count": null,
      "outputs": [
        {
          "output_type": "stream",
          "text": [
            "\n",
            "name,numCookies,dayConsumed\n",
            "Jonathan,5,Monday\n",
            "Cookie Monster,2500,Tuesday\n",
            "Meredith,25,Thursday\n",
            "\n"
          ],
          "name": "stdout"
        }
      ]
    },
    {
      "cell_type": "code",
      "metadata": {
        "colab": {
          "base_uri": "https://localhost:8080/"
        },
        "id": "OVKZvOnEyPZk",
        "outputId": "afe81742-2e9f-44a5-8e99-5482cd170431"
      },
      "source": [
        "open('cookies.csv', 'w').write(myCSV)"
      ],
      "execution_count": null,
      "outputs": [
        {
          "output_type": "execute_result",
          "data": {
            "text/plain": [
              "96"
            ]
          },
          "metadata": {
            "tags": []
          },
          "execution_count": 150
        }
      ]
    },
    {
      "cell_type": "code",
      "metadata": {
        "colab": {
          "base_uri": "https://localhost:8080/"
        },
        "id": "OrC2owUpwTMt",
        "outputId": "026da460-0473-412f-b3ca-703d6b002a63"
      },
      "source": [
        "!ls"
      ],
      "execution_count": null,
      "outputs": [
        {
          "output_type": "stream",
          "text": [
            "cookies.csv  data  python-novice-gapminder-data.zip  sample_data\n"
          ],
          "name": "stdout"
        }
      ]
    },
    {
      "cell_type": "code",
      "metadata": {
        "colab": {
          "base_uri": "https://localhost:8080/"
        },
        "id": "_aKJBK7LyVzU",
        "outputId": "9bea5952-9470-4d0a-c3cb-9d1bea65f68f"
      },
      "source": [
        "!cat cookies.csv"
      ],
      "execution_count": null,
      "outputs": [
        {
          "output_type": "stream",
          "text": [
            "\n",
            "name,numCookies,dayConsumed\n",
            "Jonathan,5,Monday\n",
            "Cookie Monster,2500,Tuesday\n",
            "Meredith,25,Thursday\n"
          ],
          "name": "stdout"
        }
      ]
    },
    {
      "cell_type": "code",
      "metadata": {
        "colab": {
          "base_uri": "https://localhost:8080/",
          "height": 141
        },
        "id": "f7JooXTcyX9H",
        "outputId": "dc2bfa9a-bb2b-4704-dd04-754b3aaf64a6"
      },
      "source": [
        "pd.read_csv('cookies.csv')"
      ],
      "execution_count": null,
      "outputs": [
        {
          "output_type": "execute_result",
          "data": {
            "text/html": [
              "<div>\n",
              "<style scoped>\n",
              "    .dataframe tbody tr th:only-of-type {\n",
              "        vertical-align: middle;\n",
              "    }\n",
              "\n",
              "    .dataframe tbody tr th {\n",
              "        vertical-align: top;\n",
              "    }\n",
              "\n",
              "    .dataframe thead th {\n",
              "        text-align: right;\n",
              "    }\n",
              "</style>\n",
              "<table border=\"1\" class=\"dataframe\">\n",
              "  <thead>\n",
              "    <tr style=\"text-align: right;\">\n",
              "      <th></th>\n",
              "      <th>name</th>\n",
              "      <th>numCookies</th>\n",
              "      <th>dayConsumed</th>\n",
              "    </tr>\n",
              "  </thead>\n",
              "  <tbody>\n",
              "    <tr>\n",
              "      <th>0</th>\n",
              "      <td>Jonathan</td>\n",
              "      <td>5</td>\n",
              "      <td>Monday</td>\n",
              "    </tr>\n",
              "    <tr>\n",
              "      <th>1</th>\n",
              "      <td>Cookie Monster</td>\n",
              "      <td>2500</td>\n",
              "      <td>Tuesday</td>\n",
              "    </tr>\n",
              "    <tr>\n",
              "      <th>2</th>\n",
              "      <td>Meredith</td>\n",
              "      <td>25</td>\n",
              "      <td>Thursday</td>\n",
              "    </tr>\n",
              "  </tbody>\n",
              "</table>\n",
              "</div>"
            ],
            "text/plain": [
              "             name  numCookies dayConsumed\n",
              "0        Jonathan           5      Monday\n",
              "1  Cookie Monster        2500     Tuesday\n",
              "2        Meredith          25    Thursday"
            ]
          },
          "metadata": {
            "tags": []
          },
          "execution_count": 153
        }
      ]
    },
    {
      "cell_type": "code",
      "metadata": {
        "colab": {
          "base_uri": "https://localhost:8080/"
        },
        "id": "QdDMzD12y3ap",
        "outputId": "b4a4de1f-9df2-4809-ad35-e6da2a523648"
      },
      "source": [
        "!ls data/"
      ],
      "execution_count": null,
      "outputs": [
        {
          "output_type": "stream",
          "text": [
            "gapminder_all.csv\t  gapminder_gdp_americas.csv  gapminder_gdp_europe.csv\n",
            "gapminder_gdp_africa.csv  gapminder_gdp_asia.csv      gapminder_gdp_oceania.csv\n"
          ],
          "name": "stdout"
        }
      ]
    },
    {
      "cell_type": "code",
      "metadata": {
        "id": "O9h_zjmQybdA"
      },
      "source": [
        "oceaniaDF = pd.read_csv('data/gapminder_gdp_oceania.csv')"
      ],
      "execution_count": null,
      "outputs": []
    },
    {
      "cell_type": "code",
      "metadata": {
        "colab": {
          "base_uri": "https://localhost:8080/"
        },
        "id": "FUGBvCMuy8Ou",
        "outputId": "e0db26f8-453a-4054-e331-e035207d0a59"
      },
      "source": [
        "type(oceaniaDF)"
      ],
      "execution_count": null,
      "outputs": [
        {
          "output_type": "execute_result",
          "data": {
            "text/plain": [
              "pandas.core.frame.DataFrame"
            ]
          },
          "metadata": {
            "tags": []
          },
          "execution_count": 157
        }
      ]
    },
    {
      "cell_type": "code",
      "metadata": {
        "colab": {
          "base_uri": "https://localhost:8080/",
          "height": 178
        },
        "id": "qziLOEIOzGmC",
        "outputId": "02fbe42e-b59b-4eb9-91d9-9c91d5f40e8e"
      },
      "source": [
        "oceaniaDF"
      ],
      "execution_count": null,
      "outputs": [
        {
          "output_type": "execute_result",
          "data": {
            "text/html": [
              "<div>\n",
              "<style scoped>\n",
              "    .dataframe tbody tr th:only-of-type {\n",
              "        vertical-align: middle;\n",
              "    }\n",
              "\n",
              "    .dataframe tbody tr th {\n",
              "        vertical-align: top;\n",
              "    }\n",
              "\n",
              "    .dataframe thead th {\n",
              "        text-align: right;\n",
              "    }\n",
              "</style>\n",
              "<table border=\"1\" class=\"dataframe\">\n",
              "  <thead>\n",
              "    <tr style=\"text-align: right;\">\n",
              "      <th></th>\n",
              "      <th>gdpPercap_1952</th>\n",
              "      <th>gdpPercap_1957</th>\n",
              "      <th>gdpPercap_1962</th>\n",
              "      <th>gdpPercap_1967</th>\n",
              "      <th>gdpPercap_1972</th>\n",
              "      <th>gdpPercap_1977</th>\n",
              "      <th>gdpPercap_1982</th>\n",
              "      <th>gdpPercap_1987</th>\n",
              "      <th>gdpPercap_1992</th>\n",
              "      <th>gdpPercap_1997</th>\n",
              "      <th>gdpPercap_2002</th>\n",
              "      <th>gdpPercap_2007</th>\n",
              "    </tr>\n",
              "    <tr>\n",
              "      <th>country</th>\n",
              "      <th></th>\n",
              "      <th></th>\n",
              "      <th></th>\n",
              "      <th></th>\n",
              "      <th></th>\n",
              "      <th></th>\n",
              "      <th></th>\n",
              "      <th></th>\n",
              "      <th></th>\n",
              "      <th></th>\n",
              "      <th></th>\n",
              "      <th></th>\n",
              "    </tr>\n",
              "  </thead>\n",
              "  <tbody>\n",
              "    <tr>\n",
              "      <th>Australia</th>\n",
              "      <td>10039.59564</td>\n",
              "      <td>10949.64959</td>\n",
              "      <td>12217.22686</td>\n",
              "      <td>14526.12465</td>\n",
              "      <td>16788.62948</td>\n",
              "      <td>18334.19751</td>\n",
              "      <td>19477.00928</td>\n",
              "      <td>21888.88903</td>\n",
              "      <td>23424.76683</td>\n",
              "      <td>26997.93657</td>\n",
              "      <td>30687.75473</td>\n",
              "      <td>34435.36744</td>\n",
              "    </tr>\n",
              "    <tr>\n",
              "      <th>New Zealand</th>\n",
              "      <td>10556.57566</td>\n",
              "      <td>12247.39532</td>\n",
              "      <td>13175.67800</td>\n",
              "      <td>14463.91893</td>\n",
              "      <td>16046.03728</td>\n",
              "      <td>16233.71770</td>\n",
              "      <td>17632.41040</td>\n",
              "      <td>19007.19129</td>\n",
              "      <td>18363.32494</td>\n",
              "      <td>21050.41377</td>\n",
              "      <td>23189.80135</td>\n",
              "      <td>25185.00911</td>\n",
              "    </tr>\n",
              "  </tbody>\n",
              "</table>\n",
              "</div>"
            ],
            "text/plain": [
              "             gdpPercap_1952  gdpPercap_1957  ...  gdpPercap_2002  gdpPercap_2007\n",
              "country                                      ...                                \n",
              "Australia       10039.59564     10949.64959  ...     30687.75473     34435.36744\n",
              "New Zealand     10556.57566     12247.39532  ...     23189.80135     25185.00911\n",
              "\n",
              "[2 rows x 12 columns]"
            ]
          },
          "metadata": {
            "tags": []
          },
          "execution_count": 232
        }
      ]
    },
    {
      "cell_type": "code",
      "metadata": {
        "colab": {
          "base_uri": "https://localhost:8080/",
          "height": 35
        },
        "id": "AA9tmegIzlRP",
        "outputId": "5b7a88a9-6517-4d81-db0d-24c60036ee02"
      },
      "source": [
        "\"HELLO\".lower()"
      ],
      "execution_count": null,
      "outputs": [
        {
          "output_type": "execute_result",
          "data": {
            "application/vnd.google.colaboratory.intrinsic+json": {
              "type": "string"
            },
            "text/plain": [
              "'hello'"
            ]
          },
          "metadata": {
            "tags": []
          },
          "execution_count": 161
        }
      ]
    },
    {
      "cell_type": "code",
      "metadata": {
        "colab": {
          "base_uri": "https://localhost:8080/"
        },
        "id": "Iuuqy9DEzLzu",
        "outputId": "e3ac7a1a-018f-46fc-d267-bce48235ef33"
      },
      "source": [
        "oceaniaDF.info()"
      ],
      "execution_count": null,
      "outputs": [
        {
          "output_type": "stream",
          "text": [
            "<class 'pandas.core.frame.DataFrame'>\n",
            "RangeIndex: 2 entries, 0 to 1\n",
            "Data columns (total 13 columns):\n",
            " #   Column          Non-Null Count  Dtype  \n",
            "---  ------          --------------  -----  \n",
            " 0   country         2 non-null      object \n",
            " 1   gdpPercap_1952  2 non-null      float64\n",
            " 2   gdpPercap_1957  2 non-null      float64\n",
            " 3   gdpPercap_1962  2 non-null      float64\n",
            " 4   gdpPercap_1967  2 non-null      float64\n",
            " 5   gdpPercap_1972  2 non-null      float64\n",
            " 6   gdpPercap_1977  2 non-null      float64\n",
            " 7   gdpPercap_1982  2 non-null      float64\n",
            " 8   gdpPercap_1987  2 non-null      float64\n",
            " 9   gdpPercap_1992  2 non-null      float64\n",
            " 10  gdpPercap_1997  2 non-null      float64\n",
            " 11  gdpPercap_2002  2 non-null      float64\n",
            " 12  gdpPercap_2007  2 non-null      float64\n",
            "dtypes: float64(12), object(1)\n",
            "memory usage: 336.0+ bytes\n"
          ],
          "name": "stdout"
        }
      ]
    },
    {
      "cell_type": "code",
      "metadata": {
        "colab": {
          "base_uri": "https://localhost:8080/",
          "height": 315
        },
        "id": "SCi-arZXzt4d",
        "outputId": "8966261c-eeec-478f-eab1-10131554b1d6"
      },
      "source": [
        "oceaniaDF.describe()"
      ],
      "execution_count": null,
      "outputs": [
        {
          "output_type": "execute_result",
          "data": {
            "text/html": [
              "<div>\n",
              "<style scoped>\n",
              "    .dataframe tbody tr th:only-of-type {\n",
              "        vertical-align: middle;\n",
              "    }\n",
              "\n",
              "    .dataframe tbody tr th {\n",
              "        vertical-align: top;\n",
              "    }\n",
              "\n",
              "    .dataframe thead th {\n",
              "        text-align: right;\n",
              "    }\n",
              "</style>\n",
              "<table border=\"1\" class=\"dataframe\">\n",
              "  <thead>\n",
              "    <tr style=\"text-align: right;\">\n",
              "      <th></th>\n",
              "      <th>gdpPercap_1952</th>\n",
              "      <th>gdpPercap_1957</th>\n",
              "      <th>gdpPercap_1962</th>\n",
              "      <th>gdpPercap_1967</th>\n",
              "      <th>gdpPercap_1972</th>\n",
              "      <th>gdpPercap_1977</th>\n",
              "      <th>gdpPercap_1982</th>\n",
              "      <th>gdpPercap_1987</th>\n",
              "      <th>gdpPercap_1992</th>\n",
              "      <th>gdpPercap_1997</th>\n",
              "      <th>gdpPercap_2002</th>\n",
              "      <th>gdpPercap_2007</th>\n",
              "    </tr>\n",
              "  </thead>\n",
              "  <tbody>\n",
              "    <tr>\n",
              "      <th>count</th>\n",
              "      <td>2.000000</td>\n",
              "      <td>2.000000</td>\n",
              "      <td>2.000000</td>\n",
              "      <td>2.000000</td>\n",
              "      <td>2.00000</td>\n",
              "      <td>2.000000</td>\n",
              "      <td>2.000000</td>\n",
              "      <td>2.000000</td>\n",
              "      <td>2.000000</td>\n",
              "      <td>2.000000</td>\n",
              "      <td>2.000000</td>\n",
              "      <td>2.000000</td>\n",
              "    </tr>\n",
              "    <tr>\n",
              "      <th>mean</th>\n",
              "      <td>10298.085650</td>\n",
              "      <td>11598.522455</td>\n",
              "      <td>12696.452430</td>\n",
              "      <td>14495.021790</td>\n",
              "      <td>16417.33338</td>\n",
              "      <td>17283.957605</td>\n",
              "      <td>18554.709840</td>\n",
              "      <td>20448.040160</td>\n",
              "      <td>20894.045885</td>\n",
              "      <td>24024.175170</td>\n",
              "      <td>26938.778040</td>\n",
              "      <td>29810.188275</td>\n",
              "    </tr>\n",
              "    <tr>\n",
              "      <th>std</th>\n",
              "      <td>365.560078</td>\n",
              "      <td>917.644806</td>\n",
              "      <td>677.727301</td>\n",
              "      <td>43.986086</td>\n",
              "      <td>525.09198</td>\n",
              "      <td>1485.263517</td>\n",
              "      <td>1304.328377</td>\n",
              "      <td>2037.668013</td>\n",
              "      <td>3578.979883</td>\n",
              "      <td>4205.533703</td>\n",
              "      <td>5301.853680</td>\n",
              "      <td>6540.991104</td>\n",
              "    </tr>\n",
              "    <tr>\n",
              "      <th>min</th>\n",
              "      <td>10039.595640</td>\n",
              "      <td>10949.649590</td>\n",
              "      <td>12217.226860</td>\n",
              "      <td>14463.918930</td>\n",
              "      <td>16046.03728</td>\n",
              "      <td>16233.717700</td>\n",
              "      <td>17632.410400</td>\n",
              "      <td>19007.191290</td>\n",
              "      <td>18363.324940</td>\n",
              "      <td>21050.413770</td>\n",
              "      <td>23189.801350</td>\n",
              "      <td>25185.009110</td>\n",
              "    </tr>\n",
              "    <tr>\n",
              "      <th>25%</th>\n",
              "      <td>10168.840645</td>\n",
              "      <td>11274.086022</td>\n",
              "      <td>12456.839645</td>\n",
              "      <td>14479.470360</td>\n",
              "      <td>16231.68533</td>\n",
              "      <td>16758.837652</td>\n",
              "      <td>18093.560120</td>\n",
              "      <td>19727.615725</td>\n",
              "      <td>19628.685413</td>\n",
              "      <td>22537.294470</td>\n",
              "      <td>25064.289695</td>\n",
              "      <td>27497.598692</td>\n",
              "    </tr>\n",
              "    <tr>\n",
              "      <th>50%</th>\n",
              "      <td>10298.085650</td>\n",
              "      <td>11598.522455</td>\n",
              "      <td>12696.452430</td>\n",
              "      <td>14495.021790</td>\n",
              "      <td>16417.33338</td>\n",
              "      <td>17283.957605</td>\n",
              "      <td>18554.709840</td>\n",
              "      <td>20448.040160</td>\n",
              "      <td>20894.045885</td>\n",
              "      <td>24024.175170</td>\n",
              "      <td>26938.778040</td>\n",
              "      <td>29810.188275</td>\n",
              "    </tr>\n",
              "    <tr>\n",
              "      <th>75%</th>\n",
              "      <td>10427.330655</td>\n",
              "      <td>11922.958888</td>\n",
              "      <td>12936.065215</td>\n",
              "      <td>14510.573220</td>\n",
              "      <td>16602.98143</td>\n",
              "      <td>17809.077557</td>\n",
              "      <td>19015.859560</td>\n",
              "      <td>21168.464595</td>\n",
              "      <td>22159.406358</td>\n",
              "      <td>25511.055870</td>\n",
              "      <td>28813.266385</td>\n",
              "      <td>32122.777857</td>\n",
              "    </tr>\n",
              "    <tr>\n",
              "      <th>max</th>\n",
              "      <td>10556.575660</td>\n",
              "      <td>12247.395320</td>\n",
              "      <td>13175.678000</td>\n",
              "      <td>14526.124650</td>\n",
              "      <td>16788.62948</td>\n",
              "      <td>18334.197510</td>\n",
              "      <td>19477.009280</td>\n",
              "      <td>21888.889030</td>\n",
              "      <td>23424.766830</td>\n",
              "      <td>26997.936570</td>\n",
              "      <td>30687.754730</td>\n",
              "      <td>34435.367440</td>\n",
              "    </tr>\n",
              "  </tbody>\n",
              "</table>\n",
              "</div>"
            ],
            "text/plain": [
              "       gdpPercap_1952  gdpPercap_1957  ...  gdpPercap_2002  gdpPercap_2007\n",
              "count        2.000000        2.000000  ...        2.000000        2.000000\n",
              "mean     10298.085650    11598.522455  ...    26938.778040    29810.188275\n",
              "std        365.560078      917.644806  ...     5301.853680     6540.991104\n",
              "min      10039.595640    10949.649590  ...    23189.801350    25185.009110\n",
              "25%      10168.840645    11274.086022  ...    25064.289695    27497.598692\n",
              "50%      10298.085650    11598.522455  ...    26938.778040    29810.188275\n",
              "75%      10427.330655    11922.958888  ...    28813.266385    32122.777857\n",
              "max      10556.575660    12247.395320  ...    30687.754730    34435.367440\n",
              "\n",
              "[8 rows x 12 columns]"
            ]
          },
          "metadata": {
            "tags": []
          },
          "execution_count": 164
        }
      ]
    },
    {
      "cell_type": "code",
      "metadata": {
        "colab": {
          "base_uri": "https://localhost:8080/"
        },
        "id": "GP4RdONaz4rn",
        "outputId": "83808710-a2cd-495d-c08f-5d07e59fa765"
      },
      "source": [
        "oceaniaDF.columns"
      ],
      "execution_count": null,
      "outputs": [
        {
          "output_type": "execute_result",
          "data": {
            "text/plain": [
              "Index(['country', 'gdpPercap_1952', 'gdpPercap_1957', 'gdpPercap_1962',\n",
              "       'gdpPercap_1967', 'gdpPercap_1972', 'gdpPercap_1977', 'gdpPercap_1982',\n",
              "       'gdpPercap_1987', 'gdpPercap_1992', 'gdpPercap_1997', 'gdpPercap_2002',\n",
              "       'gdpPercap_2007'],\n",
              "      dtype='object')"
            ]
          },
          "metadata": {
            "tags": []
          },
          "execution_count": 168
        }
      ]
    },
    {
      "cell_type": "code",
      "metadata": {
        "colab": {
          "base_uri": "https://localhost:8080/",
          "height": 35
        },
        "id": "khX8rePk0ZR0",
        "outputId": "32e9e682-b139-425a-e69f-9da32155d866"
      },
      "source": [
        "name[0]"
      ],
      "execution_count": null,
      "outputs": [
        {
          "output_type": "execute_result",
          "data": {
            "application/vnd.google.colaboratory.intrinsic+json": {
              "type": "string"
            },
            "text/plain": [
              "'J'"
            ]
          },
          "metadata": {
            "tags": []
          },
          "execution_count": 172
        }
      ]
    },
    {
      "cell_type": "code",
      "metadata": {
        "id": "KeJo5CUM0zbs"
      },
      "source": [
        "oceaniaDF.index = oceaniaDF['country']"
      ],
      "execution_count": null,
      "outputs": []
    },
    {
      "cell_type": "code",
      "metadata": {
        "colab": {
          "base_uri": "https://localhost:8080/",
          "height": 178
        },
        "id": "tKB_2XtZ1RvO",
        "outputId": "1417dd57-0db0-40c3-e81e-4c4e4e5f33f8"
      },
      "source": [
        "oceaniaDF"
      ],
      "execution_count": null,
      "outputs": [
        {
          "output_type": "execute_result",
          "data": {
            "text/html": [
              "<div>\n",
              "<style scoped>\n",
              "    .dataframe tbody tr th:only-of-type {\n",
              "        vertical-align: middle;\n",
              "    }\n",
              "\n",
              "    .dataframe tbody tr th {\n",
              "        vertical-align: top;\n",
              "    }\n",
              "\n",
              "    .dataframe thead th {\n",
              "        text-align: right;\n",
              "    }\n",
              "</style>\n",
              "<table border=\"1\" class=\"dataframe\">\n",
              "  <thead>\n",
              "    <tr style=\"text-align: right;\">\n",
              "      <th></th>\n",
              "      <th>country</th>\n",
              "      <th>gdpPercap_1952</th>\n",
              "      <th>gdpPercap_1957</th>\n",
              "      <th>gdpPercap_1962</th>\n",
              "      <th>gdpPercap_1967</th>\n",
              "      <th>gdpPercap_1972</th>\n",
              "      <th>gdpPercap_1977</th>\n",
              "      <th>gdpPercap_1982</th>\n",
              "      <th>gdpPercap_1987</th>\n",
              "      <th>gdpPercap_1992</th>\n",
              "      <th>gdpPercap_1997</th>\n",
              "      <th>gdpPercap_2002</th>\n",
              "      <th>gdpPercap_2007</th>\n",
              "    </tr>\n",
              "    <tr>\n",
              "      <th>country</th>\n",
              "      <th></th>\n",
              "      <th></th>\n",
              "      <th></th>\n",
              "      <th></th>\n",
              "      <th></th>\n",
              "      <th></th>\n",
              "      <th></th>\n",
              "      <th></th>\n",
              "      <th></th>\n",
              "      <th></th>\n",
              "      <th></th>\n",
              "      <th></th>\n",
              "      <th></th>\n",
              "    </tr>\n",
              "  </thead>\n",
              "  <tbody>\n",
              "    <tr>\n",
              "      <th>Australia</th>\n",
              "      <td>Australia</td>\n",
              "      <td>10039.59564</td>\n",
              "      <td>10949.64959</td>\n",
              "      <td>12217.22686</td>\n",
              "      <td>14526.12465</td>\n",
              "      <td>16788.62948</td>\n",
              "      <td>18334.19751</td>\n",
              "      <td>19477.00928</td>\n",
              "      <td>21888.88903</td>\n",
              "      <td>23424.76683</td>\n",
              "      <td>26997.93657</td>\n",
              "      <td>30687.75473</td>\n",
              "      <td>34435.36744</td>\n",
              "    </tr>\n",
              "    <tr>\n",
              "      <th>New Zealand</th>\n",
              "      <td>New Zealand</td>\n",
              "      <td>10556.57566</td>\n",
              "      <td>12247.39532</td>\n",
              "      <td>13175.67800</td>\n",
              "      <td>14463.91893</td>\n",
              "      <td>16046.03728</td>\n",
              "      <td>16233.71770</td>\n",
              "      <td>17632.41040</td>\n",
              "      <td>19007.19129</td>\n",
              "      <td>18363.32494</td>\n",
              "      <td>21050.41377</td>\n",
              "      <td>23189.80135</td>\n",
              "      <td>25185.00911</td>\n",
              "    </tr>\n",
              "  </tbody>\n",
              "</table>\n",
              "</div>"
            ],
            "text/plain": [
              "                 country  gdpPercap_1952  ...  gdpPercap_2002  gdpPercap_2007\n",
              "country                                   ...                                \n",
              "Australia      Australia     10039.59564  ...     30687.75473     34435.36744\n",
              "New Zealand  New Zealand     10556.57566  ...     23189.80135     25185.00911\n",
              "\n",
              "[2 rows x 13 columns]"
            ]
          },
          "metadata": {
            "tags": []
          },
          "execution_count": 175
        }
      ]
    },
    {
      "cell_type": "code",
      "metadata": {
        "colab": {
          "base_uri": "https://localhost:8080/"
        },
        "id": "vceanpRH1ZIU",
        "outputId": "991d788d-3a80-433d-bf00-ce20018b763c"
      },
      "source": [
        "oceaniaDF.loc['Australia']"
      ],
      "execution_count": null,
      "outputs": [
        {
          "output_type": "execute_result",
          "data": {
            "text/plain": [
              "country           Australia\n",
              "gdpPercap_1952      10039.6\n",
              "gdpPercap_1957      10949.6\n",
              "gdpPercap_1962      12217.2\n",
              "gdpPercap_1967      14526.1\n",
              "gdpPercap_1972      16788.6\n",
              "gdpPercap_1977      18334.2\n",
              "gdpPercap_1982        19477\n",
              "gdpPercap_1987      21888.9\n",
              "gdpPercap_1992      23424.8\n",
              "gdpPercap_1997      26997.9\n",
              "gdpPercap_2002      30687.8\n",
              "gdpPercap_2007      34435.4\n",
              "Name: Australia, dtype: object"
            ]
          },
          "metadata": {
            "tags": []
          },
          "execution_count": 176
        }
      ]
    },
    {
      "cell_type": "code",
      "metadata": {
        "colab": {
          "base_uri": "https://localhost:8080/"
        },
        "id": "MIJgzdWd1jWv",
        "outputId": "32966806-414e-4e6b-bd8f-e12b6c83b042"
      },
      "source": [
        "oceaniaDF.loc['New Zealand']"
      ],
      "execution_count": null,
      "outputs": [
        {
          "output_type": "execute_result",
          "data": {
            "text/plain": [
              "country           New Zealand\n",
              "gdpPercap_1952        10556.6\n",
              "gdpPercap_1957        12247.4\n",
              "gdpPercap_1962        13175.7\n",
              "gdpPercap_1967        14463.9\n",
              "gdpPercap_1972          16046\n",
              "gdpPercap_1977        16233.7\n",
              "gdpPercap_1982        17632.4\n",
              "gdpPercap_1987        19007.2\n",
              "gdpPercap_1992        18363.3\n",
              "gdpPercap_1997        21050.4\n",
              "gdpPercap_2002        23189.8\n",
              "gdpPercap_2007          25185\n",
              "Name: New Zealand, dtype: object"
            ]
          },
          "metadata": {
            "tags": []
          },
          "execution_count": 177
        }
      ]
    },
    {
      "cell_type": "code",
      "metadata": {
        "colab": {
          "base_uri": "https://localhost:8080/"
        },
        "id": "r1La8MlT1ofx",
        "outputId": "d6331f3b-3eda-489c-bb39-5224568bbe6c"
      },
      "source": [
        "oceaniaDF.loc['Australia']"
      ],
      "execution_count": null,
      "outputs": [
        {
          "output_type": "execute_result",
          "data": {
            "text/plain": [
              "country           Australia\n",
              "gdpPercap_1952      10039.6\n",
              "gdpPercap_1957      10949.6\n",
              "gdpPercap_1962      12217.2\n",
              "gdpPercap_1967      14526.1\n",
              "gdpPercap_1972      16788.6\n",
              "gdpPercap_1977      18334.2\n",
              "gdpPercap_1982        19477\n",
              "gdpPercap_1987      21888.9\n",
              "gdpPercap_1992      23424.8\n",
              "gdpPercap_1997      26997.9\n",
              "gdpPercap_2002      30687.8\n",
              "gdpPercap_2007      34435.4\n",
              "Name: Australia, dtype: object"
            ]
          },
          "metadata": {
            "tags": []
          },
          "execution_count": 180
        }
      ]
    },
    {
      "cell_type": "code",
      "metadata": {
        "id": "PFgcZjyf1sF6"
      },
      "source": [
        "del oceaniaDF['country']"
      ],
      "execution_count": null,
      "outputs": []
    },
    {
      "cell_type": "code",
      "metadata": {
        "colab": {
          "base_uri": "https://localhost:8080/"
        },
        "id": "432qaYky12tz",
        "outputId": "f148c099-466c-4b95-8786-3a971043b6ce"
      },
      "source": [
        "oceaniaDF.loc['Australia'].describe()"
      ],
      "execution_count": null,
      "outputs": [
        {
          "output_type": "execute_result",
          "data": {
            "text/plain": [
              "count       12.000000\n",
              "mean     19980.595634\n",
              "std       7815.405220\n",
              "min      10039.595640\n",
              "25%      13948.900203\n",
              "50%      18905.603395\n",
              "75%      24318.059265\n",
              "max      34435.367440\n",
              "Name: Australia, dtype: float64"
            ]
          },
          "metadata": {
            "tags": []
          },
          "execution_count": 185
        }
      ]
    },
    {
      "cell_type": "code",
      "metadata": {
        "colab": {
          "base_uri": "https://localhost:8080/",
          "height": 283
        },
        "id": "RLDIbApV17RR",
        "outputId": "3da689e4-9aa3-4ae0-a35f-3b103079b829"
      },
      "source": [
        "oceaniaDF.loc['Australia'].plot()"
      ],
      "execution_count": null,
      "outputs": [
        {
          "output_type": "execute_result",
          "data": {
            "text/plain": [
              "<matplotlib.axes._subplots.AxesSubplot at 0x7f9d28e2aed0>"
            ]
          },
          "metadata": {
            "tags": []
          },
          "execution_count": 187
        },
        {
          "output_type": "display_data",
          "data": {
            "image/png": "[encoded data removed]",
            "text/plain": [
              "<Figure size 432x288 with 1 Axes>"
            ]
          },
          "metadata": {
            "tags": []
          }
        }
      ]
    },
    {
      "cell_type": "code",
      "metadata": {
        "id": "aTkC96Kl3HyG"
      },
      "source": [
        "bar = \"bar\""
      ],
      "execution_count": null,
      "outputs": []
    },
    {
      "cell_type": "code",
      "metadata": {
        "colab": {
          "base_uri": "https://localhost:8080/",
          "height": 282
        },
        "id": "x1MnmUkP2LPa",
        "outputId": "45966890-6028-4944-bab5-620c13b5ea3e"
      },
      "source": [
        "oceaniaDF.T.plot(kind='box')"
      ],
      "execution_count": null,
      "outputs": [
        {
          "output_type": "execute_result",
          "data": {
            "text/plain": [
              "<matplotlib.axes._subplots.AxesSubplot at 0x7f9d2722a890>"
            ]
          },
          "metadata": {
            "tags": []
          },
          "execution_count": 202
        },
        {
          "output_type": "display_data",
          "data": {
            "image/png": "[encoded data removed]",
            "text/plain": [
              "<Figure size 432x288 with 1 Axes>"
            ]
          },
          "metadata": {
            "tags": []
          }
        }
      ]
    },
    {
      "cell_type": "markdown",
      "metadata": {
        "id": "LG2aPm1r4DTv"
      },
      "source": [
        "Get a column with slicing: "
      ]
    },
    {
      "cell_type": "code",
      "metadata": {
        "colab": {
          "base_uri": "https://localhost:8080/"
        },
        "id": "m5mkZGAv2bKm",
        "outputId": "1078f9b8-d32b-42cc-93a3-269fcaafb046"
      },
      "source": [
        "oceaniaDF['gdpPercap_1952']"
      ],
      "execution_count": null,
      "outputs": [
        {
          "output_type": "execute_result",
          "data": {
            "text/plain": [
              "country\n",
              "Australia      10039.59564\n",
              "New Zealand    10556.57566\n",
              "Name: gdpPercap_1952, dtype: float64"
            ]
          },
          "metadata": {
            "tags": []
          },
          "execution_count": 203
        }
      ]
    },
    {
      "cell_type": "markdown",
      "metadata": {
        "id": "r1Mw1xjV4GgO"
      },
      "source": [
        "Get a row, by indexing: "
      ]
    },
    {
      "cell_type": "code",
      "metadata": {
        "colab": {
          "base_uri": "https://localhost:8080/"
        },
        "id": "9N8yK_Et4BkX",
        "outputId": "9cec40ff-7b56-4247-98b9-293947ba8064"
      },
      "source": [
        "oceaniaDF.loc['Australia']"
      ],
      "execution_count": null,
      "outputs": [
        {
          "output_type": "execute_result",
          "data": {
            "text/plain": [
              "gdpPercap_1952    10039.59564\n",
              "gdpPercap_1957    10949.64959\n",
              "gdpPercap_1962    12217.22686\n",
              "gdpPercap_1967    14526.12465\n",
              "gdpPercap_1972    16788.62948\n",
              "gdpPercap_1977    18334.19751\n",
              "gdpPercap_1982    19477.00928\n",
              "gdpPercap_1987    21888.88903\n",
              "gdpPercap_1992    23424.76683\n",
              "gdpPercap_1997    26997.93657\n",
              "gdpPercap_2002    30687.75473\n",
              "gdpPercap_2007    34435.36744\n",
              "Name: Australia, dtype: float64"
            ]
          },
          "metadata": {
            "tags": []
          },
          "execution_count": 209
        }
      ]
    },
    {
      "cell_type": "code",
      "metadata": {
        "colab": {
          "base_uri": "https://localhost:8080/",
          "height": 283
        },
        "id": "x1uLg7AQ4MKc",
        "outputId": "3205e581-f3d8-4f18-f566-950e390623bd"
      },
      "source": [
        "oceaniaDF.T.plot()"
      ],
      "execution_count": null,
      "outputs": [
        {
          "output_type": "execute_result",
          "data": {
            "text/plain": [
              "<matplotlib.axes._subplots.AxesSubplot at 0x7f9d27230790>"
            ]
          },
          "metadata": {
            "tags": []
          },
          "execution_count": 216
        },
        {
          "output_type": "display_data",
          "data": {
            "image/png": "[encoded data removed]",
            "text/plain": [
              "<Figure size 432x288 with 1 Axes>"
            ]
          },
          "metadata": {
            "tags": []
          }
        }
      ]
    },
    {
      "cell_type": "code",
      "metadata": {
        "id": "EFRvfJB74rH4"
      },
      "source": [
        "justYears = oceaniaDF.columns.str[-4:]"
      ],
      "execution_count": null,
      "outputs": []
    },
    {
      "cell_type": "code",
      "metadata": {
        "id": "KDmvS6gm9VVw"
      },
      "source": [
        "justYears = list(justYears)"
      ],
      "execution_count": null,
      "outputs": []
    },
    {
      "cell_type": "code",
      "metadata": {
        "colab": {
          "base_uri": "https://localhost:8080/",
          "height": 299
        },
        "id": "eGaiJkxs8jDh",
        "outputId": "27cf1c33-7575-4fbd-d570-cdf88bab0ff0"
      },
      "source": [
        "oceaniaDF.T.plot(title='Australia and NZ GDP')"
      ],
      "execution_count": null,
      "outputs": [
        {
          "output_type": "execute_result",
          "data": {
            "text/plain": [
              "<matplotlib.axes._subplots.AxesSubplot at 0x7f9d269ee090>"
            ]
          },
          "metadata": {
            "tags": []
          },
          "execution_count": 231
        },
        {
          "output_type": "display_data",
          "data": {
            "image/png": "[encoded data removed]",
            "text/plain": [
              "<Figure size 432x288 with 1 Axes>"
            ]
          },
          "metadata": {
            "tags": []
          }
        }
      ]
    },
    {
      "cell_type": "code",
      "metadata": {
        "id": "EHiN6Lpd9R83"
      },
      "source": [
        ""
      ],
      "execution_count": null,
      "outputs": []
    },
    {
      "cell_type": "markdown",
      "metadata": {
        "id": "s6XXPLYY-Yqa"
      },
      "source": [
        "# Exercise: \n",
        "\n",
        "1. Read in gapminder_all CSV from data/ dir, to a Pandas data frame. \n",
        "2. Change the index to be more semantic (i.e., not numeric). \n",
        "3. Select a row or a column (`.loc[]`, `[]`)\n",
        "4. Plot that row or column as whatever kind of chart you like."
      ]
    },
    {
      "cell_type": "code",
      "metadata": {
        "colab": {
          "base_uri": "https://localhost:8080/"
        },
        "id": "9oNpYZvG-uk8",
        "outputId": "36c43cbe-1d32-4127-b3cc-54e20adb32ef"
      },
      "source": [
        "!ls data/"
      ],
      "execution_count": null,
      "outputs": [
        {
          "output_type": "stream",
          "text": [
            "gapminder_all.csv\t  gapminder_gdp_americas.csv  gapminder_gdp_europe.csv\n",
            "gapminder_gdp_africa.csv  gapminder_gdp_asia.csv      gapminder_gdp_oceania.csv\n"
          ],
          "name": "stdout"
        }
      ]
    },
    {
      "cell_type": "code",
      "metadata": {
        "id": "qF1m3nOA-0r3"
      },
      "source": [
        "df = pd.read_csv('data/gapminder_all.csv')"
      ],
      "execution_count": null,
      "outputs": []
    },
    {
      "cell_type": "code",
      "metadata": {
        "id": "LMftR3Gf-8_j"
      },
      "source": [
        "df.index = df['country']"
      ],
      "execution_count": null,
      "outputs": []
    },
    {
      "cell_type": "code",
      "metadata": {
        "colab": {
          "base_uri": "https://localhost:8080/",
          "height": 283
        },
        "id": "CY3Wy5ttDflq",
        "outputId": "7c14d021-62d3-4943-f8da-7d8a68a9377d"
      },
      "source": [
        "df.loc['Algeria']['gdpPercap_1952':'gdpPercap_2007'].plot()"
      ],
      "execution_count": null,
      "outputs": [
        {
          "output_type": "execute_result",
          "data": {
            "text/plain": [
              "<matplotlib.axes._subplots.AxesSubplot at 0x7f9d269875d0>"
            ]
          },
          "metadata": {
            "tags": []
          },
          "execution_count": 244
        },
        {
          "output_type": "display_data",
          "data": {
            "image/png": "[encoded data removed]",
            "text/plain": [
              "<Figure size 432x288 with 1 Axes>"
            ]
          },
          "metadata": {
            "tags": []
          }
        }
      ]
    },
    {
      "cell_type": "code",
      "metadata": {
        "colab": {
          "background_save": true,
          "base_uri": "https://localhost:8080/"
        },
        "id": "A1BzcsH5DoY_",
        "outputId": "82453278-56b8-4a33-898e-e40d344b39f4"
      },
      "source": [
        "df[df.columns.str.startswith('pop')"
      ],
      "execution_count": null,
      "outputs": [
        {
          "output_type": "error",
          "ename": "ValueError",
          "evalue": "ignored",
          "traceback": [
            "\u001b[0;31m---------------------------------------------------------------------------\u001b[0m",
            "\u001b[0;31mValueError\u001b[0m                                Traceback (most recent call last)",
            "\u001b[0;32m<ipython-input-275-57fdac7cac0d>\u001b[0m in \u001b[0;36m<module>\u001b[0;34m()\u001b[0m\n\u001b[0;32m----> 1\u001b[0;31m \u001b[0mdf\u001b[0m\u001b[0;34m[\u001b[0m\u001b[0mdf\u001b[0m\u001b[0;34m.\u001b[0m\u001b[0mcolumns\u001b[0m\u001b[0;34m.\u001b[0m\u001b[0mstr\u001b[0m\u001b[0;34m.\u001b[0m\u001b[0mstartswith\u001b[0m\u001b[0;34m(\u001b[0m\u001b[0;34m'pop'\u001b[0m\u001b[0;34m)\u001b[0m\u001b[0;34m]\u001b[0m\u001b[0;34m\u001b[0m\u001b[0;34m\u001b[0m\u001b[0m\n\u001b[0m",
            "\u001b[0;32m/usr/local/lib/python3.7/dist-packages/pandas/core/frame.py\u001b[0m in \u001b[0;36m__getitem__\u001b[0;34m(self, key)\u001b[0m\n\u001b[1;32m   2895\u001b[0m         \u001b[0;31m# Do we have a (boolean) 1d indexer?\u001b[0m\u001b[0;34m\u001b[0m\u001b[0;34m\u001b[0m\u001b[0;34m\u001b[0m\u001b[0m\n\u001b[1;32m   2896\u001b[0m         \u001b[0;32mif\u001b[0m \u001b[0mcom\u001b[0m\u001b[0;34m.\u001b[0m\u001b[0mis_bool_indexer\u001b[0m\u001b[0;34m(\u001b[0m\u001b[0mkey\u001b[0m\u001b[0;34m)\u001b[0m\u001b[0;34m:\u001b[0m\u001b[0;34m\u001b[0m\u001b[0;34m\u001b[0m\u001b[0m\n\u001b[0;32m-> 2897\u001b[0;31m             \u001b[0;32mreturn\u001b[0m \u001b[0mself\u001b[0m\u001b[0;34m.\u001b[0m\u001b[0m_getitem_bool_array\u001b[0m\u001b[0;34m(\u001b[0m\u001b[0mkey\u001b[0m\u001b[0;34m)\u001b[0m\u001b[0;34m\u001b[0m\u001b[0;34m\u001b[0m\u001b[0m\n\u001b[0m\u001b[1;32m   2898\u001b[0m \u001b[0;34m\u001b[0m\u001b[0m\n\u001b[1;32m   2899\u001b[0m         \u001b[0;31m# We are left with two options: a single key, and a collection of keys,\u001b[0m\u001b[0;34m\u001b[0m\u001b[0;34m\u001b[0m\u001b[0;34m\u001b[0m\u001b[0m\n",
            "\u001b[0;32m/usr/local/lib/python3.7/dist-packages/pandas/core/frame.py\u001b[0m in \u001b[0;36m_getitem_bool_array\u001b[0;34m(self, key)\u001b[0m\n\u001b[1;32m   2942\u001b[0m         \u001b[0;32melif\u001b[0m \u001b[0mlen\u001b[0m\u001b[0;34m(\u001b[0m\u001b[0mkey\u001b[0m\u001b[0;34m)\u001b[0m \u001b[0;34m!=\u001b[0m \u001b[0mlen\u001b[0m\u001b[0;34m(\u001b[0m\u001b[0mself\u001b[0m\u001b[0;34m.\u001b[0m\u001b[0mindex\u001b[0m\u001b[0;34m)\u001b[0m\u001b[0;34m:\u001b[0m\u001b[0;34m\u001b[0m\u001b[0;34m\u001b[0m\u001b[0m\n\u001b[1;32m   2943\u001b[0m             raise ValueError(\n\u001b[0;32m-> 2944\u001b[0;31m                 \u001b[0;34mf\"Item wrong length {len(key)} instead of {len(self.index)}.\"\u001b[0m\u001b[0;34m\u001b[0m\u001b[0;34m\u001b[0m\u001b[0m\n\u001b[0m\u001b[1;32m   2945\u001b[0m             )\n\u001b[1;32m   2946\u001b[0m \u001b[0;34m\u001b[0m\u001b[0m\n",
            "\u001b[0;31mValueError\u001b[0m: Item wrong length 38 instead of 142."
          ]
        }
      ]
    },
    {
      "cell_type": "code",
      "metadata": {
        "colab": {
          "base_uri": "https://localhost:8080/",
          "height": 35
        },
        "id": "v8At4cHkD64P",
        "outputId": "055a9bce-1b7f-45b3-dc14-ecc4aad8f9d2"
      },
      "source": [
        "name[4:8]"
      ],
      "execution_count": null,
      "outputs": [
        {
          "output_type": "execute_result",
          "data": {
            "application/vnd.google.colaboratory.intrinsic+json": {
              "type": "string"
            },
            "text/plain": [
              "'than'"
            ]
          },
          "metadata": {
            "tags": []
          },
          "execution_count": 269
        }
      ]
    },
    {
      "cell_type": "code",
      "metadata": {
        "id": "KcouGp9iFKLi"
      },
      "source": [
        ""
      ],
      "execution_count": null,
      "outputs": []
    }
  ]
}